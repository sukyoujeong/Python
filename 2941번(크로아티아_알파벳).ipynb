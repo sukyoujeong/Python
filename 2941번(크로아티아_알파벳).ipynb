{
  "nbformat": 4,
  "nbformat_minor": 0,
  "metadata": {
    "colab": {
      "name": "2941번(크로아티아 알파벳)",
      "provenance": [],
      "authorship_tag": "ABX9TyPtnS6H2E4hTI3Tf1BBRRN3",
      "include_colab_link": true
    },
    "kernelspec": {
      "name": "python3",
      "display_name": "Python 3"
    },
    "language_info": {
      "name": "python"
    }
  },
  "cells": [
    {
      "cell_type": "markdown",
      "metadata": {
        "id": "view-in-github",
        "colab_type": "text"
      },
      "source": [
        "<a href=\"https://colab.research.google.com/github/sukyoujeong/Python/blob/main/2941%EB%B2%88(%ED%81%AC%EB%A1%9C%EC%95%84%ED%8B%B0%EC%95%84_%EC%95%8C%ED%8C%8C%EB%B2%B3).ipynb\" target=\"_parent\"><img src=\"https://colab.research.google.com/assets/colab-badge.svg\" alt=\"Open In Colab\"/></a>"
      ]
    },
    {
      "cell_type": "markdown",
      "metadata": {
        "id": "doT-_oHAN4JB"
      },
      "source": [
        "replace() 는 없으면 안함......\n",
        "\n",
        "나는 find 함수도 썼는데\n",
        "\n",
        "    for i in range(8):\n",
        "\n",
        "        find_str = input_a.find(b[i])\n",
        "\n",
        "        if find_str !=-1:\n",
        "\n",
        "            changed_input = input_a.replace(b[i],'1')\n",
        "\n",
        "        input_a = changed_input\n",
        "\n",
        "find 를 쓸 필요가 없다!!!!!\n",
        "\n",
        "그리고... input_a 때문에 name error 남.."
      ]
    },
    {
      "cell_type": "code",
      "metadata": {
        "colab": {
          "base_uri": "https://localhost:8080/"
        },
        "id": "8TuKNZw_G2_J",
        "outputId": "d9456be1-3c2c-4813-d3dd-0b4cd8241f20"
      },
      "source": [
        "a = 'c= c- dz= d- lj nj s= z='\n",
        "b= a.split()\n",
        "\n",
        "c = input()\n",
        "\n",
        "for i in range(8):\n",
        "    c= c.replace(b[i],'1')\n",
        "\n",
        "\n",
        "print(len(c))\n",
        "\n",
        "\n"
      ],
      "execution_count": null,
      "outputs": [
        {
          "output_type": "stream",
          "text": [
            "ac=\n",
            "2\n"
          ],
          "name": "stdout"
        }
      ]
    }
  ]
}