{
  "nbformat": 4,
  "nbformat_minor": 0,
  "metadata": {
    "colab": {
      "name": "21.08.19",
      "provenance": [],
      "collapsed_sections": [],
      "authorship_tag": "ABX9TyO7Ixi/ArNzLmlzf/KdNrBP",
      "include_colab_link": true
    },
    "kernelspec": {
      "name": "python3",
      "display_name": "Python 3"
    },
    "language_info": {
      "name": "python"
    }
  },
  "cells": [
    {
      "cell_type": "markdown",
      "metadata": {
        "id": "view-in-github",
        "colab_type": "text"
      },
      "source": [
        "<a href=\"https://colab.research.google.com/github/sukyoujeong/Python/blob/main/21_08_19.ipynb\" target=\"_parent\"><img src=\"https://colab.research.google.com/assets/colab-badge.svg\" alt=\"Open In Colab\"/></a>"
      ]
    },
    {
      "cell_type": "code",
      "metadata": {
        "colab": {
          "base_uri": "https://localhost:8080/"
        },
        "id": "6Aet3wmK4r7K",
        "outputId": "6d75eadb-d835-4809-b593-7a19f68040f3"
      },
      "source": [
        "#2675\n",
        "T = int(input())\n",
        "for k in range(T):\n",
        "    R = input().split()\n",
        "    R[0] = int(R[0])\n",
        "    for i in range(len(R[1])):\n",
        "        print(R[1][i]*R[0],end = \"\")\n",
        "    print()"
      ],
      "execution_count": null,
      "outputs": [
        {
          "output_type": "stream",
          "text": [
            "2\n",
            "3 ABC\n",
            "AAABBBCCC\n",
            "5 /hTP\n",
            "/////hhhhhTTTTTPPPPP\n"
          ],
          "name": "stdout"
        }
      ]
    },
    {
      "cell_type": "code",
      "metadata": {
        "colab": {
          "base_uri": "https://localhost:8080/"
        },
        "id": "V6EDtRbu5K0t",
        "outputId": "4eabb28d-9bd7-49d2-b162-8d84040a03ed"
      },
      "source": [
        "#1157\n",
        "\n",
        "#S = sys.stdin.readline().rstrip() input 대신에 시간줄이려궁..\n",
        "\n",
        "S = input()\n",
        "S1 = S.upper()\n",
        "\n",
        "alphabet = \"ABCDEFGHIJKLMNOPQRSTUVWXYZ\"\n",
        "alphabet_num = [0,0,0,0,0,0,0,\\\n",
        "                0,0,0,0,0,0,0,\\\n",
        "                0,0,0,0,0,0,0,\\\n",
        "                0,0,0,0,0]\n",
        "\n",
        "for i in range(len(S1)):\n",
        "    for j in range(len(alphabet)):\n",
        "        if S1[i] == alphabet[j]:\n",
        "            alphabet_num[j] +=1\n",
        "found = 0\n",
        "max = 0\n",
        "for i in range(26):\n",
        "    if alphabet_num[i]>max:\n",
        "        max = alphabet_num[i]\n",
        "        max_alphabet = alphabet[i]\n",
        "        max_alphabet_num = i\n",
        "    \n",
        "\n",
        "for i in range(len(alphabet_num)):\n",
        "    if alphabet_num[i] == max and max_alphabet_num != i:\n",
        "        print(\"?\")\n",
        "        found =1\n",
        "        break\n",
        "\n",
        "if found == 0:\n",
        "    print(max_alphabet)\n"
      ],
      "execution_count": null,
      "outputs": [
        {
          "output_type": "stream",
          "text": [
            "zabc\n",
            "?\n"
          ],
          "name": "stdout"
        }
      ]
    },
    {
      "cell_type": "code",
      "metadata": {
        "colab": {
          "base_uri": "https://localhost:8080/"
        },
        "id": "tbMnziVJ-iK3",
        "outputId": "55008438-8e85-4efb-a48a-0b47c13e3bbd"
      },
      "source": [
        "#1152\n",
        "\n",
        "string = input().split()\n",
        "\n",
        "print(len(string))"
      ],
      "execution_count": null,
      "outputs": [
        {
          "output_type": "stream",
          "text": [
            "abc def \n",
            "2\n"
          ],
          "name": "stdout"
        }
      ]
    },
    {
      "cell_type": "code",
      "metadata": {
        "colab": {
          "base_uri": "https://localhost:8080/"
        },
        "id": "lFkb3hz3Kitz",
        "outputId": "4e4bd5c3-72f0-459b-867b-baa64d437d74"
      },
      "source": [
        "#2908\n",
        "\n",
        "num = input().split()\n",
        "num1 = int(num[0])\n",
        "num2 = int(num[1])\n",
        "\n",
        "num1_ss = num1%10 * 100 + (num1//10)%10 *10 + (num1//100)\n",
        "num2_ss = num2%10 *100 + (num2//10)%10 *10 + (num2//100)\n",
        "\n",
        "if num1_ss>num2_ss:\n",
        "    print(num1_ss)\n",
        "else:\n",
        "    print(num2_ss)"
      ],
      "execution_count": null,
      "outputs": [
        {
          "output_type": "stream",
          "text": [
            "221 231\n",
            "132\n"
          ],
          "name": "stdout"
        }
      ]
    },
    {
      "cell_type": "code",
      "metadata": {
        "colab": {
          "base_uri": "https://localhost:8080/"
        },
        "id": "C47sEtiPK4H7",
        "outputId": "befe1f5f-3df9-4eb0-97a1-736e529cda18"
      },
      "source": [
        "#5622\n",
        "\n",
        "alphabet = \"ABCDEFGHIJKLMNOPQRSTUVWXYZ\"\n",
        "num = [2,2,2,3,3,3,4,4,4,5,5,5,6,6,6,7,7,7,7,8,8,8,9,9,9,9]\n",
        "word_num = [0,0,0,0,0,0,0,0,0,0,0,0,0,0,0,0,0,0]\n",
        "word = input()\n",
        "\n",
        "for i in range(len(word)):\n",
        "    for j in range(len(alphabet)):\n",
        "        if word[i] == alphabet[j]:\n",
        "            word_num[i] = num[j]\n",
        "\n",
        "            break\n",
        "\n",
        "sum = 0\n",
        "for i in range(len(word)):\n",
        "    word_num[i] = word_num[i]+1\n",
        "    sum +=word_num[i]\n",
        "\n",
        "print(sum)"
      ],
      "execution_count": null,
      "outputs": [
        {
          "output_type": "stream",
          "text": [
            "UNUCIC\n",
            "36\n"
          ],
          "name": "stdout"
        }
      ]
    }
  ]
}