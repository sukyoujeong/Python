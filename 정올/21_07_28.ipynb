{
  "nbformat": 4,
  "nbformat_minor": 0,
  "metadata": {
    "colab": {
      "name": "21.07.28",
      "provenance": []
    },
    "kernelspec": {
      "name": "python3",
      "display_name": "Python 3"
    },
    "language_info": {
      "name": "python"
    }
  },
  "cells": [
    {
      "cell_type": "code",
      "metadata": {
        "colab": {
          "base_uri": "https://localhost:8080/"
        },
        "id": "zXaP7E8zAjEn",
        "outputId": "8e8af6a2-250b-44e0-dbda-4889d95bf0d5"
      },
      "source": [
        "#700\n",
        "print('Python')"
      ],
      "execution_count": 2,
      "outputs": [
        {
          "output_type": "stream",
          "text": [
            "Python\n"
          ],
          "name": "stdout"
        }
      ]
    },
    {
      "cell_type": "code",
      "metadata": {
        "colab": {
          "base_uri": "https://localhost:8080/"
        },
        "id": "D2hqMQzmAxaS",
        "outputId": "ac51345b-859c-472a-bcb4-199ca03dff47"
      },
      "source": [
        "#701\n",
        "print('Score:')\n",
        "print(100)\n",
        "print('GREAT!')"
      ],
      "execution_count": 6,
      "outputs": [
        {
          "output_type": "stream",
          "text": [
            "Score:\n",
            "100\n",
            "GREAT!\n"
          ],
          "name": "stdout"
        }
      ]
    },
    {
      "cell_type": "code",
      "metadata": {
        "colab": {
          "base_uri": "https://localhost:8080/"
        },
        "id": "x2n1gZNwBBaZ",
        "outputId": "7f6f60c0-791a-4345-9bdf-b190aa090902"
      },
      "source": [
        "#702\n",
        "print('My height')\n",
        "print(170)\n",
        "print('My weight')\n",
        "print(68.6)"
      ],
      "execution_count": 7,
      "outputs": [
        {
          "output_type": "stream",
          "text": [
            "My height\n",
            "170\n",
            "My weight\n",
            "68.6\n"
          ],
          "name": "stdout"
        }
      ]
    },
    {
      "cell_type": "code",
      "metadata": {
        "colab": {
          "base_uri": "https://localhost:8080/"
        },
        "id": "HJlSkdnVBa7P",
        "outputId": "98c3c8a5-b90d-414d-b839-573bb6a67ebd"
      },
      "source": [
        "#703\n",
        "print(\"1plus1\",\"=\", \"Gwi yo mi\")      #쉼표쓰면 띄워쓰기 되더라!"
      ],
      "execution_count": 9,
      "outputs": [
        {
          "output_type": "stream",
          "text": [
            "1plus1 = Gwi yo mi\n"
          ],
          "name": "stdout"
        }
      ]
    },
    {
      "cell_type": "code",
      "metadata": {
        "colab": {
          "base_uri": "https://localhost:8080/"
        },
        "id": "95l20gAUBuMZ",
        "outputId": "e764a860-548f-4e51-eb34-eee398f4bed8"
      },
      "source": [
        "#704\n",
        "print(\"(@) (@)\")\n",
        "print(\"(=^.^=)\")\n",
        "print(\"(-m-m-)\")"
      ],
      "execution_count": 12,
      "outputs": [
        {
          "output_type": "stream",
          "text": [
            "(@) (@)\n",
            "(=^.^=)\n",
            "(-m-m-)\n"
          ],
          "name": "stdout"
        }
      ]
    },
    {
      "cell_type": "code",
      "metadata": {
        "colab": {
          "base_uri": "https://localhost:8080/"
        },
        "id": "z1O3s89zCOnC",
        "outputId": "ed84e6ed-4ff4-4c87-a702-784ffbf36979"
      },
      "source": [
        "#705\n",
        "print(5,\"Dan\")\n",
        "print(\"5 * 2 =\",5*2)"
      ],
      "execution_count": 14,
      "outputs": [
        {
          "output_type": "stream",
          "text": [
            "5 Dan\n",
            "5 * 2 = 10\n"
          ],
          "name": "stdout"
        }
      ]
    },
    {
      "cell_type": "code",
      "metadata": {
        "colab": {
          "base_uri": "https://localhost:8080/"
        },
        "id": "mmkstfAHDED9",
        "outputId": "dccef1a1-9c4a-430a-f50e-aade763f8714"
      },
      "source": [
        "#706\n",
        "print(\"6 + 2 =\",6+2)\n",
        "print(\"6 - 2 =\",6-2)\n",
        "print(\"6 * 2 =\",6*2)\n",
        "print(\"6 / 2 =\",6/2)"
      ],
      "execution_count": 15,
      "outputs": [
        {
          "output_type": "stream",
          "text": [
            "6 + 2 = 8\n",
            "6 - 2 = 4\n",
            "6 * 2 = 12\n",
            "6 / 2 =  3.0\n"
          ],
          "name": "stdout"
        }
      ]
    },
    {
      "cell_type": "code",
      "metadata": {
        "colab": {
          "base_uri": "https://localhost:8080/"
        },
        "id": "dvzvqQmGDWWl",
        "outputId": "f2fcc1bc-387f-4520-eb22-ad5857bb318a"
      },
      "source": [
        "#707\n",
        "print(\"My name is Hong\")"
      ],
      "execution_count": 16,
      "outputs": [
        {
          "output_type": "stream",
          "text": [
            "My name is Hong\n"
          ],
          "name": "stdout"
        }
      ]
    },
    {
      "cell_type": "code",
      "metadata": {
        "colab": {
          "base_uri": "https://localhost:8080/"
        },
        "id": "cJzsMdJYDikX",
        "outputId": "386fcf3e-3f7e-43cc-af48-9d8d583c0fe7"
      },
      "source": [
        "#708\n",
        "print(\"My hometown\")\n",
        "print(\"Flowering mountain\")"
      ],
      "execution_count": 17,
      "outputs": [
        {
          "output_type": "stream",
          "text": [
            "My hometown\n",
            "Flowering mountain\n"
          ],
          "name": "stdout"
        }
      ]
    },
    {
      "cell_type": "code",
      "metadata": {
        "colab": {
          "base_uri": "https://localhost:8080/"
        },
        "id": "o_6GGNwSDqYy",
        "outputId": "4d3e5d6f-44a5-442e-f14c-1152c42e3929"
      },
      "source": [
        "#709\n",
        "print(\"TTTTTTTTTT\")\n",
        "print(\"TTTTTTTTTT\")\n",
        "print(\"    TT    \")\n",
        "print(\"    TT\")\n",
        "print(\"    TT\")"
      ],
      "execution_count": 19,
      "outputs": [
        {
          "output_type": "stream",
          "text": [
            "TTTTTTTTTT\n",
            "TTTTTTTTTT\n",
            "    TT    \n",
            "    TT\n",
            "    TT\n"
          ],
          "name": "stdout"
        }
      ]
    },
    {
      "cell_type": "code",
      "metadata": {
        "colab": {
          "base_uri": "https://localhost:8080/"
        },
        "id": "HQMQ4_ViD3CI",
        "outputId": "c4dc25b6-fa2f-47a7-dc30-2b5a7401ce61"
      },
      "source": [
        "#710\n",
        "print(\"kor\",90)\n",
        "print(\"mat\",80)\n",
        "print(\"eng\",100)\n",
        "print(\"sum\",90+80+100)\n",
        "print(\"avg\",(90+80+100)//3)   #정수 나누기"
      ],
      "execution_count": 20,
      "outputs": [
        {
          "output_type": "stream",
          "text": [
            "kor 90\n",
            "mat 80\n",
            "eng 100\n",
            "sum 270\n",
            "avg 90\n"
          ],
          "name": "stdout"
        }
      ]
    },
    {
      "cell_type": "code",
      "metadata": {
        "colab": {
          "base_uri": "https://localhost:8080/"
        },
        "id": "jf9o02jvERHH",
        "outputId": "346f545f-679b-4f1e-cab6-55f1007ce62b"
      },
      "source": [
        "#720\n",
        "num = -100\n",
        "print(num)"
      ],
      "execution_count": 21,
      "outputs": [
        {
          "output_type": "stream",
          "text": [
            "-100\n"
          ],
          "name": "stdout"
        }
      ]
    },
    {
      "cell_type": "code",
      "metadata": {
        "colab": {
          "base_uri": "https://localhost:8080/"
        },
        "id": "YLM1t90PEm68",
        "outputId": "403fb6b4-748a-461c-a3b7-2e74abf0ddf7"
      },
      "source": [
        "#721\n",
        "num1 = -1\n",
        "num2 = 100\n",
        "print(num1)\n",
        "print(num2)"
      ],
      "execution_count": 22,
      "outputs": [
        {
          "output_type": "stream",
          "text": [
            "-1\n",
            "100\n"
          ],
          "name": "stdout"
        }
      ]
    },
    {
      "cell_type": "code",
      "metadata": {
        "colab": {
          "base_uri": "https://localhost:8080/"
        },
        "id": "kXKUVlwcEv3t",
        "outputId": "31d11c8c-634c-4629-d1ab-8d168c685185"
      },
      "source": [
        "#722\n",
        "num1 = 55\n",
        "num2 = 10\n",
        "print(num1,\"-\",num2,\"=\",num1-num2)\n",
        "\n",
        "num1 = 2008\n",
        "num2 = 1999\n",
        "print(num1,\"-\",num2,\"=\",num1-num2)\n"
      ],
      "execution_count": 23,
      "outputs": [
        {
          "output_type": "stream",
          "text": [
            "55 - 10 = 45\n",
            "2008 - 1999 = 9\n"
          ],
          "name": "stdout"
        }
      ]
    },
    {
      "cell_type": "code",
      "metadata": {
        "colab": {
          "base_uri": "https://localhost:8080/"
        },
        "id": "BwnIShP9FEzu",
        "outputId": "8d3de8c1-56e4-4eb4-f418-b22a32fd6156"
      },
      "source": [
        "#723\n",
        "weight = 49\n",
        "gravity = 0.2683\n",
        "\n",
        "print(weight,\"*\",gravity,\"=\",weight*gravity)"
      ],
      "execution_count": 24,
      "outputs": [
        {
          "output_type": "stream",
          "text": [
            "49 * 0.2683 = 13.1467\n"
          ],
          "name": "stdout"
        }
      ]
    },
    {
      "cell_type": "code",
      "metadata": {
        "colab": {
          "base_uri": "https://localhost:8080/"
        },
        "id": "L-8Oq_J9FWg1",
        "outputId": "f4ee0bfc-6438-4d3e-df60-3c86994c6d1b"
      },
      "source": [
        "#724\n",
        "name = input(\"School? \")\n",
        "\n",
        "print(\"Your school is\",name)"
      ],
      "execution_count": 32,
      "outputs": [
        {
          "output_type": "stream",
          "text": [
            "School? ewef\n",
            "Your school is ewef.\n"
          ],
          "name": "stdout"
        }
      ]
    },
    {
      "cell_type": "code",
      "metadata": {
        "colab": {
          "base_uri": "https://localhost:8080/"
        },
        "id": "4mg36Ja8FlBf",
        "outputId": "37ba8ed5-1913-4e02-e881-602582bcd39b"
      },
      "source": [
        "#725\n",
        "num1 = input(\"Number 1? \")\n",
        "num2 = input(\"Number 2? \")\n",
        "\n",
        "int_a = int(num1)\n",
        "int_b = int(num2)\n",
        "\n",
        "print(int_a,\"*\",int_b,\"=\",int_a*int_b)\n",
        "print(int_a,\"/\",int_b,\"=\",int_a/int_b)    #input은 str인것 잊지않기"
      ],
      "execution_count": 39,
      "outputs": [
        {
          "output_type": "stream",
          "text": [
            "Number 1? 16\n",
            "Number 2? 5\n",
            "16 * 5 = 80\n",
            "16 / 5 = 3.2\n"
          ],
          "name": "stdout"
        }
      ]
    },
    {
      "cell_type": "code",
      "metadata": {
        "colab": {
          "base_uri": "https://localhost:8080/"
        },
        "id": "XHRXV_zGH9II",
        "outputId": "5f3f1a6f-a279-4108-eb68-5c9bf1204d6b"
      },
      "source": [
        "#726\n",
        "garo = input(\"Garo? \")\n",
        "sero = input(\"Sero? \")\n",
        "\n",
        "num1= float(garo)\n",
        "num2= float(sero)\n",
        "\n",
        "print(num1*num2)"
      ],
      "execution_count": 40,
      "outputs": [
        {
          "output_type": "stream",
          "text": [
            "Garo? 2.5\n",
            "Sero? 4.0\n",
            "10.0\n"
          ],
          "name": "stdout"
        }
      ]
    },
    {
      "cell_type": "code",
      "metadata": {
        "colab": {
          "base_uri": "https://localhost:8080/"
        },
        "id": "JIePeiF3KlVl",
        "outputId": "be28e75f-e38f-415c-cf51-48f2f462ace1"
      },
      "source": [
        "#727\n",
        "print1 = input()\n",
        "print2 = input()\n",
        "print3 = input()\n",
        "\n",
        "print(print1)\n",
        "print(print2)\n",
        "print(print3)"
      ],
      "execution_count": 42,
      "outputs": [
        {
          "output_type": "stream",
          "text": [
            "Hello. I love\n",
            "studying computer\n",
            "very much.\n",
            "Hello. I love\n",
            "studying computer\n",
            "very much.\n"
          ],
          "name": "stdout"
        }
      ]
    },
    {
      "cell_type": "code",
      "metadata": {
        "colab": {
          "base_uri": "https://localhost:8080/"
        },
        "id": "oA9qvJC6K5Cc",
        "outputId": "ccba9220-3e09-42a2-c33f-33ef1449a9d3"
      },
      "source": [
        "#728\n",
        "num1 = 10\n",
        "num2 = 20\n",
        "num3 = 30\n",
        "print(num1,\"+\",num2,\"=\",num3)"
      ],
      "execution_count": 44,
      "outputs": [
        {
          "output_type": "stream",
          "text": [
            "10 + 20 = 30\n"
          ],
          "name": "stdout"
        }
      ]
    },
    {
      "cell_type": "code",
      "metadata": {
        "colab": {
          "base_uri": "https://localhost:8080/"
        },
        "id": "-_EuZ7h1LRC4",
        "outputId": "38e69678-0f0a-4198-a647-979b177f6ae7"
      },
      "source": [
        "#729\n",
        "num1 = 80.5\n",
        "num2 = 22.34\n",
        "print(num1,num2,num1+num2)"
      ],
      "execution_count": 45,
      "outputs": [
        {
          "output_type": "stream",
          "text": [
            "80.5 22.34 102.84\n"
          ],
          "name": "stdout"
        }
      ]
    },
    {
      "cell_type": "code",
      "metadata": {
        "colab": {
          "base_uri": "https://localhost:8080/"
        },
        "id": "PT6M4eu-LfCb",
        "outputId": "d82fcf91-6967-453a-ca29-0de528ee936d"
      },
      "source": [
        "#730\n",
        "num1 = 50\n",
        "num2 = 10.5\n",
        "\n",
        "print(num2,\"*\",num1,\"=\",num1*num2)"
      ],
      "execution_count": 50,
      "outputs": [
        {
          "output_type": "stream",
          "text": [
            "10.5 * 50 = 525.0\n"
          ],
          "name": "stdout"
        }
      ]
    },
    {
      "cell_type": "code",
      "metadata": {
        "colab": {
          "base_uri": "https://localhost:8080/"
        },
        "id": "r8OlUVCdLtUy",
        "outputId": "4efb2041-5c00-4689-c0a0-4ee164f78575"
      },
      "source": [
        "#731\n",
        "num1 = input()\n",
        "num2 = input()\n",
        "num3 = input()\n",
        "\n",
        "int_a = int(num1)\n",
        "int_b = int(num2)\n",
        "int_c = int(num3)\n",
        "\n",
        "print(\"sum =\",int_a+int_b+int_c)\n",
        "print(\"avg =\",(int_a+int_b+int_c)//3)"
      ],
      "execution_count": 51,
      "outputs": [
        {
          "output_type": "stream",
          "text": [
            "20\n",
            "50\n",
            "100\n",
            "sum = 170\n",
            "avg = 56\n"
          ],
          "name": "stdout"
        }
      ]
    },
    {
      "cell_type": "code",
      "metadata": {
        "colab": {
          "base_uri": "https://localhost:8080/"
        },
        "id": "cYw0xg1WMwc1",
        "outputId": "eb80fc3d-d9a4-4118-8662-cd6e6f7658c7"
      },
      "source": [
        "#732\n",
        "num = input(\"yard? \")\n",
        "\n",
        "float_a = float(num)\n",
        "\n",
        "print(float_a,\"yard =\",91.44*float_a,\"cm\")"
      ],
      "execution_count": 52,
      "outputs": [
        {
          "output_type": "stream",
          "text": [
            "yard? 10.1\n",
            "10.1 yard = 923.544 cm\n"
          ],
          "name": "stdout"
        }
      ]
    },
    {
      "cell_type": "code",
      "metadata": {
        "id": "ePXr4Tj9NI7j"
      },
      "source": [
        ""
      ],
      "execution_count": null,
      "outputs": []
    }
  ]
}