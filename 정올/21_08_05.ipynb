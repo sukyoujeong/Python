{
  "nbformat": 4,
  "nbformat_minor": 0,
  "metadata": {
    "colab": {
      "name": "21.08.05",
      "provenance": []
    },
    "kernelspec": {
      "name": "python3",
      "display_name": "Python 3"
    },
    "language_info": {
      "name": "python"
    }
  },
  "cells": [
    {
      "cell_type": "code",
      "metadata": {
        "colab": {
          "base_uri": "https://localhost:8080/"
        },
        "id": "YGPyFaEnIyXQ",
        "outputId": "13d341f1-ae55-47a8-b7c5-573cdc9c77d2"
      },
      "source": [
        "#761\n",
        "a= input().split()\n",
        "\n",
        "print(a[1],a[0]+a[1])\n"
      ],
      "execution_count": 3,
      "outputs": [
        {
          "output_type": "stream",
          "text": [
            "lion tiger\n",
            "tiger liontiger\n"
          ],
          "name": "stdout"
        }
      ]
    },
    {
      "cell_type": "code",
      "metadata": {
        "colab": {
          "base_uri": "https://localhost:8080/"
        },
        "id": "uOygMFvuNAfg",
        "outputId": "eb963a57-ec37-452c-b71f-fa22e8675f8c"
      },
      "source": [
        "#762\n",
        "a = input().split()\n",
        "b= input().split()\n",
        "\n",
        "print(\"{} age + {} age = {}\".format(a[0],b[0],int(a[1])+int(b[1])))"
      ],
      "execution_count": 6,
      "outputs": [
        {
          "output_type": "stream",
          "text": [
            "chulsoo 15\n",
            "minho 18\n",
            "chulsoo age + minho age = 33\n"
          ],
          "name": "stdout"
        }
      ]
    },
    {
      "cell_type": "code",
      "metadata": {
        "colab": {
          "base_uri": "https://localhost:8080/"
        },
        "id": "AUVJ1h83NaLZ",
        "outputId": "4e8f4035-9688-4ea4-eb6c-382d0f62a24f"
      },
      "source": [
        "#763\n",
        "a = input()\n",
        "b = input()\n",
        "\n",
        "print(a.strip(),b.strip())    #strip은 문자열 양옆의 공백 제거"
      ],
      "execution_count": 7,
      "outputs": [
        {
          "output_type": "stream",
          "text": [
            "i love u.      \n",
            "you love me     \n",
            "i love u.you love me\n"
          ],
          "name": "stdout"
        }
      ]
    },
    {
      "cell_type": "code",
      "metadata": {
        "id": "B-pUhr47OG8S"
      },
      "source": [
        "#764\n",
        "a = input().split()\n",
        "b = input().split()\n",
        "c = input().split()\n",
        "\n",
        "print(\"{} sounds {}.\".format(a[0],a[1]))\n",
        "print(\"{} sounds {}.\".format(b[0],b[1]))\n",
        "print(\"{} sounds {}.\".format(c[0],c[1]))"
      ],
      "execution_count": null,
      "outputs": []
    },
    {
      "cell_type": "code",
      "metadata": {
        "colab": {
          "base_uri": "https://localhost:8080/"
        },
        "id": "gtbhMNXSO3HO",
        "outputId": "3edc2e89-975f-4b34-a427-6e24e00952fe"
      },
      "source": [
        "#765\n",
        "name = input()\n",
        "id = input()\n",
        "avg = \"{:.2f}\".format(float(input()))\n",
        "\n",
        "\n",
        "print(\"I am {}(IdNo. {}). I got {} in my midterm exam.\".format(name,id,avg))"
      ],
      "execution_count": 16,
      "outputs": [
        {
          "output_type": "stream",
          "text": [
            "aaa\n",
            "24\n",
            "12.243\n",
            "I am aaa(IdNo. 24). I got 12.24 in my midterm exam.\n"
          ],
          "name": "stdout"
        }
      ]
    },
    {
      "cell_type": "code",
      "metadata": {
        "colab": {
          "base_uri": "https://localhost:8080/"
        },
        "id": "ptVW_iFpPhvV",
        "outputId": "721c137b-79cb-4d5c-e6b0-35953e22ab65"
      },
      "source": [
        "#766\n",
        "a = input().split()\n",
        "\n",
        "reversed_a = a[::-1]\n",
        "\n",
        "for i in range(4):\n",
        "  print(reversed_a[i], end = ' ')   #쪼롬히..쓸거임"
      ],
      "execution_count": 22,
      "outputs": [
        {
          "output_type": "stream",
          "text": [
            "어 싫 기 하\n",
            "하 기 싫 어 "
          ],
          "name": "stdout"
        }
      ]
    },
    {
      "cell_type": "code",
      "metadata": {
        "colab": {
          "base_uri": "https://localhost:8080/"
        },
        "id": "Pg3KNqNDQ141",
        "outputId": "c7d57372-b0ce-4755-82fc-d408f59a36d1"
      },
      "source": [
        "#767\n",
        "a = input().split()\n",
        "\n",
        "print((int(a[0])+int(a[1]))*int(a[2])/2)"
      ],
      "execution_count": 25,
      "outputs": [
        {
          "output_type": "stream",
          "text": [
            "2 3 5\n",
            "12.5\n"
          ],
          "name": "stdout"
        }
      ]
    },
    {
      "cell_type": "code",
      "metadata": {
        "colab": {
          "base_uri": "https://localhost:8080/"
        },
        "id": "GAf0SwbyTUfa",
        "outputId": "c351ce09-ba57-4437-c2fd-1f0884cbce4d"
      },
      "source": [
        "#768\n",
        "a = input()\n",
        "b = input()\n",
        "c = input()\n",
        "d = input()\n",
        "\n",
        "print(\"{}: {}\".format(a,b))\n",
        "print(\"{}: {}\".format(c,d))"
      ],
      "execution_count": 26,
      "outputs": [
        {
          "output_type": "stream",
          "text": [
            "queen\n",
            "bohemian\n",
            "beatles\n",
            "let it be\n",
            "queen: bohemian\n",
            "beatles: let it be\n"
          ],
          "name": "stdout"
        }
      ]
    },
    {
      "cell_type": "code",
      "metadata": {
        "colab": {
          "base_uri": "https://localhost:8080/"
        },
        "id": "YQPzdC75TzvK",
        "outputId": "3a66d4ad-e67b-4c92-e173-bf80d2ed0f94"
      },
      "source": [
        "#769\n",
        "a= float(input(\"lb? \"))\n",
        "input_a = \"{:.1f}\".format(a)\n",
        "b = a*0.45\n",
        "input_b = \"{:.1f}\".format(b)\n",
        "\n",
        "print(\"{} is {}kg.\".format(input_a,input_b))"
      ],
      "execution_count": 36,
      "outputs": [
        {
          "output_type": "stream",
          "text": [
            "lb? 65.73\n",
            "65.7lb is 29.6kg.\n"
          ],
          "name": "stdout"
        }
      ]
    }
  ]
}