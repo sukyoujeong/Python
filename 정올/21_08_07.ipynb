{
  "nbformat": 4,
  "nbformat_minor": 0,
  "metadata": {
    "colab": {
      "name": "21.08.07",
      "provenance": []
    },
    "kernelspec": {
      "name": "python3",
      "display_name": "Python 3"
    },
    "language_info": {
      "name": "python"
    }
  },
  "cells": [
    {
      "cell_type": "code",
      "metadata": {
        "colab": {
          "base_uri": "https://localhost:8080/"
        },
        "id": "JQ1aD0Z5WQa1",
        "outputId": "995bf6be-0b4c-43cd-fc3f-d792df2c59f7"
      },
      "source": [
        "#1291\n",
        "\n",
        "while True:\n",
        "  input_a = input().split()\n",
        "  s = int(input_a[0])\n",
        "  e = int(input_a[1])\n",
        "\n",
        "  if (s>9 or s<2) or (e>9 or e<2):    #or이랑 and 헷갈리지말기\n",
        "    print(\"INPUT ERROR!\")\n",
        "  else:\n",
        "    break\n",
        "\n",
        "if s<e:\n",
        "  for i in range(1,10):\n",
        "    for j in range(s,e+1):\n",
        "      print(\"{} * {} = {:2d}\".format(j,i,j*i),\"  \",end = '')  #간격맞추기\n",
        "    print()\n",
        "else:\n",
        "  for i in range(1,10):\n",
        "    for k in range(s,e-1,-1):\n",
        "      print(\"{} * {} = {:2d}\".format(k,i,k*i),\"  \",end = '')\n",
        "    print()\n"
      ],
      "execution_count": 45,
      "outputs": [
        {
          "output_type": "stream",
          "text": [
            "5 3\n",
            "5 * 1 =  5   4 * 1 =  4   3 * 1 =  3   \n",
            "5 * 2 = 10   4 * 2 =  8   3 * 2 =  6   \n",
            "5 * 3 = 15   4 * 3 = 12   3 * 3 =  9   \n",
            "5 * 4 = 20   4 * 4 = 16   3 * 4 = 12   \n",
            "5 * 5 = 25   4 * 5 = 20   3 * 5 = 15   \n",
            "5 * 6 = 30   4 * 6 = 24   3 * 6 = 18   \n",
            "5 * 7 = 35   4 * 7 = 28   3 * 7 = 21   \n",
            "5 * 8 = 40   4 * 8 = 32   3 * 8 = 24   \n",
            "5 * 9 = 45   4 * 9 = 36   3 * 9 = 27   \n"
          ],
          "name": "stdout"
        }
      ]
    },
    {
      "cell_type": "code",
      "metadata": {
        "colab": {
          "base_uri": "https://localhost:8080/"
        },
        "id": "kM4ogzxBYUvM",
        "outputId": "19fa37d0-924b-44aa-fa78-77495f9216e7"
      },
      "source": [
        "#1341\n",
        "\n",
        "\n",
        "while True:\n",
        "  input_a = input().split()\n",
        "  s = int(input_a[0])\n",
        "  e = int(input_a[1])\n",
        "\n",
        "  if (s>9 or s<2) or (e>9 or e<2):    #or이랑 and 헷갈리지말기\n",
        "    print(\"INPUT ERROR!\")\n",
        "  else:\n",
        "    break\n",
        "\n",
        "if s<e:\n",
        "  for j in range(s,e+1):\n",
        "    for i in range(1,10,3):\n",
        "      print(\"{} * {} = {:2d}   {} * {} = {:2d}   {} * {} = {:2d}\".format(j,i,j*i,j,i+1,j*(i+1),j,i+2,j*(i+2)))  #간격맞추기\n",
        "    print()\n",
        "else:\n",
        "  for j in range(s,e-1,-1):\n",
        "    for i in range(1,10,3):\n",
        "      print(\"{} * {} = {:2d}   {} * {} = {:2d}   {} * {} = {:2d}\".format(j,i,j*i,j,i+1,j*(i+1),j,i+2,j*(i+2)))\n",
        "    print()\n"
      ],
      "execution_count": 48,
      "outputs": [
        {
          "output_type": "stream",
          "text": [
            "5 3\n",
            "5 * 1 =  5   5 * 2 = 10   5 * 3 = 15\n",
            "5 * 4 = 20   5 * 5 = 25   5 * 6 = 30\n",
            "5 * 7 = 35   5 * 8 = 40   5 * 9 = 45\n",
            "\n",
            "4 * 1 =  4   4 * 2 =  8   4 * 3 = 12\n",
            "4 * 4 = 16   4 * 5 = 20   4 * 6 = 24\n",
            "4 * 7 = 28   4 * 8 = 32   4 * 9 = 36\n",
            "\n",
            "3 * 1 =  3   3 * 2 =  6   3 * 3 =  9\n",
            "3 * 4 = 12   3 * 5 = 15   3 * 6 = 18\n",
            "3 * 7 = 21   3 * 8 = 24   3 * 9 = 27\n",
            "\n"
          ],
          "name": "stdout"
        }
      ]
    },
    {
      "cell_type": "code",
      "metadata": {
        "colab": {
          "base_uri": "https://localhost:8080/"
        },
        "id": "PG-Ytcmtd2I7",
        "outputId": "9c1c6612-823c-475c-a4db-29ba1f82be62"
      },
      "source": [
        "#1303\n",
        "\n",
        "input_a = input().split()\n",
        "n = int(input_a[0])\n",
        "m = int(input_a[1])\n",
        "number = 1\n",
        "\n",
        "for i in range(1,n+1):\n",
        "  for j in range(1,m+1):\n",
        "    print(\"{}\".format(number), end=\" \")\n",
        "    number +=1\n",
        "\n",
        "  print()"
      ],
      "execution_count": 54,
      "outputs": [
        {
          "output_type": "stream",
          "text": [
            "3 6\n",
            "1 2 3 4 5 6 \n",
            "7 8 9 10 11 12 \n",
            "13 14 15 16 17 18 \n"
          ],
          "name": "stdout"
        }
      ]
    },
    {
      "cell_type": "code",
      "metadata": {
        "colab": {
          "base_uri": "https://localhost:8080/"
        },
        "id": "MDpP77mpl6-U",
        "outputId": "80f2921c-5d67-4837-a87f-6c94a631ba66"
      },
      "source": [
        "#1856\n",
        "\n",
        "input_a = input().split()\n",
        "n = int(input_a[0])\n",
        "m = int(input_a[1])\n",
        "number = 1\n",
        "\n",
        "for i in range(n):\n",
        "  if i%2 ==0:\n",
        "    for j in range(1,m+1):\n",
        "      print(\"{}\".format(number),end=\" \")\n",
        "      number +=1 \n",
        "    print()\n",
        "    number +=m-1\n",
        "  \n",
        "  else:\n",
        "    for j in range(1,m+1):\n",
        "      print(\"{}\".format(number),end = \" \")\n",
        "      number -=1\n",
        "    print()\n",
        "    number +=m+1"
      ],
      "execution_count": 74,
      "outputs": [
        {
          "output_type": "stream",
          "text": [
            "4 5\n",
            "1 2 3 4 5 \n",
            "10 9 8 7 6 \n",
            "11 12 13 14 15 \n",
            "20 19 18 17 16 \n"
          ],
          "name": "stdout"
        }
      ]
    },
    {
      "cell_type": "code",
      "metadata": {
        "colab": {
          "base_uri": "https://localhost:8080/"
        },
        "id": "yAMeMwRmo-10",
        "outputId": "6977d82a-8b44-4e6d-e87f-98cbe274245a"
      },
      "source": [
        "#1304\n",
        "\n",
        "n = int(input())\n",
        "\n",
        "number = 1\n",
        "\n",
        "for i in range(n):\n",
        "  for j in range(number,n*n+1,n):\n",
        "    print(j,end = \" \")\n",
        "  number+=1\n",
        "  print()\n",
        "\n"
      ],
      "execution_count": 81,
      "outputs": [
        {
          "output_type": "stream",
          "text": [
            "5\n",
            "1 6 11 16 21 \n",
            "2 7 12 17 22 \n",
            "3 8 13 18 23 \n",
            "4 9 14 19 24 \n",
            "5 10 15 20 25 \n"
          ],
          "name": "stdout"
        }
      ]
    },
    {
      "cell_type": "code",
      "metadata": {
        "colab": {
          "base_uri": "https://localhost:8080/"
        },
        "id": "NmRt56JHs8Z1",
        "outputId": "344588e1-a0fa-4eab-895a-d8c324d79744"
      },
      "source": [
        "#2046\n",
        "\n",
        "input_a = input().split()\n",
        "n = int(input_a[0])\n",
        "m = int(input_a[1])\n",
        "\n",
        "if m ==1:\n",
        "  for i in range(1,n+1):\n",
        "    for j in range(n):\n",
        "      print(i,end=\" \")\n",
        "    print()\n",
        "\n",
        "elif m ==2:\n",
        "  for i in range(n):\n",
        "    if i%2==0:\n",
        "      for j in range(1,n+1):\n",
        "        print(j,end=\" \")\n",
        "      print()\n",
        "    else:\n",
        "      for j in range(n,1-1,-1):\n",
        "        print(j,end =\" \")\n",
        "      print()\n",
        "  \n",
        "elif m==3:\n",
        "  for i in range(1,n+1):\n",
        "    for j in range(i,i*n+1,i):\n",
        "      print(j,end =\" \")\n",
        "    print()\n",
        "\n"
      ],
      "execution_count": 89,
      "outputs": [
        {
          "output_type": "stream",
          "text": [
            "5 3\n",
            "1 2 3 4 5 \n",
            "2 4 6 8 10 \n",
            "3 6 9 12 15 \n",
            "4 8 12 16 20 \n",
            "5 10 15 20 25 \n"
          ],
          "name": "stdout"
        }
      ]
    }
  ]
}