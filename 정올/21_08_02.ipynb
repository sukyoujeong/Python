{
  "nbformat": 4,
  "nbformat_minor": 0,
  "metadata": {
    "colab": {
      "name": "21.08.02",
      "provenance": [],
      "collapsed_sections": []
    },
    "kernelspec": {
      "name": "python3",
      "display_name": "Python 3"
    },
    "language_info": {
      "name": "python"
    }
  },
  "cells": [
    {
      "cell_type": "code",
      "metadata": {
        "colab": {
          "base_uri": "https://localhost:8080/"
        },
        "id": "vA5ZisNBTCrN",
        "outputId": "90d81e10-3cd7-4772-a5c0-5d71ec00607b"
      },
      "source": [
        "#740\n",
        "a = int(input())\n",
        "b = int(input())\n",
        "c = int(input())\n",
        "\n",
        "print(\"sum :\",a+b+c)\n",
        "print(\"avg :\",(a+b+c)//3)"
      ],
      "execution_count": 1,
      "outputs": [
        {
          "output_type": "stream",
          "text": [
            "10\n",
            "25\n",
            "33\n",
            "sum : 68\n",
            "avg : 22\n"
          ],
          "name": "stdout"
        }
      ]
    },
    {
      "cell_type": "code",
      "metadata": {
        "colab": {
          "base_uri": "https://localhost:8080/"
        },
        "id": "twBSVYxYTVBG",
        "outputId": "b33f9ac4-1147-4cac-c65f-7761a5ad2794"
      },
      "source": [
        "#741\n",
        "a = int(input())\n",
        "\n",
        "print(a)\n",
        "print(a+2)"
      ],
      "execution_count": 2,
      "outputs": [
        {
          "output_type": "stream",
          "text": [
            "5\n",
            "5\n",
            "7\n"
          ],
          "name": "stdout"
        }
      ]
    },
    {
      "cell_type": "code",
      "metadata": {
        "colab": {
          "base_uri": "https://localhost:8080/"
        },
        "id": "LJ1h5VqwWYeC",
        "outputId": "c4c57af4-5338-463e-fd96-47cb35a3ded3"
      },
      "source": [
        "#742\n",
        "a = int(input())+100\n",
        "b = int(input())%10\n",
        "\n",
        "print(a,b)"
      ],
      "execution_count": 3,
      "outputs": [
        {
          "output_type": "stream",
          "text": [
            "20\n",
            "35\n",
            "120 5\n"
          ],
          "name": "stdout"
        }
      ]
    },
    {
      "cell_type": "code",
      "metadata": {
        "colab": {
          "base_uri": "https://localhost:8080/"
        },
        "id": "dvDps--7Wn3P",
        "outputId": "257d9f21-e8ee-432e-d180-d268266215d5"
      },
      "source": [
        "#743\n",
        "a = int(input())\n",
        "b = int(input()) -1\n",
        "c = a*b\n",
        "\n",
        "print(a+1,b,c)"
      ],
      "execution_count": 5,
      "outputs": [
        {
          "output_type": "stream",
          "text": [
            "10\n",
            "20\n",
            "11 19 190\n"
          ],
          "name": "stdout"
        }
      ]
    },
    {
      "cell_type": "code",
      "metadata": {
        "colab": {
          "base_uri": "https://localhost:8080/"
        },
        "id": "pkFAzjdQW-Jf",
        "outputId": "ce03351e-9960-4a44-f82e-dfee7f8e3995"
      },
      "source": [
        "#744\n",
        "a = int(input())\n",
        "b = int(input())\n",
        "\n",
        "if a==b:\n",
        "  print(\"True\")\n",
        "  print(\"False\")\n",
        "else:\n",
        "  print(\"False\")\n",
        "  print(\"True\")"
      ],
      "execution_count": 7,
      "outputs": [
        {
          "output_type": "stream",
          "text": [
            "5\n",
            "5\n",
            "True\n",
            "False\n"
          ],
          "name": "stdout"
        }
      ]
    },
    {
      "cell_type": "code",
      "metadata": {
        "colab": {
          "base_uri": "https://localhost:8080/"
        },
        "id": "t1hGd70hXS8H",
        "outputId": "ae21be7c-94a6-49ec-b6b6-7d995de5c4ab"
      },
      "source": [
        "#745\n",
        "a = int(input())\n",
        "b = int(input())\n",
        "\n",
        "print(\"{} > {} --- {}\".format(a,b,a>b))\n",
        "print(\"{} < {} --- {}\".format(a,b,a<b))\n",
        "print(\"{} >= {} --- {}\".format(a,b,a>=b))\n",
        "print(\"{} <= {} --- {}\".format(a,b,a<=b))"
      ],
      "execution_count": 9,
      "outputs": [
        {
          "output_type": "stream",
          "text": [
            "4\n",
            "5\n",
            "4 > 5 --- False\n",
            "4 < 5 --- True\n",
            "4 >= 5 --- False\n",
            "4 <= 5 --- True\n"
          ],
          "name": "stdout"
        }
      ]
    },
    {
      "cell_type": "code",
      "metadata": {
        "id": "VzcxuhbYX3Kb"
      },
      "source": [
        "#747\n",
        "a = int(input())\n",
        "b = int(input())\n",
        "c = int(input())\n",
        "\n",
        "print(a>b and a>c,a==b==c)"
      ],
      "execution_count": null,
      "outputs": []
    },
    {
      "cell_type": "code",
      "metadata": {
        "colab": {
          "base_uri": "https://localhost:8080/"
        },
        "id": "S5XTSlJQYxI4",
        "outputId": "c69725af-c207-487e-b2ea-be7bcc624a51"
      },
      "source": [
        "#748\n",
        "a= input()\n",
        "b = input()\n",
        "print(a*2+b*3)"
      ],
      "execution_count": 16,
      "outputs": [
        {
          "output_type": "stream",
          "text": [
            "two\n",
            "three\n",
            "twotwothreethreethree\n"
          ],
          "name": "stdout"
        }
      ]
    },
    {
      "cell_type": "code",
      "metadata": {
        "colab": {
          "base_uri": "https://localhost:8080/"
        },
        "id": "Gd89YmLma8HU",
        "outputId": "0123e302-b329-4370-d416-5375038bbb7f"
      },
      "source": [
        "#749\n",
        "a = int(input())\n",
        "b = int(input())\n",
        "c = int(input())\n",
        "d = int(input())\n",
        "\n",
        "print(\"sum\",a+b+c+d)\n",
        "print(\"avg\",(a+b+c+d)//4)"
      ],
      "execution_count": 17,
      "outputs": [
        {
          "output_type": "stream",
          "text": [
            "70\n",
            "95\n",
            "63\n",
            "100\n",
            "sum 328\n",
            "avg 82\n"
          ],
          "name": "stdout"
        }
      ]
    },
    {
      "cell_type": "code",
      "metadata": {
        "colab": {
          "base_uri": "https://localhost:8080/"
        },
        "id": "D9s1zcfncRZt",
        "outputId": "ce0be2da-8401-4e62-9d13-09a8be20e681"
      },
      "source": [
        "#750\n",
        "a = int(input())\n",
        "b = int(input())\n",
        "\n",
        "print(\"{} / {} = {} ... {}\".format(a,b,a//b,a%b))"
      ],
      "execution_count": 1,
      "outputs": [
        {
          "output_type": "stream",
          "text": [
            "35\n",
            "10\n",
            "35 / 10 = 3 ... 5\n"
          ],
          "name": "stdout"
        }
      ]
    },
    {
      "cell_type": "code",
      "metadata": {
        "colab": {
          "base_uri": "https://localhost:8080/"
        },
        "id": "opR1Ij4PgcKL",
        "outputId": "eee34008-9960-4da5-910d-3d9ad994fd1f"
      },
      "source": [
        "#751\n",
        "a = int(input())+5\n",
        "b = int(input())*2\n",
        "\n",
        "print(\"width =\",a)\n",
        "print(\"length =\",b)\n",
        "print(\"area =\",a*b)"
      ],
      "execution_count": 2,
      "outputs": [
        {
          "output_type": "stream",
          "text": [
            "20\n",
            "15\n",
            "width = 25\n",
            "length = 30\n",
            "area = 750\n"
          ],
          "name": "stdout"
        }
      ]
    },
    {
      "cell_type": "code",
      "metadata": {
        "colab": {
          "base_uri": "https://localhost:8080/"
        },
        "id": "g69A7he4hFQJ",
        "outputId": "06679642-613e-41dd-d3ba-b020ea6dab81"
      },
      "source": [
        "#752\n",
        "a = int(input())+1\n",
        "b = int(input())\n",
        "\n",
        "print(a,b)\n",
        "print(a,b-1)"
      ],
      "execution_count": 3,
      "outputs": [
        {
          "output_type": "stream",
          "text": [
            "10\n",
            "15\n",
            "11 15\n",
            "11 14\n"
          ],
          "name": "stdout"
        }
      ]
    },
    {
      "cell_type": "code",
      "metadata": {
        "colab": {
          "base_uri": "https://localhost:8080/"
        },
        "id": "wqPE6fEPhaiy",
        "outputId": "450acb32-eba5-474e-f552-c9107cbd30f3"
      },
      "source": [
        "#753\n",
        "a = int(input(\"Brother? \"))\n",
        "b = int(input(\"Sister? \"))\n",
        "\n",
        "print(a!=b)"
      ],
      "execution_count": 7,
      "outputs": [
        {
          "output_type": "stream",
          "text": [
            "Brother? 5\n",
            "Sister? 5\n",
            "False\n"
          ],
          "name": "stdout"
        }
      ]
    },
    {
      "cell_type": "code",
      "metadata": {
        "colab": {
          "base_uri": "https://localhost:8080/"
        },
        "id": "NvB_NCGdh2-e",
        "outputId": "e715bdcf-1abf-422f-a8e1-710ce0ac1746"
      },
      "source": [
        "#754\n",
        "a = int(input())\n",
        "b= int(input())\n",
        "c = int(input())\n",
        "d = int(input())\n",
        "\n",
        "if a>c and b>d:\n",
        "  print(\"True\")\n",
        "\n",
        "else:\n",
        "  print(\"False\")"
      ],
      "execution_count": 8,
      "outputs": [
        {
          "output_type": "stream",
          "text": [
            "150\n",
            "35\n",
            "145\n",
            "35\n",
            "False\n"
          ],
          "name": "stdout"
        }
      ]
    },
    {
      "cell_type": "code",
      "metadata": {
        "colab": {
          "base_uri": "https://localhost:8080/"
        },
        "id": "VKyae4eDilyy",
        "outputId": "1631d8c2-1b6a-462a-a642-9a12adcfccc1"
      },
      "source": [
        "#755\n",
        "a = input()\n",
        "b = input()\n",
        "\n",
        "print(\"{} and {}\".format(a,b))\n",
        "print(a+\"&\"+b)"
      ],
      "execution_count": 9,
      "outputs": [
        {
          "output_type": "stream",
          "text": [
            "spongebob\n",
            "patrick\n",
            "spongebob and patrick\n",
            "spongebob&patrick\n"
          ],
          "name": "stdout"
        }
      ]
    },
    {
      "cell_type": "code",
      "metadata": {
        "colab": {
          "base_uri": "https://localhost:8080/"
        },
        "id": "C3_erktgjAXq",
        "outputId": "98d3b3a1-dd36-4657-805d-fae578e102fd"
      },
      "source": [
        "#756\n",
        "a = input()\n",
        "b = input()\n",
        "c = int(input())\n",
        "\n",
        "print(b*c+a)\n",
        "\n"
      ],
      "execution_count": 10,
      "outputs": [
        {
          "output_type": "stream",
          "text": [
            "wolf\n",
            "sheep\n",
            "3\n",
            "sheepsheepsheepwolf\n"
          ],
          "name": "stdout"
        }
      ]
    }
  ]
}