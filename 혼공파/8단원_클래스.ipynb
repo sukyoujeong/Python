{
  "nbformat": 4,
  "nbformat_minor": 0,
  "metadata": {
    "colab": {
      "name": "8단원.클래스",
      "provenance": []
    },
    "kernelspec": {
      "name": "python3",
      "display_name": "Python 3"
    },
    "language_info": {
      "name": "python"
    }
  },
  "cells": [
    {
      "cell_type": "markdown",
      "metadata": {
        "id": "QFLvo9bX93ZI"
      },
      "source": [
        "여러가지 속성을 가질 수 있는 대상을 객체라 함"
      ]
    },
    {
      "cell_type": "code",
      "metadata": {
        "colab": {
          "base_uri": "https://localhost:8080/"
        },
        "id": "REiitxR-yRBU",
        "outputId": "5345f2ac-84ba-421b-dbf5-f99f89c27b43"
      },
      "source": [
        "#딕셔너리로 객체 만들기\n",
        "\n",
        "#학생 리스트를 선언합니다.\n",
        "students = [\n",
        "            {\"name\":\"윤인성\",\"korean\":87,\"math\":98,\"english\":88,\"science\":95},\n",
        "            {\"name\":\"연하진\",\"korean\":92,\"math\":98,\"english\":96,\"science\":98},\n",
        "            {\"name\":\"구지연\",\"korean\":76,\"math\":96,\"english\":94,\"science\":90}\n",
        "]\n",
        "\n",
        "#학생을 한명씩 반복합니다.\n",
        "print(\"이름\",\"총점\",\"평균\",sep=\"\\t\")\n",
        "for student in students:\n",
        "  score_sum = student[\"korean\"]+student[\"math\"]+\\\n",
        "  student[\"english\"]+student[\"science\"]\n",
        "\n",
        "  score_avg=score_sum/4\n",
        "  print(student[\"name\"],score_sum,score_avg,sep=\"\\t\")"
      ],
      "execution_count": 4,
      "outputs": [
        {
          "output_type": "stream",
          "text": [
            "이름\t총점\t평균\n",
            "윤인성\t368\t92.0\n",
            "연하진\t384\t96.0\n",
            "구지연\t356\t89.0\n"
          ],
          "name": "stdout"
        }
      ]
    },
    {
      "cell_type": "code",
      "metadata": {
        "colab": {
          "base_uri": "https://localhost:8080/"
        },
        "id": "hBArk2ZA9JTk",
        "outputId": "159f793f-ee68-4ad3-e0b1-ea6ecc6f1501"
      },
      "source": [
        "#딕셔너리를 리턴하는 함수를 선언합니다.\n",
        "def create_student(name,korean,math,english,science):\n",
        "  return{\n",
        "      \"name\":name,\n",
        "      \"korean\":korean,\n",
        "      \"math\":math,\n",
        "      \"english\":english,\n",
        "      \"science\":science\n",
        "  }\n",
        "\n",
        "#학생 리스트를 선언합니다.\n",
        "students = [\n",
        "            create_student(\"윤인성\",87,98,88,95),\n",
        "            create_student(\"연하진\",92,98,96,97),\n",
        "            create_student(\"구지연\",76,34,54,23)\n",
        "            \n",
        "]\n",
        "\n",
        "print(\"이름\",\"총점\",\"평균\",sep=\"\\t\")\n",
        "\n",
        "for student in students:\n",
        "    score_sum = student[\"korean\"]+student[\"math\"]+\\\n",
        "    student[\"english\"]+student[\"science\"]\n",
        "\n",
        "    score_avg=score_sum/4\n",
        "    print(student[\"name\"],score_sum,score_avg,sep=\"\\t\")\n"
      ],
      "execution_count": 6,
      "outputs": [
        {
          "output_type": "stream",
          "text": [
            "이름\t총점\t평균\n",
            "윤인성\t368\t92.0\n",
            "연하진\t383\t95.75\n",
            "구지연\t187\t46.75\n"
          ],
          "name": "stdout"
        }
      ]
    },
    {
      "cell_type": "code",
      "metadata": {
        "colab": {
          "base_uri": "https://localhost:8080/"
        },
        "id": "E1Y1MFch_B5s",
        "outputId": "49bd90ca-2e02-44c1-e235-46047e0c6c2b"
      },
      "source": [
        "def create_student(name,korean,math,english,science):\n",
        "  return{\n",
        "      \"name\":name,\n",
        "      \"korean\":korean,\n",
        "      \"math\":math,\n",
        "      \"english\":english,\n",
        "      \"science\":science\n",
        "  }\n",
        "\n",
        "#학생을 처리하는 함수 선언\n",
        "def student_get_sum(student):\n",
        "  return student[\"korean\"]+student[\"math\"]+\\\n",
        "  student[\"english\"]+student[\"science\"]\n",
        "\n",
        "def student_get_average(student):\n",
        "  return student_get_sum(student)/4\n",
        "\n",
        "def student_to_string(student):\n",
        "  return \"{}\\t{}\\t{}\".format(\n",
        "      student[\"name\"],\n",
        "      student_get_sum(student),\n",
        "      student_get_average(student)\n",
        "  )\n",
        "\n",
        "students = [\n",
        "            create_student(\"윤인성\",87,98,88,95),\n",
        "            create_student(\"연하진\",92,98,96,97),\n",
        "            create_student(\"구지연\",76,34,54,23)\n",
        "            \n",
        "]\n",
        "\n",
        "print(\"이름\",\"총점\",\"평균\",sep=\"\\t\")\n",
        "\n",
        "for student in students:\n",
        "  print(student_to_string(student))"
      ],
      "execution_count": 8,
      "outputs": [
        {
          "output_type": "stream",
          "text": [
            "이름\t총점\t평균\n",
            "윤인성\t368\t92.0\n",
            "연하진\t383\t95.75\n",
            "구지연\t187\t46.75\n"
          ],
          "name": "stdout"
        }
      ]
    },
    {
      "cell_type": "markdown",
      "metadata": {
        "id": "Sw0UrGSMAblD"
      },
      "source": [
        "class 클래스 이름:\n",
        "\n",
        "클래스 내용\n",
        "\n",
        "\n",
        "클래스는 앞을가를 대문자로 만드는 캐멀케이스 규칙으로 이름 지어야함!"
      ]
    },
    {
      "cell_type": "markdown",
      "metadata": {
        "id": "XDo9FhsdA9bI"
      },
      "source": [
        "인스턴스 이름(변수 이름) = 클래스 이름() ->생성자 함수라고 부르기도함"
      ]
    },
    {
      "cell_type": "markdown",
      "metadata": {
        "id": "QhH05cVjBmzH"
      },
      "source": [
        "class 클래스 이름:\n",
        "\n",
        "def _ _ init _ _(self,추가적인 매개변수):\n",
        "\n",
        "pass\n",
        "\n",
        "__ init __으로 객체 생성할 때 처리할 내용 작성 가능"
      ]
    },
    {
      "cell_type": "code",
      "metadata": {
        "colab": {
          "base_uri": "https://localhost:8080/"
        },
        "id": "CCg0z44iAGIR",
        "outputId": "db6b195a-0595-45aa-badd-7c32a0801399"
      },
      "source": [
        "#클래스를 선언합니다.\n",
        "class Student:\n",
        "  def __init__(self,name,korean,math,english,science):\n",
        "    self.name = name\n",
        "    self.korean = korean\n",
        "    self.math = math\n",
        "    self.english = english\n",
        "    self.science = science\n",
        "\n",
        "#학생 리스트를 선언합니다.\n",
        "students = [\n",
        "            Student(\"윤인성\",87,98,88,95),\n",
        "            Student(\"연하진\",92,98,97,98),\n",
        "            Student(\"구지연\",76,96,94,90)\n",
        "]\n",
        "\n",
        "#Student 인스턴스의 속성에 접근하는 방법\n",
        "students[0].name\n",
        "students[0].korean"
      ],
      "execution_count": 9,
      "outputs": [
        {
          "output_type": "execute_result",
          "data": {
            "text/plain": [
              "87"
            ]
          },
          "metadata": {
            "tags": []
          },
          "execution_count": 9
        }
      ]
    },
    {
      "cell_type": "code",
      "metadata": {
        "colab": {
          "base_uri": "https://localhost:8080/"
        },
        "id": "cquZrA2bCm4X",
        "outputId": "64febe73-3d24-4683-b12c-35a226e2c3ed"
      },
      "source": [
        "#소멸자\n",
        "\n",
        "class Test:\n",
        "  def __init__(self,name ):\n",
        "    self.name = name\n",
        "    print(\"{}-생성되었습니다.\".format(self.name))\n",
        "  \n",
        "  def __del__(self):\n",
        "    print(\"{}-파괴되었습니다.\".format(self.name))\n",
        "\n",
        "\n",
        "test = Test(\"A\")"
      ],
      "execution_count": 12,
      "outputs": [
        {
          "output_type": "stream",
          "text": [
            "A-생성되었습니다.\n"
          ],
          "name": "stdout"
        }
      ]
    },
    {
      "cell_type": "markdown",
      "metadata": {
        "id": "rMybpXKuEIRo"
      },
      "source": [
        "클래스가 가지고 있는 함수를 메소드라고 한다."
      ]
    },
    {
      "cell_type": "code",
      "metadata": {
        "colab": {
          "base_uri": "https://localhost:8080/"
        },
        "id": "HWjgnIXgDZ-U",
        "outputId": "2f6db3cc-0526-41a4-a016-0a150acbd0ec"
      },
      "source": [
        "\n",
        "class Student:\n",
        "  def __init__(self,name,korean,math,english,science):\n",
        "    self.name = name\n",
        "    self.korean = korean\n",
        "    self.math = math\n",
        "    self.english = english\n",
        "    self.science = science\n",
        "\n",
        "  def get_sum(self):\n",
        "    return self.korean+self.math+\\\n",
        "    self.english+self.science\n",
        "\n",
        "  def get_avg(self):\n",
        "    return self.get_sum()/4\n",
        "\n",
        "  def to_string(self):\n",
        "    return \"{}\\t{}\\t{}\".format(\\\n",
        "                               self.name,\\\n",
        "                               self.get_sum(),\\\n",
        "                               self.get_avg())\n",
        "\n",
        "students = [\n",
        "            Student(\"윤인성\",87,98,88,95),\n",
        "            Student(\"연하진\",92,98,96,97),\n",
        "            Student(\"구지연\",76,34,54,23)\n",
        "            \n",
        "]\n",
        "\n",
        "print(\"이름\",\"총점\",\"평균\",sep=\"\\t\")\n",
        "\n",
        "\n",
        "for student in students:\n",
        "  print(student.to_string())"
      ],
      "execution_count": 15,
      "outputs": [
        {
          "output_type": "stream",
          "text": [
            "이름\t총점\t평균\n",
            "윤인성\t368\t92.0\n",
            "연하진\t383\t95.75\n",
            "구지연\t187\t46.75\n"
          ],
          "name": "stdout"
        }
      ]
    },
    {
      "cell_type": "code",
      "metadata": {
        "colab": {
          "base_uri": "https://localhost:8080/"
        },
        "id": "WASsPTLoE_fV",
        "outputId": "e40729d1-db31-4483-8035-0ffa79640b37"
      },
      "source": [
        "#어떤 클래스의 인스턴스인지 확인하기\n",
        "\n",
        "#클래스 선언\n",
        "class Student:\n",
        "  def __init__(self):\n",
        "    pass\n",
        "\n",
        "#학생을 선언\n",
        "student = Student()\n",
        "\n",
        "#인스턴스 확인하기\n",
        "print(\"isinstance(student,Student):\",isinstance(student,Student))"
      ],
      "execution_count": 17,
      "outputs": [
        {
          "output_type": "stream",
          "text": [
            "isinstance(student,Student): True\n"
          ],
          "name": "stdout"
        }
      ]
    },
    {
      "cell_type": "code",
      "metadata": {
        "colab": {
          "base_uri": "https://localhost:8080/"
        },
        "id": "VmghZPEgGrOY",
        "outputId": "1195d249-5450-42c4-d0f6-17c866cc0e3d"
      },
      "source": [
        "#단순한 인스턶스 확인이면\n",
        "type(student)==Student"
      ],
      "execution_count": 19,
      "outputs": [
        {
          "output_type": "execute_result",
          "data": {
            "text/plain": [
              "True"
            ]
          },
          "metadata": {
            "tags": []
          },
          "execution_count": 19
        }
      ]
    }
  ]
}