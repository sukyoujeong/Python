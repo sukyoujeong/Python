{
  "nbformat": 4,
  "nbformat_minor": 0,
  "metadata": {
    "colab": {
      "name": "7단원.모듈",
      "provenance": []
    },
    "kernelspec": {
      "name": "python3",
      "display_name": "Python 3"
    },
    "language_info": {
      "name": "python"
    }
  },
  "cells": [
    {
      "cell_type": "markdown",
      "metadata": {
        "id": "5lTZxT8wa9mg"
      },
      "source": [
        "##07-1.표준 모듈"
      ]
    },
    {
      "cell_type": "markdown",
      "metadata": {
        "id": "wvUf_JABa6FR"
      },
      "source": [
        "import 모듈 이름"
      ]
    },
    {
      "cell_type": "markdown",
      "metadata": {
        "id": "uux3hvmEbF19"
      },
      "source": [
        "- sin(x)\n",
        "- cos(x)\n",
        "- tan(x)\n",
        "- log(x[, base]) : 로그값을 구합니다\n",
        "- ceil(x) : 올림\n",
        "- floor(x) : 내림\n",
        "- roung(x) : 반올림"
      ]
    },
    {
      "cell_type": "code",
      "metadata": {
        "colab": {
          "base_uri": "https://localhost:8080/"
        },
        "id": "slLlZunnbFDS",
        "outputId": "12a43dec-b3b8-495d-ba10-7656baf65162"
      },
      "source": [
        "import math\n",
        "\n",
        "math.sin(10)"
      ],
      "execution_count": 1,
      "outputs": [
        {
          "output_type": "execute_result",
          "data": {
            "text/plain": [
              "-0.5440211108893698"
            ]
          },
          "metadata": {
            "tags": []
          },
          "execution_count": 1
        }
      ]
    },
    {
      "cell_type": "markdown",
      "metadata": {
        "id": "DbnxSCutbbL5"
      },
      "source": [
        "앞에 math.붙이기 귀찮을 땐 from 구문!\n",
        "\n",
        "from 모듈 이름 import 갖오고 싶은 변수 또는 함수(다가져오고 싶으면 *;;근데 왠만하면 충돌 피하기위해서 가져올것만 가져오기)"
      ]
    },
    {
      "cell_type": "code",
      "metadata": {
        "colab": {
          "base_uri": "https://localhost:8080/"
        },
        "id": "CbBZVTLFbX2X",
        "outputId": "36630491-586a-4dc5-e174-8debfb9a0132"
      },
      "source": [
        "from math import sin,cos,tan,floor,ceil\n",
        "\n",
        "sin(1)"
      ],
      "execution_count": 2,
      "outputs": [
        {
          "output_type": "execute_result",
          "data": {
            "text/plain": [
              "0.8414709848078965"
            ]
          },
          "metadata": {
            "tags": []
          },
          "execution_count": 2
        }
      ]
    },
    {
      "cell_type": "code",
      "metadata": {
        "colab": {
          "base_uri": "https://localhost:8080/"
        },
        "id": "6E_3wSuhbnNf",
        "outputId": "2c1caccb-d0ef-4087-d982-6a0f89616d97"
      },
      "source": [
        "ceil(2.5)"
      ],
      "execution_count": 3,
      "outputs": [
        {
          "output_type": "execute_result",
          "data": {
            "text/plain": [
              "3"
            ]
          },
          "metadata": {
            "tags": []
          },
          "execution_count": 3
        }
      ]
    },
    {
      "cell_type": "markdown",
      "metadata": {
        "id": "UrTpcMEkbw2z"
      },
      "source": [
        "줄여쓰고 싶을 때는 as!\n",
        "\n",
        "import 모듈 as 사용하고 싶은 식별자"
      ]
    },
    {
      "cell_type": "code",
      "metadata": {
        "colab": {
          "base_uri": "https://localhost:8080/"
        },
        "id": "js1ugUApbpQd",
        "outputId": "ee261371-d263-4463-a058-35493f6a3397"
      },
      "source": [
        "import math as m\n",
        "\n",
        "m.sin(1)"
      ],
      "execution_count": 4,
      "outputs": [
        {
          "output_type": "execute_result",
          "data": {
            "text/plain": [
              "0.8414709848078965"
            ]
          },
          "metadata": {
            "tags": []
          },
          "execution_count": 4
        }
      ]
    },
    {
      "cell_type": "code",
      "metadata": {
        "colab": {
          "base_uri": "https://localhost:8080/"
        },
        "id": "V1v0Wzkob28f",
        "outputId": "028cd4ea-b836-46c5-b103-a505d4725d98"
      },
      "source": [
        "#random 모듈\n",
        "\n",
        "import random\n",
        "print(\"#random 모듈\")\n",
        "\n",
        "#random(): 0.0<=x<1.0 사이의 float를 리턴합니다.\n",
        "print(\"- random():\",random.random())\n",
        "\n",
        "#uniform(min,max): 지정한 범위 사이의 float를 리턴합니다.\n",
        "print(\"- uniform(10,20):\",random.uniform(10,20))\n",
        "\n",
        "#randrange(): 지정한 범위의 int를 리턴합니다.\n",
        "# - randrange(max): 0부터 max 사이의 값을 리턴합니다.\n",
        "# - randrange(min,max): min부터 max 사이의 값을 리턴합니다.\n",
        "print(\"- randrange(10):\",random.randrange(10))\n",
        "\n",
        "#choice(list): 리스트 내부에 있는 요소를 랜덤하게 선택합니다.\n",
        "print(\"- choice([1,2,3,4,5]):\",random.choice([1,2,3,4,5]))\n",
        "\n",
        "#shuffle(list): 리스트의 요소들을 랜덤하게 섞습니다.\n",
        "print(\"- shuffle([1,2,3,4,5]):\",random.shuffle([1,2,3,4,5]))\n",
        "\n",
        "#sample(list,k=<숫자>): 리스트의 요소 중에 k개를 뽑습니다.\n",
        "print(\"-sample([1,2,3,4,5],k=2):\",random.sample([1,2,3,4,5],k=2))"
      ],
      "execution_count": 6,
      "outputs": [
        {
          "output_type": "stream",
          "text": [
            "#random 모듈\n",
            "- random(): 0.20410574663247005\n",
            "- uniform(10,20): 15.044913404679622\n",
            "- randrange(10): 8\n",
            "- choice([1,2,3,4,5]): 2\n",
            "- shuffle([1,2,3,4,5]): None\n",
            "-sample([1,2,3,4,5],k=2): [4, 5]\n"
          ],
          "name": "stdout"
        }
      ]
    },
    {
      "cell_type": "code",
      "metadata": {
        "colab": {
          "base_uri": "https://localhost:8080/"
        },
        "id": "jB05kXUUdYUf",
        "outputId": "12b361d7-77fb-4290-d10d-6c153fdfe045"
      },
      "source": [
        "#datetime 모듈\n",
        "\n",
        "import datetime\n",
        "\n",
        "#현재시각을 구하고 출력하기\n",
        "print(\"#현재 시각 출력하기\")\n",
        "now = datetime.datetime.now()\n",
        "print(now.year,\"년\")\n",
        "print(now.month,\"월\")\n",
        "print(now.day,\"일\")\n",
        "print(now.hour,\"시\")\n",
        "print(now.minute,\"분\")\n",
        "print(now.second,\"초\")\n",
        "print()\n",
        "\n",
        "#시간 출력방법\n",
        "print(\"#시간을 포맷에 맞춰 출력하기\")\n",
        "output_a = now.strftime(\"%Y.%m.%d %H:%M:%S\")\n",
        "output_b = \"{}년 {}월 {}일 {}시 {}분 {}초\".format(now.year,\\\n",
        "                                            now.month,\\\n",
        "                                            now.day,\\\n",
        "                                            now.hour,\\\n",
        "                                            now.minute,\\\n",
        "                                            now.second)\n",
        "\n",
        "output_c = now.strftime(\"%Y{} %m{} %d{} %H{} %M{} %S{}\").format(*\"년월일시분초\")    #문자열,리스트 등 앞에 *을 붙이면 요소하나하나가 매개변수로 지정\n",
        "print(output_a)\n",
        "print(output_b)\n",
        "print(output_c)"
      ],
      "execution_count": 10,
      "outputs": [
        {
          "output_type": "stream",
          "text": [
            "#현재 시각 출력하기\n",
            "2021 년\n",
            "8 월\n",
            "9 일\n",
            "6 시\n",
            "0 분\n",
            "16 초\n",
            "\n",
            "#시간을 포맷에 맞춰 출력하기\n",
            "2021.08.09 06:00:16\n",
            "2021년 8월 9일 6시 0분 16초\n",
            "2021년 08월 09일 06시 00분 16초\n"
          ],
          "name": "stdout"
        }
      ]
    },
    {
      "cell_type": "markdown",
      "metadata": {
        "id": "AZ4oo29Rg8-q"
      },
      "source": [
        "timedelta() 함수를 사용하면 특정 시간의 이전 혹은 이후 구할 수 있음\n",
        "\n",
        "replace()로 년단위 바꾸기..!"
      ]
    },
    {
      "cell_type": "code",
      "metadata": {
        "colab": {
          "base_uri": "https://localhost:8080/"
        },
        "id": "xthb1RiPeIZs",
        "outputId": "2c621f5b-0f40-41f3-d96b-3b70366863ab"
      },
      "source": [
        "import datetime\n",
        "now = datetime.datetime.now()\n",
        "\n",
        "#특정 시간 이후의 시간 구하기\n",
        "print(\"#datetime.timedelta로 시간 더하기\")\n",
        "after = now + datetime.timedelta(\\\n",
        "                                 weeks=1,\\\n",
        "                                 days=1,\\\n",
        "                                 hours=1,\\\n",
        "                                 minutes=1,\\\n",
        "                                 seconds=1)\n",
        "print(after.strftime(\"%Y{} %m{} %d{} %H{} %M{} %S{}\").format(*\"년월일시분초\"))\n",
        "print()\n",
        "\n",
        "#특정 시간 요소 교체하기\n",
        "print(\"#now.replace()로 일년 더하기\")\n",
        "output = now.replace(year = (now.year+1))\n",
        "print(output.strftime(\"%Y{} %m{} %d{} %H{} %M{} %S{}\").format(*\"년월일시분초\"))"
      ],
      "execution_count": 12,
      "outputs": [
        {
          "output_type": "stream",
          "text": [
            "#datetime.timedelta로 시간 더하기\n",
            "2021년 08월 17일 07시 05분 53초\n",
            "\n",
            "#now.replace()로 일년 더하기\n",
            "2022년 08월 09일 06시 04분 52초\n"
          ],
          "name": "stdout"
        }
      ]
    },
    {
      "cell_type": "markdown",
      "metadata": {
        "id": "EVwxatQDhYpz"
      },
      "source": [
        "time.sleep()함수는 특정시간동안 코드 진행 정지시키는것"
      ]
    },
    {
      "cell_type": "code",
      "metadata": {
        "colab": {
          "base_uri": "https://localhost:8080/"
        },
        "id": "ieNyToW2gyE9",
        "outputId": "9622b780-bd04-4f78-dbbc-c14cef3ef62c"
      },
      "source": [
        "import time\n",
        "\n",
        "print(\"지금부터 5초동안 정지\")\n",
        "time.sleep(5)\n",
        "print(\"프로그램 종료\")"
      ],
      "execution_count": 13,
      "outputs": [
        {
          "output_type": "stream",
          "text": [
            "지금부터 5초동안 정지\n",
            "프로그램 종료\n"
          ],
          "name": "stdout"
        }
      ]
    },
    {
      "cell_type": "markdown",
      "metadata": {
        "id": "al1cK_BNh5gB"
      },
      "source": [
        "URL :Uniform Resource Locator\n",
        "\n",
        "네트워크의 자원이 어디에 위치하는지 확인할때 사용\n",
        "\n",
        "웹브라우저 주소창에 입력하는 주소"
      ]
    },
    {
      "cell_type": "code",
      "metadata": {
        "colab": {
          "base_uri": "https://localhost:8080/"
        },
        "id": "oP-cicXlhhJq",
        "outputId": "31744e5a-7a50-4068-cf5c-a427880387a8"
      },
      "source": [
        "#urllib 모듈\n",
        "\n",
        "from urllib import request\n",
        "\n",
        "#urlopen()함수로 구글의 메인 페이지를 읽습니다.\n",
        "target = request.urlopen(\"https://google.com\")\n",
        "output = target.read()\n",
        "\n",
        "print(output)"
      ],
      "execution_count": 14,
      "outputs": [
        {
          "output_type": "stream",
          "text": [
            "b'<!doctype html><html itemscope=\"\" itemtype=\"http://schema.org/WebPage\" lang=\"en\"><head><meta content=\"Search the world\\'s information, including webpages, images, videos and more. Google has many special features to help you find exactly what you\\'re looking for.\" name=\"description\"><meta content=\"noodp\" name=\"robots\"><meta content=\"text/html; charset=UTF-8\" http-equiv=\"Content-Type\"><meta content=\"/images/branding/googleg/1x/googleg_standard_color_128dp.png\" itemprop=\"image\"><title>Google</title><script nonce=\"7IND1VQ6x1PtRUuHxt/sDA==\">(function(){window.google={kEI:\\'3cYQYbWyLOmYwbkPr9W0yA8\\',kEXPI:\\'0,772215,1,530320,56873,954,5104,207,4804,2316,383,246,5,1354,4936,314,1122516,1197782,501,82,328902,51224,16114,28684,893,16679,4859,1361,9290,3022,2822,14765,4020,978,13228,3847,4192,6430,1142,13385,236,4285,2774,919,5081,1593,1279,2212,241,289,149,1103,840,1983,214,4100,3514,606,2023,2297,14670,3227,2845,7,4774,34,791,6755,5096,7876,5037,1483,1924,908,2,941,15324,432,3,346,1244,1,3370,2075,148,11323,2652,4,1528,2304,1236,5226,577,74,1983,2626,2015,4067,2506,4928,3824,3050,2658,4242,3115,30,15933,638,37,1457,5586,9765,770,665,5824,2533,992,3102,17,3121,6,614,294,3,3541,1,5349,9361,1,1813,283,38,874,5992,12346,1576,756,769,18,1,1262,1344,371,2,3057,6155,636,4,23,4,5387,4,683,442,184,158,255,55,4,434,2500,1557,744,1274,1536,3042,2050,1819,5863,731,1160,1364,4749,3,292,291,1533,845,1578,1143,3709,2,835,3,5473,1461,86,3088,586,463,165,2372,1,8,1004,1413,396,1999,167,857,1510,338,87,555,862,358,158,190,893,89,1,833,630,1054,328,1578,290,608,1507,344,365,184,3,4,579,3010,761,957,53,1374,1,241,464,1,2,268,517,42,198,8,71,316,261,59,23,565,527,185,1,3,798,672,2,95,7,731,95,7,287,256,190,4,306,357,4,7,62,541,1162,3,351,656,5597636,2032,226,220,150,5996718,11,2800686,882,444,1,2,80,1,1796,1,9,2553,1,748,141,795,563,1,4265,1,1,2,1331,4142,2609,155,17,13,72,139,4,2,20,2,169,13,19,46,5,39,96,548,29,2,2,1,2,1,2,2,7,4,1,2,2,2,2,2,2,353,513,186,1,1,158,3,2,2,2,2,2,4,2,3,3,235,34,10,99,57,12,2,1,4,23654673,299865,2867254,1174097,338,3,1454,960,1085,1493,470,931,7\\',kBL:\\'88pG\\'};google.sn=\\'webhp\\';google.kHL=\\'en\\';})();(function(){\\nvar f=this||self;var h,k=[];function l(a){for(var b;a&&(!a.getAttribute||!(b=a.getAttribute(\"eid\")));)a=a.parentNode;return b||h}function m(a){for(var b=null;a&&(!a.getAttribute||!(b=a.getAttribute(\"leid\")));)a=a.parentNode;return b}\\nfunction n(a,b,c,d,g){var e=\"\";c||-1!==b.search(\"&ei=\")||(e=\"&ei=\"+l(d),-1===b.search(\"&lei=\")&&(d=m(d))&&(e+=\"&lei=\"+d));d=\"\";!c&&f._cshid&&-1===b.search(\"&cshid=\")&&\"slh\"!==a&&(d=\"&cshid=\"+f._cshid);c=c||\"/\"+(g||\"gen_204\")+\"?atyp=i&ct=\"+a+\"&cad=\"+b+e+\"&zx=\"+Date.now()+d;/^http:/i.test(c)&&\"https:\"===window.location.protocol&&(google.ml&&google.ml(Error(\"a\"),!1,{src:c,glmm:1}),c=\"\");return c};h=google.kEI;google.getEI=l;google.getLEI=m;google.ml=function(){return null};google.log=function(a,b,c,d,g){if(c=n(a,b,c,d,g)){a=new Image;var e=k.length;k[e]=a;a.onerror=a.onload=a.onabort=function(){delete k[e]};a.src=c}};google.logUrl=n;}).call(this);(function(){\\ngoogle.y={};google.sy=[];google.x=function(a,b){if(a)var c=a.id;else{do c=Math.random();while(google.y[c])}google.y[c]=[a,b];return!1};google.sx=function(a){google.sy.push(a)};google.lm=[];google.plm=function(a){google.lm.push.apply(google.lm,a)};google.lq=[];google.load=function(a,b,c){google.lq.push([[a],b,c])};google.loadAll=function(a,b){google.lq.push([a,b])};google.bx=!1;google.lx=function(){};}).call(this);google.f={};(function(){\\ndocument.documentElement.addEventListener(\"submit\",function(b){var a;if(a=b.target){var c=a.getAttribute(\"data-submitfalse\");a=\"1\"==c||\"q\"==c&&!a.elements.q.value?!0:!1}else a=!1;a&&(b.preventDefault(),b.stopPropagation())},!0);document.documentElement.addEventListener(\"click\",function(b){var a;a:{for(a=b.target;a&&a!=document.documentElement;a=a.parentElement)if(\"A\"==a.tagName){a=\"1\"==a.getAttribute(\"data-nohref\");break a}a=!1}a&&b.preventDefault()},!0);}).call(this);</script><style>#gbar,#guser{font-size:13px;padding-top:1px !important;}#gbar{height:22px}#guser{padding-bottom:7px !important;text-align:right}.gbh,.gbd{border-top:1px solid #c9d7f1;font-size:1px}.gbh{height:0;position:absolute;top:24px;width:100%}@media all{.gb1{height:22px;margin-right:.5em;vertical-align:top}#gbar{float:left}}a.gb1,a.gb4{text-decoration:underline !important}a.gb1,a.gb4{color:#00c !important}.gbi .gb4{color:#dd8e27 !important}.gbf .gb4{color:#900 !important}\\n</style><style>body,td,a,p,.h{font-family:arial,sans-serif}body{margin:0;overflow-y:scroll}#gog{padding:3px 8px 0}td{line-height:.8em}.gac_m td{line-height:17px}form{margin-bottom:20px}.h{color:#1558d6}em{font-weight:bold;font-style:normal}.lst{height:25px;width:496px}.gsfi,.lst{font:18px arial,sans-serif}.gsfs{font:17px arial,sans-serif}.ds{display:inline-box;display:inline-block;margin:3px 0 4px;margin-left:4px}input{font-family:inherit}body{background:#fff;color:#000}a{color:#4b11a8;text-decoration:none}a:hover,a:active{text-decoration:underline}.fl a{color:#1558d6}a:visited{color:#4b11a8}.sblc{padding-top:5px}.sblc a{display:block;margin:2px 0;margin-left:13px;font-size:11px}.lsbb{background:#f8f9fa;border:solid 1px;border-color:#dadce0 #70757a #70757a #dadce0;height:30px}.lsbb{display:block}#WqQANb a{display:inline-block;margin:0 12px}.lsb{background:url(/images/nav_logo229.png) 0 -261px repeat-x;border:none;color:#000;cursor:pointer;height:30px;margin:0;outline:0;font:15px arial,sans-serif;vertical-align:top}.lsb:active{background:#dadce0}.lst:focus{outline:none}</style><script nonce=\"7IND1VQ6x1PtRUuHxt/sDA==\"></script></head><body bgcolor=\"#fff\"><script nonce=\"7IND1VQ6x1PtRUuHxt/sDA==\">(function(){var src=\\'/images/nav_logo229.png\\';var iesg=false;document.body.onload = function(){window.n && window.n();if (document.images){new Image().src=src;}\\nif (!iesg){document.f&&document.f.q.focus();document.gbqf&&document.gbqf.q.focus();}\\n}\\n})();</script><div id=\"mngb\"><div id=gbar><nobr><b class=gb1>Search</b> <a class=gb1 href=\"https://www.google.com/imghp?hl=en&tab=wi\">Images</a> <a class=gb1 href=\"https://maps.google.com/maps?hl=en&tab=wl\">Maps</a> <a class=gb1 href=\"https://play.google.com/?hl=en&tab=w8\">Play</a> <a class=gb1 href=\"https://www.youtube.com/?gl=US&tab=w1\">YouTube</a> <a class=gb1 href=\"https://news.google.com/?tab=wn\">News</a> <a class=gb1 href=\"https://mail.google.com/mail/?tab=wm\">Gmail</a> <a class=gb1 href=\"https://drive.google.com/?tab=wo\">Drive</a> <a class=gb1 style=\"text-decoration:none\" href=\"https://www.google.com/intl/en/about/products?tab=wh\"><u>More</u> &raquo;</a></nobr></div><div id=guser width=100%><nobr><span id=gbn class=gbi></span><span id=gbf class=gbf></span><span id=gbe></span><a href=\"http://www.google.com/history/optout?hl=en\" class=gb4>Web History</a> | <a  href=\"/preferences?hl=en\" class=gb4>Settings</a> | <a target=_top id=gb_70 href=\"https://accounts.google.com/ServiceLogin?hl=en&passive=true&continue=https://www.google.com/&ec=GAZAAQ\" class=gb4>Sign in</a></nobr></div><div class=gbh style=left:0></div><div class=gbh style=right:0></div></div><center><br clear=\"all\" id=\"lgpd\"><div id=\"lga\"><img alt=\"Google\" height=\"92\" src=\"/images/branding/googlelogo/1x/googlelogo_white_background_color_272x92dp.png\" style=\"padding:28px 0 14px\" width=\"272\" id=\"hplogo\"><br><br></div><form action=\"/search\" name=\"f\"><table cellpadding=\"0\" cellspacing=\"0\"><tr valign=\"top\"><td width=\"25%\">&nbsp;</td><td align=\"center\" nowrap=\"\"><input name=\"ie\" value=\"ISO-8859-1\" type=\"hidden\"><input value=\"en\" name=\"hl\" type=\"hidden\"><input name=\"source\" type=\"hidden\" value=\"hp\"><input name=\"biw\" type=\"hidden\"><input name=\"bih\" type=\"hidden\"><div class=\"ds\" style=\"height:32px;margin:4px 0\"><input class=\"lst\" style=\"margin:0;padding:5px 8px 0 6px;vertical-align:top;color:#000\" autocomplete=\"off\" value=\"\" title=\"Google Search\" maxlength=\"2048\" name=\"q\" size=\"57\"></div><br style=\"line-height:0\"><span class=\"ds\"><span class=\"lsbb\"><input class=\"lsb\" value=\"Google Search\" name=\"btnG\" type=\"submit\"></span></span><span class=\"ds\"><span class=\"lsbb\"><input class=\"lsb\" id=\"tsuid1\" value=\"I\\'m Feeling Lucky\" name=\"btnI\" type=\"submit\"><script nonce=\"7IND1VQ6x1PtRUuHxt/sDA==\">(function(){var id=\\'tsuid1\\';document.getElementById(id).onclick = function(){if (this.form.q.value){this.checked = 1;if (this.form.iflsig)this.form.iflsig.disabled = false;}\\nelse top.location=\\'/doodles/\\';};})();</script><input value=\"AINFCbYAAAAAYRDU7X7SZjdVDCWUjeSu48RknP3Z1ldd\" name=\"iflsig\" type=\"hidden\"></span></span></td><td class=\"fl sblc\" align=\"left\" nowrap=\"\" width=\"25%\"><a href=\"/advanced_search?hl=en&amp;authuser=0\">Advanced search</a></td></tr></table><input id=\"gbv\" name=\"gbv\" type=\"hidden\" value=\"1\"><script nonce=\"7IND1VQ6x1PtRUuHxt/sDA==\">(function(){\\nvar a,b=\"1\";if(document&&document.getElementById)if(\"undefined\"!=typeof XMLHttpRequest)b=\"2\";else if(\"undefined\"!=typeof ActiveXObject){var c,d,e=[\"MSXML2.XMLHTTP.6.0\",\"MSXML2.XMLHTTP.3.0\",\"MSXML2.XMLHTTP\",\"Microsoft.XMLHTTP\"];for(c=0;d=e[c++];)try{new ActiveXObject(d),b=\"2\"}catch(h){}}a=b;if(\"2\"==a&&-1==location.search.indexOf(\"&gbv=2\")){var f=google.gbvu,g=document.getElementById(\"gbv\");g&&(g.value=a);f&&window.setTimeout(function(){location.href=f},0)};}).call(this);</script></form><div id=\"gac_scont\"></div><div style=\"font-size:83%;min-height:3.5em\"><br><div id=\"prm\"><style>.szppmdbYutt__middle-slot-promo{font-size:small;margin-bottom:32px}.szppmdbYutt__middle-slot-promo a.ZIeIlb{display:inline-block;text-decoration:none}.szppmdbYutt__middle-slot-promo img{border:none;margin-right:5px;vertical-align:middle}</style><div class=\"szppmdbYutt__middle-slot-promo\" data-ved=\"0ahUKEwj1lNPzo6PyAhVpTDABHa8qDfkQnIcBCAQ\"><a class=\"NKcBbd\" href=\"https://www.google.com/url?q=https://www.google.com/search%3Fq%3DOlympics%26source%3Dsmp.Olympics2021.10&amp;source=hpp&amp;id=19025478&amp;ct=3&amp;usg=AFQjCNHhJ12UEwBKPXMN8EURQbajLmsJtg&amp;sa=X&amp;ved=0ahUKEwj1lNPzo6PyAhVpTDABHa8qDfkQ8IcBCAU\" rel=\"nofollow\">Stay updated on the Olympics with Google</a></div></div></div><span id=\"footer\"><div style=\"font-size:10pt\"><div style=\"margin:19px auto;text-align:center\" id=\"WqQANb\"><a href=\"/intl/en/ads/\">Advertising\\xa0Programs</a><a href=\"/services/\">Business Solutions</a><a href=\"/intl/en/about.html\">About Google</a></div></div><p style=\"font-size:8pt;color:#70757a\">&copy; 2021 - <a href=\"/intl/en/policies/privacy/\">Privacy</a> - <a href=\"/intl/en/policies/terms/\">Terms</a></p></span></center><script nonce=\"7IND1VQ6x1PtRUuHxt/sDA==\">(function(){window.google.cdo={height:757,width:1440};(function(){\\nvar a=window.innerWidth,b=window.innerHeight;if(!a||!b){var c=window.document,d=\"CSS1Compat\"==c.compatMode?c.documentElement:c.body;a=d.clientWidth;b=d.clientHeight}a&&b&&(a!=google.cdo.width||b!=google.cdo.height)&&google.log(\"\",\"\",\"/client_204?&atyp=i&biw=\"+a+\"&bih=\"+b+\"&ei=\"+google.kEI);}).call(this);})();</script> <script nonce=\"7IND1VQ6x1PtRUuHxt/sDA==\">(function(){google.xjs={ck:\\'\\',cs:\\'\\',excm:[]};})();</script>  <script nonce=\"7IND1VQ6x1PtRUuHxt/sDA==\">(function(){var u=\\'/xjs/_/js/k\\\\x3dxjs.hp.en_US.3bJx1e99SkU.O/am\\\\x3dAPgEmA/d\\\\x3d1/ed\\\\x3d1/rs\\\\x3dACT90oEVeaMZih_cTFFFz-1ni9_QwwKPXw/m\\\\x3dsb_he,d\\';\\nvar e=this||self,f=function(a){return a};var g;var l=function(a,b){this.g=b===h?a:\"\"};l.prototype.toString=function(){return this.g+\"\"};var h={};function m(){var a=u;google.lx=function(){n(a);google.lx=function(){}};google.bx||google.lx()}\\nfunction n(a){google.timers&&google.timers.load&&google.tick&&google.tick(\"load\",\"xjsls\");var b=document;var c=\"SCRIPT\";\"application/xhtml+xml\"===b.contentType&&(c=c.toLowerCase());c=b.createElement(c);if(void 0===g){b=null;var k=e.trustedTypes;if(k&&k.createPolicy){try{b=k.createPolicy(\"goog#html\",{createHTML:f,createScript:f,createScriptURL:f})}catch(p){e.console&&e.console.error(p.message)}g=b}else g=b}a=(b=g)?b.createScriptURL(a):a;a=new l(a,h);c.src=a instanceof l&&a.constructor===l?a.g:\"type_error:TrustedResourceUrl\";var d;a=(c.ownerDocument&&c.ownerDocument.defaultView||window).document;(d=(a=null===(d=a.querySelector)||void 0===d?void 0:d.call(a,\"script[nonce]\"))?a.nonce||a.getAttribute(\"nonce\")||\"\":\"\")&&c.setAttribute(\"nonce\",d);document.body.appendChild(c);google.psa=!0};setTimeout(function(){m()},0);})();(function(){window.google.xjsu=\\'/xjs/_/js/k\\\\x3dxjs.hp.en_US.3bJx1e99SkU.O/am\\\\x3dAPgEmA/d\\\\x3d1/ed\\\\x3d1/rs\\\\x3dACT90oEVeaMZih_cTFFFz-1ni9_QwwKPXw/m\\\\x3dsb_he,d\\';})();function _DumpException(e){throw e;}\\nfunction _F_installCss(c){}\\n(function(){google.jl={attn:false,blt:\\'none\\',chnk:0,dw:false,emtn:0,end:0,ine:false,lls:\\'default\\',pdt:0,rep:0,sif:true,snet:true,strt:0,ubm:false,uwp:true};})();(function(){var pmc=\\'{\\\\x22d\\\\x22:{},\\\\x22sb_he\\\\x22:{\\\\x22agen\\\\x22:false,\\\\x22cgen\\\\x22:false,\\\\x22client\\\\x22:\\\\x22heirloom-hp\\\\x22,\\\\x22dh\\\\x22:true,\\\\x22dhqt\\\\x22:true,\\\\x22ds\\\\x22:\\\\x22\\\\x22,\\\\x22ffql\\\\x22:\\\\x22en\\\\x22,\\\\x22fl\\\\x22:true,\\\\x22host\\\\x22:\\\\x22google.com\\\\x22,\\\\x22isbh\\\\x22:28,\\\\x22jsonp\\\\x22:true,\\\\x22msgs\\\\x22:{\\\\x22cibl\\\\x22:\\\\x22Clear Search\\\\x22,\\\\x22dym\\\\x22:\\\\x22Did you mean:\\\\x22,\\\\x22lcky\\\\x22:\\\\x22I\\\\\\\\u0026#39;m Feeling Lucky\\\\x22,\\\\x22lml\\\\x22:\\\\x22Learn more\\\\x22,\\\\x22oskt\\\\x22:\\\\x22Input tools\\\\x22,\\\\x22psrc\\\\x22:\\\\x22This search was removed from your \\\\\\\\u003Ca href\\\\x3d\\\\\\\\\\\\x22/history\\\\\\\\\\\\x22\\\\\\\\u003EWeb History\\\\\\\\u003C/a\\\\\\\\u003E\\\\x22,\\\\x22psrl\\\\x22:\\\\x22Remove\\\\x22,\\\\x22sbit\\\\x22:\\\\x22Search by image\\\\x22,\\\\x22srch\\\\x22:\\\\x22Google Search\\\\x22},\\\\x22ovr\\\\x22:{},\\\\x22pq\\\\x22:\\\\x22\\\\x22,\\\\x22refpd\\\\x22:true,\\\\x22rfs\\\\x22:[],\\\\x22sbas\\\\x22:\\\\x220 3px 8px 0 rgba(0,0,0,0.2),0 0 0 1px rgba(0,0,0,0.08)\\\\x22,\\\\x22sbpl\\\\x22:16,\\\\x22sbpr\\\\x22:16,\\\\x22scd\\\\x22:10,\\\\x22stok\\\\x22:\\\\x22E-b0LDCqZ6IAI4fHrxJfCeP1nCE\\\\x22,\\\\x22uhde\\\\x22:false}}\\';google.pmc=JSON.parse(pmc);})();</script>        </body></html>'\n"
          ],
          "name": "stdout"
        }
      ]
    },
    {
      "cell_type": "markdown",
      "metadata": {
        "id": "zh60efKRiic6"
      },
      "source": [
        "##07-2.외부 모듈"
      ]
    },
    {
      "cell_type": "code",
      "metadata": {
        "id": "1guCUUBSiM6o"
      },
      "source": [
        "외부 모듈은 window + R 키를 눌러 프로그램 실행창 띄우고 cmd 입력하면 나타나느 명령 프롬프트 창에서 실행\n",
        "\n",
        "pip install 모듈이름 "
      ],
      "execution_count": null,
      "outputs": []
    },
    {
      "cell_type": "markdown",
      "metadata": {
        "id": "fgkTU7WrlNM8"
      },
      "source": [
        "태그 여러개는 select() 함수\n",
        "\n",
        "하나만 선택할 때는 select_one()함수"
      ]
    },
    {
      "cell_type": "code",
      "metadata": {
        "colab": {
          "base_uri": "https://localhost:8080/"
        },
        "id": "86Q55o_UkvPs",
        "outputId": "ce468684-db0c-4045-da44-fd2ef0dccddd"
      },
      "source": [
        "from urllib import request\n",
        "from bs4 import BeautifulSoup\n",
        "\n",
        "target = request.urlopen(\"http://www.kma.go.kr/weather/forecast/mid-term-rss3.jsp?stnId=108\")\n",
        "\n",
        "soup = BeautifulSoup(target,\"html.parser\")\n",
        "\n",
        "for location in soup.select(\"location\"):\n",
        "    print(\"도시:\",location.select_one(\"city\").string)\n",
        "    print(\"날씨:\",location.select_one(\"wf\").string)\n",
        "    print(\"최저기온:\",location.select_one(\"tmn\").string)\n",
        "    print(\"최고기온:\",location.select_one(\"tmx\").string)\n",
        "    print()\n"
      ],
      "execution_count": 18,
      "outputs": [
        {
          "output_type": "stream",
          "text": [
            "도시: 서울\n",
            "날씨: 맑음\n",
            "최저기온: 24\n",
            "최고기온: 31\n",
            "\n",
            "도시: 인천\n",
            "날씨: 맑음\n",
            "최저기온: 24\n",
            "최고기온: 30\n",
            "\n",
            "도시: 수원\n",
            "날씨: 맑음\n",
            "최저기온: 23\n",
            "최고기온: 32\n",
            "\n",
            "도시: 파주\n",
            "날씨: 맑음\n",
            "최저기온: 21\n",
            "최고기온: 31\n",
            "\n",
            "도시: 이천\n",
            "날씨: 맑음\n",
            "최저기온: 21\n",
            "최고기온: 31\n",
            "\n",
            "도시: 평택\n",
            "날씨: 맑음\n",
            "최저기온: 22\n",
            "최고기온: 31\n",
            "\n",
            "도시: 춘천\n",
            "날씨: 구름많음\n",
            "최저기온: 22\n",
            "최고기온: 31\n",
            "\n",
            "도시: 원주\n",
            "날씨: 구름많음\n",
            "최저기온: 22\n",
            "최고기온: 31\n",
            "\n",
            "도시: 강릉\n",
            "날씨: 구름많음\n",
            "최저기온: 23\n",
            "최고기온: 29\n",
            "\n",
            "도시: 대전\n",
            "날씨: 맑음\n",
            "최저기온: 23\n",
            "최고기온: 32\n",
            "\n",
            "도시: 세종\n",
            "날씨: 맑음\n",
            "최저기온: 22\n",
            "최고기온: 31\n",
            "\n",
            "도시: 홍성\n",
            "날씨: 맑음\n",
            "최저기온: 22\n",
            "최고기온: 31\n",
            "\n",
            "도시: 청주\n",
            "날씨: 구름많음\n",
            "최저기온: 23\n",
            "최고기온: 32\n",
            "\n",
            "도시: 충주\n",
            "날씨: 구름많음\n",
            "최저기온: 21\n",
            "최고기온: 31\n",
            "\n",
            "도시: 영동\n",
            "날씨: 구름많음\n",
            "최저기온: 21\n",
            "최고기온: 31\n",
            "\n",
            "도시: 광주\n",
            "날씨: 흐림\n",
            "최저기온: 23\n",
            "최고기온: 31\n",
            "\n",
            "도시: 목포\n",
            "날씨: 흐림\n",
            "최저기온: 24\n",
            "최고기온: 31\n",
            "\n",
            "도시: 여수\n",
            "날씨: 흐림\n",
            "최저기온: 25\n",
            "최고기온: 30\n",
            "\n",
            "도시: 순천\n",
            "날씨: 흐림\n",
            "최저기온: 24\n",
            "최고기온: 32\n",
            "\n",
            "도시: 광양\n",
            "날씨: 흐림\n",
            "최저기온: 24\n",
            "최고기온: 31\n",
            "\n",
            "도시: 나주\n",
            "날씨: 흐림\n",
            "최저기온: 22\n",
            "최고기온: 32\n",
            "\n",
            "도시: 전주\n",
            "날씨: 맑음\n",
            "최저기온: 23\n",
            "최고기온: 32\n",
            "\n",
            "도시: 군산\n",
            "날씨: 맑음\n",
            "최저기온: 23\n",
            "최고기온: 30\n",
            "\n",
            "도시: 정읍\n",
            "날씨: 맑음\n",
            "최저기온: 22\n",
            "최고기온: 31\n",
            "\n",
            "도시: 남원\n",
            "날씨: 맑음\n",
            "최저기온: 22\n",
            "최고기온: 31\n",
            "\n",
            "도시: 고창\n",
            "날씨: 맑음\n",
            "최저기온: 22\n",
            "최고기온: 31\n",
            "\n",
            "도시: 무주\n",
            "날씨: 맑음\n",
            "최저기온: 21\n",
            "최고기온: 31\n",
            "\n",
            "도시: 부산\n",
            "날씨: 흐림\n",
            "최저기온: 25\n",
            "최고기온: 29\n",
            "\n",
            "도시: 울산\n",
            "날씨: 흐림\n",
            "최저기온: 23\n",
            "최고기온: 29\n",
            "\n",
            "도시: 창원\n",
            "날씨: 흐림\n",
            "최저기온: 24\n",
            "최고기온: 30\n",
            "\n",
            "도시: 진주\n",
            "날씨: 흐림\n",
            "최저기온: 23\n",
            "최고기온: 31\n",
            "\n",
            "도시: 거창\n",
            "날씨: 흐림\n",
            "최저기온: 21\n",
            "최고기온: 30\n",
            "\n",
            "도시: 통영\n",
            "날씨: 흐림\n",
            "최저기온: 25\n",
            "최고기온: 30\n",
            "\n",
            "도시: 대구\n",
            "날씨: 흐림\n",
            "최저기온: 23\n",
            "최고기온: 32\n",
            "\n",
            "도시: 안동\n",
            "날씨: 흐림\n",
            "최저기온: 21\n",
            "최고기온: 31\n",
            "\n",
            "도시: 포항\n",
            "날씨: 흐림\n",
            "최저기온: 24\n",
            "최고기온: 29\n",
            "\n",
            "도시: 경주\n",
            "날씨: 흐림\n",
            "최저기온: 22\n",
            "최고기온: 29\n",
            "\n",
            "도시: 울진\n",
            "날씨: 흐림\n",
            "최저기온: 22\n",
            "최고기온: 27\n",
            "\n",
            "도시: 울릉도\n",
            "날씨: 흐림\n",
            "최저기온: 23\n",
            "최고기온: 27\n",
            "\n",
            "도시: 제주\n",
            "날씨: 흐리고 비\n",
            "최저기온: 25\n",
            "최고기온: 29\n",
            "\n",
            "도시: 서귀포\n",
            "날씨: 흐리고 비\n",
            "최저기온: 24\n",
            "최고기온: 28\n",
            "\n"
          ],
          "name": "stdout"
        }
      ]
    },
    {
      "cell_type": "markdown",
      "metadata": {
        "id": "qS-Kj_iNrk5h"
      },
      "source": [
        "flask 모듈은\n",
        "\n",
        "set FLASK_APP=파일이름.py\n",
        "\n",
        "flask run\n",
        "\n",
        "으로 실행"
      ]
    },
    {
      "cell_type": "markdown",
      "metadata": {
        "id": "tiNxxgzRrrhB"
      },
      "source": [
        "라이브러리 = 정상적인 제어를 하는 모듈\n",
        "\n",
        "프레임워크 = 제어 역전이 발생하는 모듈"
      ]
    },
    {
      "cell_type": "markdown",
      "metadata": {
        "id": "-mGJZL18r0LO"
      },
      "source": [
        "개발자가 직접 모듈을 호출하는 것= 라이브러리 = 정상적인 제어"
      ]
    },
    {
      "cell_type": "markdown",
      "metadata": {
        "id": "FVAg2CWsr89f"
      },
      "source": [
        "알아서 서버 실행하고 지정한 파일 읽어들여서 스스로 실행하는 형태의 모듈 = 프레임워크"
      ]
    },
    {
      "cell_type": "code",
      "metadata": {
        "colab": {
          "base_uri": "https://localhost:8080/"
        },
        "id": "1JwPp1PDkvnJ",
        "outputId": "e109eb2d-5a9a-4a19-ecfc-8e023254fbaf"
      },
      "source": [
        "#함수 데코레이터를 생성합니다.\n",
        "def test(function):\n",
        "  def wrapper():\n",
        "    print(\"인사가 시작되었습니다.\")\n",
        "    function()\n",
        "    print(\"인사가 종료되었습니다.\")\n",
        "  return wrapper\n",
        "\n",
        "#데코레이터를 붙여 함수를 만듭니다.\n",
        "@test\n",
        "def hello():\n",
        "  print(\"hello\")\n",
        "\n",
        "#함수 호출\n",
        "hello()"
      ],
      "execution_count": 21,
      "outputs": [
        {
          "output_type": "stream",
          "text": [
            "인사가 시작되었습니다.\n",
            "hello\n",
            "인사가 종료되었습니다.\n"
          ],
          "name": "stdout"
        }
      ]
    },
    {
      "cell_type": "markdown",
      "metadata": {
        "id": "-GXAoIzJu491"
      },
      "source": [
        "##07-3.모듈 만들기"
      ]
    },
    {
      "cell_type": "code",
      "metadata": {
        "colab": {
          "base_uri": "https://localhost:8080/",
          "height": 36
        },
        "id": "Wuwn2cvGu78b",
        "outputId": "68faaceb-a928-4440-9205-0d5c823fcbf0"
      },
      "source": [
        "__name__"
      ],
      "execution_count": 24,
      "outputs": [
        {
          "output_type": "execute_result",
          "data": {
            "application/vnd.google.colaboratory.intrinsic+json": {
              "type": "string"
            },
            "text/plain": [
              "'__main__'"
            ]
          },
          "metadata": {
            "tags": []
          },
          "execution_count": 24
        }
      ]
    },
    {
      "cell_type": "markdown",
      "metadata": {
        "id": "fJB7zPFTwxQl"
      },
      "source": [
        "프로그램의 진입점 = **엔트리 포인트 or 메인**\n"
      ]
    },
    {
      "cell_type": "markdown",
      "metadata": {
        "id": "sJhDRKeSz0lX"
      },
      "source": [
        "pip = 패키지 관리시스템\n",
        "\n",
        "모듈이 모여서 구조를 이루면 패키지라고 함"
      ]
    }
  ]
}