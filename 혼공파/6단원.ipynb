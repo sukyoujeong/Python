{
  "nbformat": 4,
  "nbformat_minor": 0,
  "metadata": {
    "colab": {
      "name": "6단원",
      "provenance": []
    },
    "kernelspec": {
      "name": "python3",
      "display_name": "Python 3"
    },
    "language_info": {
      "name": "python"
    }
  },
  "cells": [
    {
      "cell_type": "markdown",
      "metadata": {
        "id": "IkzNfPpXHRPq"
      },
      "source": [
        "##06-1.구문 오류와 예외\n",
        "\n"
      ]
    },
    {
      "cell_type": "code",
      "metadata": {
        "colab": {
          "base_uri": "https://localhost:8080/"
        },
        "id": "A9ktOJlDHDya",
        "outputId": "32115552-4abf-426d-eadd-08583fa61341"
      },
      "source": [
        "#조건문으로 예외 처리하기\n",
        "\n",
        "#숫자를 입력받습니다.\n",
        "user_input_a = input(\"정수입력 >\")\n",
        "\n",
        "#사용자 입력이 숫자로만 구성되어 있을 때\n",
        "if user_input_a.isdigit():\n",
        "  #숫자로 변환합니다.\n",
        "  number_input_a = int(user_input_a)\n",
        "  #출력합니다.\n",
        "  print(\"원의 반지름:\", number_input_a)\n",
        "  print(\"원의 둘레:\",2*3.14*number_input_a)\n",
        "  print(\"원의 넓이:\",3.14*number_input_a*number_input_a)\n",
        "\n",
        "else:\n",
        "  print(\"정수를 입력하지 않았습니다.\")"
      ],
      "execution_count": 1,
      "outputs": [
        {
          "output_type": "stream",
          "text": [
            "정수입력 >8\n",
            "원의 반지름: 8\n",
            "원의 둘레: 50.24\n",
            "원의 넓이: 200.96\n"
          ],
          "name": "stdout"
        }
      ]
    },
    {
      "cell_type": "markdown",
      "metadata": {
        "id": "uelY3rlfIY9K"
      },
      "source": [
        "**try except 구문**\n",
        "\n",
        "try:\n",
        "\n",
        "예외가 발생할 가능성이 있는 코드\n",
        "\n",
        "except:\n",
        "\n",
        "예외가 발생했을 때 실행할 코드"
      ]
    },
    {
      "cell_type": "code",
      "metadata": {
        "colab": {
          "base_uri": "https://localhost:8080/"
        },
        "id": "2yLPDBc2IFbB",
        "outputId": "245770f5-6160-4d87-e407-f51f1f2ea1a9"
      },
      "source": [
        "#try except 구문으로 예외를 처리합니다.\n",
        "try:\n",
        "  #숫자로 변환합니다.\n",
        "  number_input_a = int(input(\"정수 입력> \"))\n",
        "  #출력합니다\n",
        "  print(\"원의 반지름:\", number_input_a)\n",
        "  print(\"원의 둘레:\",2*3.14*number_input_a)\n",
        "  print(\"원의 넓이:\",3.14*number_input_a*number_input_a)\n",
        "\n",
        "except:\n",
        "  print(\"무언가 잘못되었습니다.\")"
      ],
      "execution_count": 3,
      "outputs": [
        {
          "output_type": "stream",
          "text": [
            "정수 입력> Y\n",
            "무언가 잘못되었습니다.\n"
          ],
          "name": "stdout"
        }
      ]
    },
    {
      "cell_type": "code",
      "metadata": {
        "colab": {
          "base_uri": "https://localhost:8080/"
        },
        "id": "FcsZxhSMIpOG",
        "outputId": "06a89981-c3ce-4613-a5ed-850029cd9a87"
      },
      "source": [
        "#변수를 선언합니다.\n",
        "list_input_a = [\"52\",\"273\",\"32\",\"스파이\",\"103\"]\n",
        "\n",
        "#반복을 적용합니다.\n",
        "list_number =[]\n",
        "for item in list_input_a:\n",
        "  try:\n",
        "    float(item) #예외가 발생하면 알아서 다음으로 진행은 안되겠지?\n",
        "    list_number.append(item)  #예외없이 통과했으면 리스트에 넣어줘!\n",
        "\n",
        "  except:\n",
        "    pass\n",
        "\n",
        "#출력합니다.\n",
        "print(\"{}내부에 있는 숫자는\".format(list_input_a))\n",
        "print(\"{}입니다.\".format(list_number))"
      ],
      "execution_count": 4,
      "outputs": [
        {
          "output_type": "stream",
          "text": [
            "['52', '273', '32', '스파이', '103']내부에 있는 숫자는\n",
            "['52', '273', '32', '103']입니다.\n"
          ],
          "name": "stdout"
        }
      ]
    },
    {
      "cell_type": "markdown",
      "metadata": {
        "id": "RY_zg69hJc4I"
      },
      "source": [
        "**try except else 구문**\n",
        "\n",
        "try:\n",
        "\n",
        "예외가 발생할 가능성이 있는 코드\n",
        "\n",
        "except:\n",
        "\n",
        "예외가 발생했을 때 실행할 코드\n",
        "\n",
        "else:\n",
        "\n",
        "예외가 발생하지 않았을 때 실행할 코드\n"
      ]
    },
    {
      "cell_type": "code",
      "metadata": {
        "colab": {
          "base_uri": "https://localhost:8080/"
        },
        "id": "QAaImcknJZsL",
        "outputId": "0e2ce030-a7df-4fad-9455-5a254f8cbc92"
      },
      "source": [
        "#try except else 구문으로 예외를 처리합니다.\n",
        "try:\n",
        "  #숫자로 변환합니다.\n",
        "  number_input_a = int(input(\"정수 입력> \"))\n",
        "  \n",
        "except:\n",
        "  print(\"정수를 입력하지 않았습니다.\")\n",
        "\n",
        "else:\n",
        "  #출력합니다.\n",
        "  print(\"원의 반지름:\", number_input_a)\n",
        "  print(\"원의 둘레:\",2*3.14*number_input_a)\n",
        "  print(\"원의 넓이:\",3.14*number_input_a*number_input_a)"
      ],
      "execution_count": 5,
      "outputs": [
        {
          "output_type": "stream",
          "text": [
            "정수 입력> ㅅ\n",
            "정수를 입력하지 않았습니다.\n"
          ],
          "name": "stdout"
        }
      ]
    },
    {
      "cell_type": "markdown",
      "metadata": {
        "id": "tSVb4rpzJ4yv"
      },
      "source": [
        "**finally 구문**\n",
        "\n",
        "try:\n",
        "\n",
        "예외가 발생할 가능성이 잇는 코드\n",
        "\n",
        "except:\n",
        "\n",
        "예외가 발생했을 때 실행할 코드\n",
        "\n",
        "\n",
        "else:\n",
        "\n",
        "예외가 발생하지 않았을때 실행할 코드\n",
        "\n",
        "finally:\n",
        "\n",
        "무조건 실행할 코드"
      ]
    },
    {
      "cell_type": "code",
      "metadata": {
        "colab": {
          "base_uri": "https://localhost:8080/"
        },
        "id": "jXQR7wm1J2uD",
        "outputId": "bdada4b9-e26d-4e27-a968-5cd666c1c7da"
      },
      "source": [
        "#try except 구문으로 예외를 처리합니다.\n",
        "try:\n",
        "  #숫자로 변환합니다.\n",
        "  number_input_a = int(input(\"정수입력> \"))\n",
        "  #출력합니다.\n",
        "  print(\"원의 반지름:\", number_input_a)\n",
        "  print(\"원의 둘레:\",2*3.14*number_input_a)\n",
        "  print(\"원의 넓이:\",3.14*number_input_a*number_input_a)\n",
        "\n",
        "except:\n",
        "  print(\"정수 입력하라 햇자나\")\n",
        "\n",
        "else:\n",
        "  print(\"예외가 발생하지 않았습니다.\")\n",
        "\n",
        "finally:\n",
        "  print(\"일단 끝\")"
      ],
      "execution_count": 8,
      "outputs": [
        {
          "output_type": "stream",
          "text": [
            "정수입력> y\n",
            "정수 입력하라 햇자나\n",
            "일단 끝\n"
          ],
          "name": "stdout"
        }
      ]
    },
    {
      "cell_type": "markdown",
      "metadata": {
        "id": "x0NbSVSKKs_Z"
      },
      "source": [
        "예외처리 구문의 규칙\n",
        "\n",
        "- try는 단독으로 사용 x, except,finally 구문이랑 함께\n",
        "- else는 반드시 except 뒤에\n",
        "\n",
        "- try+except\n",
        "- try+ except+else\n",
        "- try+except+finally\n",
        "- try+except+else+finally\n",
        "- try+finally"
      ]
    },
    {
      "cell_type": "code",
      "metadata": {
        "colab": {
          "base_uri": "https://localhost:8080/"
        },
        "id": "eLxd6bLGKjPp",
        "outputId": "13d952a5-6a1e-49b7-838a-d3861ab8ffa4"
      },
      "source": [
        "#test()함수를 선언합니다.\n",
        "\n",
        "def test():\n",
        "  print(\"test() 함수의 첫 줄입니다.\")\n",
        "  try:\n",
        "    print(\"try구문이 실행되었습니다.\")\n",
        "    return    #함수 끝내라 임마!\n",
        "    print(\"try 구문의 return 키워드 뒤입니다.\")\n",
        "\n",
        "  except:\n",
        "    print(\"except 구문이 실행되었습니다.\")\n",
        "\n",
        "  else:\n",
        "    print(\"else구문이 실행되었습니다.\")\n",
        "\n",
        "  finally:\n",
        "    print(\"finally 구문이 실행되었습니다.\")\n",
        "\n",
        "  print(\"test()함수의 마지막 줄입니다.\")\n",
        "\n",
        "\n",
        "#test()함수를 호출합니다.\n",
        "test()"
      ],
      "execution_count": 9,
      "outputs": [
        {
          "output_type": "stream",
          "text": [
            "test() 함수의 첫 줄입니다.\n",
            "try구문이 실행되었습니다.\n",
            "finally 구문이 실행되었습니다.\n"
          ],
          "name": "stdout"
        }
      ]
    },
    {
      "cell_type": "code",
      "metadata": {
        "colab": {
          "base_uri": "https://localhost:8080/"
        },
        "id": "jTWohNPJM1mS",
        "outputId": "dc749cfa-a34a-4eb6-f364-62b39bc16639"
      },
      "source": [
        "print(\"프로그램이 시작되었습니다.\")\n",
        "\n",
        "while True:\n",
        "  try:\n",
        "    print(\"try구문이 실행되었습니다.\")\n",
        "    break\n",
        "    print(\"try구문의 break 키워드 뒤입니다.\")\n",
        "\n",
        "  except:\n",
        "    print(\"except 구문이 실행되었습니다.\")\n",
        "\n",
        "  finally:\n",
        "    print(\"finally 구문이 실행되었습니다.\")\n",
        "\n",
        "  print(\"While 반복문의 마지막줄입니다.\")\n",
        "\n",
        "print(\"프로그램이 종료 되었습니다.\")"
      ],
      "execution_count": 11,
      "outputs": [
        {
          "output_type": "stream",
          "text": [
            "프로그램이 시작되었습니다.\n",
            "try구문이 실행되었습니다.\n",
            "finally 구문이 실행되었습니다.\n",
            "프로그램이 종료 되었습니다.\n"
          ],
          "name": "stdout"
        }
      ]
    },
    {
      "cell_type": "markdown",
      "metadata": {
        "id": "GbnjmTxkOK6J"
      },
      "source": [
        "##06-2.예외 고급"
      ]
    },
    {
      "cell_type": "markdown",
      "metadata": {
        "id": "YUA9OWMePEZ9"
      },
      "source": [
        "예외객체\n",
        "\n",
        "try:\n",
        "\n",
        "예외가 발생할 가능성이 있는 구문\n",
        "\n",
        "except 예외의 종류 as 예외 객체를 활용할 변수 이름:\n",
        "\n",
        "예외가 발생했을 때 실행할 구문\n",
        "\n",
        "\n",
        "**Exception** 예외의 어머니"
      ]
    },
    {
      "cell_type": "code",
      "metadata": {
        "colab": {
          "base_uri": "https://localhost:8080/"
        },
        "id": "ErFgjkSDNxOJ",
        "outputId": "9170efe4-6366-4e37-d1da-1dc9a57968a6"
      },
      "source": [
        "#try except 구문으로 예외를 처리합니다.\n",
        "\n",
        "try:\n",
        "  #숫자로 변환합니다.\n",
        "  number_input_a = int(input(\"정수 입력>\"))\n",
        "  #출력합니다.\n",
        "  print(\"원의 반지름:\", number_input_a)\n",
        "  print(\"원의 둘레:\",2*3.14*number_input_a)\n",
        "  print(\"원의 넓이:\",3.14*number_input_a*number_input_a)\n",
        "except Exception as exception:\n",
        "  #예외 객체를 출력\n",
        "  print(\"type(exception):\",type(exception))\n",
        "  print(\"exception:\",exception)"
      ],
      "execution_count": 13,
      "outputs": [
        {
          "output_type": "stream",
          "text": [
            "정수 입력>t\n",
            "type(exception: <class 'ValueError'>\n",
            "exception: invalid literal for int() with base 10: 't'\n"
          ],
          "name": "stdout"
        }
      ]
    },
    {
      "cell_type": "code",
      "metadata": {
        "colab": {
          "base_uri": "https://localhost:8080/"
        },
        "id": "yVyqcYvCQThO",
        "outputId": "85765804-3f40-49bd-e943-c25a26d23926"
      },
      "source": [
        "#예외구분하기\n",
        "\n",
        "#변수를 선언합니다.\n",
        "list_number = [52,273,32,72,100]\n",
        "\n",
        "#try except 구문으로 예외를 처리합니다.\n",
        "try:\n",
        "  #숫자를 입력받습니다.\n",
        "  number_input = int(input(\"정수 입력>\"))\n",
        "  #리스트의 요소를 출력합니다.\n",
        "  print(\"{}번째 요소: {}\".format(number_input, list_number[number_input]))\n",
        "\n",
        "except ValueError:\n",
        "  print(\"정수를 입력해주세용\")\n",
        "\n",
        "except IndexError:\n",
        "  print(\"리스트의 인덱스를 벗어났어염\")"
      ],
      "execution_count": 16,
      "outputs": [
        {
          "output_type": "stream",
          "text": [
            "정수 입력>112ㄷ\n",
            "정수를 입력해주세용\n"
          ],
          "name": "stdout"
        }
      ]
    },
    {
      "cell_type": "code",
      "metadata": {
        "colab": {
          "base_uri": "https://localhost:8080/"
        },
        "id": "AWDu6gGTR2qV",
        "outputId": "2741c249-f109-491f-e098-121a53ec40ed"
      },
      "source": [
        "#예외객체\n",
        "\n",
        "#변수를 선언합니다.\n",
        "list_number = [52,273,32,72,100]\n",
        "\n",
        "#try except 구문으로 예외를 처리합니다.\n",
        "try:\n",
        "  #숫자를 입력받습니다.\n",
        "  number_input = int(input(\"정수 입력>\"))\n",
        "  #리스트의 요소를 출력합니다.\n",
        "  print(\"{}번째 요소: {}\".format(number_input, list_number[number_input]))\n",
        "\n",
        "except ValueError as exception:\n",
        "  print(\"정수를 입력해주세용\")\n",
        "  print(\"exception:\",exception)\n",
        "\n",
        "except IndexError as exception:\n",
        "  print(\"리스트의 인덱스를 벗어났어염\")\n",
        "  print(\"exception:\",exception)"
      ],
      "execution_count": 18,
      "outputs": [
        {
          "output_type": "stream",
          "text": [
            "정수 입력>d\n",
            "정수를 입력해주세용\n",
            "exception: invalid literal for int() with base 10: 'd'\n"
          ],
          "name": "stdout"
        }
      ]
    },
    {
      "cell_type": "code",
      "metadata": {
        "colab": {
          "base_uri": "https://localhost:8080/"
        },
        "id": "kvXZrDBcTY8T",
        "outputId": "c567032c-ac51-4087-bfbb-bc5bb9bb9cbf"
      },
      "source": [
        "#모든 예외잡기\n",
        "\n",
        "\n",
        "#변수를 선언합니다.\n",
        "list_number = [52,273,32,72,100]\n",
        "\n",
        "#try except 구문으로 예외를 처리합니다.\n",
        "try:\n",
        "  #숫자를 입력받습니다.\n",
        "  number_input = int(input(\"정수 입력>\"))\n",
        "  #리스트의 요소를 출력합니다.\n",
        "  print(\"{}번째 요소: {}\".format(number_input, list_number[number_input]))\n",
        "  예외.발생해주세염()\n",
        "\n",
        "except ValueError:\n",
        "  print(\"정수를 입력해주세용\")\n",
        "\n",
        "except IndexError:\n",
        "  print(\"리스트의 인덱스를 벗어났어염\")\n",
        "\n",
        "except Exception as exception:\n",
        "  #이외의 예외가 발생한 경우\n",
        "  print(\"미리파악못한 예외가 발생했어요\")\n",
        "  print(type(exception),exception)\n"
      ],
      "execution_count": 19,
      "outputs": [
        {
          "output_type": "stream",
          "text": [
            "정수 입력>2\n",
            "2번째 요소: 32\n",
            "미리파악못한 예외가 발생했어요\n",
            "<class 'NameError'> name '예외' is not defined\n"
          ],
          "name": "stdout"
        }
      ]
    },
    {
      "cell_type": "markdown",
      "metadata": {
        "id": "XEQN-LtYVNiz"
      },
      "source": [
        "아직 구현되지 않은 부분에서 강제로 예외 발생시키기\n",
        "\n",
        "raise 예외 객체"
      ]
    },
    {
      "cell_type": "code",
      "metadata": {
        "colab": {
          "base_uri": "https://localhost:8080/",
          "height": 269
        },
        "id": "Sc_Jcx7HT-XG",
        "outputId": "96fecc1b-6ada-46be-fc69-c1b380d7084f"
      },
      "source": [
        "#입력을 받습니다.\n",
        "number = input(\"정수 입력>\")\n",
        "number = int(number)\n",
        "\n",
        "#조건문 사용\n",
        "if number>0:\n",
        "  #양수일때: 아직 미구현 상태입니다.\n",
        "  raise NotImplementedError\n",
        "\n",
        "else:\n",
        "  #음수일때 : 아직 미구현 상태입니다.\n",
        "  raise NotImplementedError"
      ],
      "execution_count": 20,
      "outputs": [
        {
          "output_type": "stream",
          "text": [
            "정수 입력>2\n"
          ],
          "name": "stdout"
        },
        {
          "output_type": "error",
          "ename": "NotImplementedError",
          "evalue": "ignored",
          "traceback": [
            "\u001b[0;31m---------------------------------------------------------------------------\u001b[0m",
            "\u001b[0;31mNotImplementedError\u001b[0m                       Traceback (most recent call last)",
            "\u001b[0;32m<ipython-input-20-d11a23efad8b>\u001b[0m in \u001b[0;36m<module>\u001b[0;34m()\u001b[0m\n\u001b[1;32m      6\u001b[0m \u001b[0;32mif\u001b[0m \u001b[0mnumber\u001b[0m\u001b[0;34m>\u001b[0m\u001b[0;36m0\u001b[0m\u001b[0;34m:\u001b[0m\u001b[0;34m\u001b[0m\u001b[0;34m\u001b[0m\u001b[0m\n\u001b[1;32m      7\u001b[0m   \u001b[0;31m#양수일때: 아직 미구현 상태입니다.\u001b[0m\u001b[0;34m\u001b[0m\u001b[0;34m\u001b[0m\u001b[0;34m\u001b[0m\u001b[0m\n\u001b[0;32m----> 8\u001b[0;31m   \u001b[0;32mraise\u001b[0m \u001b[0mNotImplementedError\u001b[0m\u001b[0;34m\u001b[0m\u001b[0;34m\u001b[0m\u001b[0m\n\u001b[0m\u001b[1;32m      9\u001b[0m \u001b[0;34m\u001b[0m\u001b[0m\n\u001b[1;32m     10\u001b[0m \u001b[0;32melse\u001b[0m\u001b[0;34m:\u001b[0m\u001b[0;34m\u001b[0m\u001b[0;34m\u001b[0m\u001b[0m\n",
            "\u001b[0;31mNotImplementedError\u001b[0m: "
          ]
        }
      ]
    }
  ]
}