{
  "nbformat": 4,
  "nbformat_minor": 0,
  "metadata": {
    "colab": {
      "name": "Untitled0.ipynb",
      "provenance": []
    },
    "kernelspec": {
      "name": "python3",
      "display_name": "Python 3"
    },
    "language_info": {
      "name": "python"
    }
  },
  "cells": [
    {
      "cell_type": "markdown",
      "metadata": {
        "id": "s8gV4Nf2D0kf"
      },
      "source": [
        "사전순서대로 앞에있는 것이 작은 값 "
      ]
    },
    {
      "cell_type": "code",
      "metadata": {
        "colab": {
          "base_uri": "https://localhost:8080/"
        },
        "id": "nb20wK-aDqKa",
        "outputId": "be9e7aa7-69c0-47f5-fc60-0cf705305f0a"
      },
      "source": [
        "print(\"가방\"<\"하마\")"
      ],
      "execution_count": null,
      "outputs": [
        {
          "output_type": "stream",
          "text": [
            "True\n"
          ],
          "name": "stdout"
        }
      ]
    },
    {
      "cell_type": "code",
      "metadata": {
        "colab": {
          "base_uri": "https://localhost:8080/"
        },
        "id": "eK-YNwtQD9e7",
        "outputId": "2ca017da-f538-4655-98c0-4bda8b62886e"
      },
      "source": [
        "#입력을 받습니다\n",
        "number = input(\"정수 입력> \")\n",
        "number = int(number)          #input으로 받는건 다 문자열\n",
        "\n",
        "#양수 조건\n",
        "if number >0:\n",
        "  print(\"양수입니다.\")\n",
        "\n",
        "if number <0:\n",
        "  print(\"음수입니다.\")\n",
        "\n",
        "if number ==0:\n",
        "  print(\"0입니다.\") "
      ],
      "execution_count": null,
      "outputs": [
        {
          "output_type": "stream",
          "text": [
            "정수 입력> 22\n",
            "양수입니다.\n"
          ],
          "name": "stdout"
        }
      ]
    },
    {
      "cell_type": "markdown",
      "metadata": {
        "id": "PKbVv7z3PhZi"
      },
      "source": [
        "**IF조건문**\n",
        "if 불 값이 나오는 표현식: (if 조건문 뒤에는 반드시 콜론)\n",
        "  \n",
        "      불값이 참일 때 실행할 문장"
      ]
    },
    {
      "cell_type": "code",
      "metadata": {
        "id": "8XZWtbc4Gv7L",
        "colab": {
          "base_uri": "https://localhost:8080/"
        },
        "outputId": "5640b55f-880a-44ca-a9ee-4b8687ea5f6b"
      },
      "source": [
        "#날짜/시간과 관련된 기능을 가져옵니다.\n",
        "import datetime\n",
        "\n",
        "#현재 날짜/시간을 구합니다.\n",
        "now = datetime.datetime.now()\n",
        "\n",
        "#출력합니다.\n",
        "print(now.year,\"년\")\n",
        "print(now.month,\"월\")\n",
        "print(now.day,\"일\")\n",
        "print(now.hour,\"시\")\n",
        "print(now.minute,\"분 \")\n",
        "print(now.second,\"초\")"
      ],
      "execution_count": 1,
      "outputs": [
        {
          "output_type": "stream",
          "text": [
            "2021 년\n",
            "7 월\n",
            "20 일\n",
            "14 시\n",
            "10 분 \n",
            "33 초\n"
          ],
          "name": "stdout"
        }
      ]
    },
    {
      "cell_type": "markdown",
      "metadata": {
        "id": "T-vldIv5Q8i6"
      },
      "source": [
        "##format함수\n",
        "\"{}\".format(~~)\n",
        "\n",
        "하면 중괄호 안에 format안의 것이 들어감."
      ]
    },
    {
      "cell_type": "code",
      "metadata": {
        "colab": {
          "base_uri": "https://localhost:8080/"
        },
        "id": "BKoDmTNLQO9n",
        "outputId": "62c54d67-df03-44ac-9a88-5705513d857d"
      },
      "source": [
        "#날짜/시간과 관련된 기능을 가져옵니다.\n",
        "import datetime\n",
        "\n",
        "#현재 날짜/시간을 구합니다.\n",
        "now = datetime.datetime.now()\n",
        "\n",
        "#출력합니다.\n",
        "print(\"{}년 {}월 {}일 {}시 {}분 {}초\".format(\n",
        "    now.year,\n",
        "    now.month,\n",
        "    now.day,\n",
        "    now.hour,\n",
        "    now.minute,\n",
        "    now.second\n",
        "\n",
        "))"
      ],
      "execution_count": 2,
      "outputs": [
        {
          "output_type": "stream",
          "text": [
            "2021년 7월 20일 14시 13분 5초\n"
          ],
          "name": "stdout"
        }
      ]
    },
    {
      "cell_type": "code",
      "metadata": {
        "colab": {
          "base_uri": "https://localhost:8080/"
        },
        "id": "yZBn-9IlQ1cB",
        "outputId": "7a4d1c15-4746-4931-c8e1-aa8c9e4bd3b8"
      },
      "source": [
        "#날짜/시간과 관련된 기능을 가져옵니다.\n",
        "import datetime\n",
        "\n",
        "#현재 날짜/시간을 구합니다.\n",
        "now = datetime.datetime.now()\n",
        "\n",
        "#오전 구분\n",
        "if now.hour<12:\n",
        "  print(\"헌재시각은 {}시로 오전입니다!\".format(now.hour))\n",
        "\n",
        "#오후 구분\n",
        "if now.hour>=12:\n",
        "  print(\"현재 시각은 {}시로 오후입니다.\".format(now.hour))"
      ],
      "execution_count": 4,
      "outputs": [
        {
          "output_type": "stream",
          "text": [
            "현재 시각은 14시로 오후입니다.\n"
          ],
          "name": "stdout"
        }
      ]
    },
    {
      "cell_type": "code",
      "metadata": {
        "colab": {
          "base_uri": "https://localhost:8080/"
        },
        "id": "cCxmc75DRyM8",
        "outputId": "2e849cbf-d5a4-4873-a8a0-31be9841203c"
      },
      "source": [
        "#날짜/시간과 관련된 기능을 가져옵니다.\n",
        "import datetime\n",
        "\n",
        "#현재 날짜/시간을 구합니다.\n",
        "now = datetime.datetime.now()\n",
        "\n",
        "#봄 구분\n",
        "if 3<=now.month<=5:\n",
        "  print(\"이번달은 {}월로 봄입니다!\".format(now.month))\n",
        "\n",
        "#여름 구분\n",
        "if 6<=now.month<=8:\n",
        "  print(\"이번달은 {}월로 여름입니다.\".format(now.month))\n",
        "\n",
        "#가을 구분\n",
        "if 9<=now.month<=11:\n",
        "  print(\"이번달은 {}월로 가을입니다!\".format(now.month))\n",
        "\n",
        "#겨울 구분\n",
        "if now.month==12 or 1<=now.month<=2:\n",
        "  print(\"이번달은 {}월로 겨울입니다!\".format(now.month))"
      ],
      "execution_count": 5,
      "outputs": [
        {
          "output_type": "stream",
          "text": [
            "이번달은 7월로 여름입니다.\n"
          ],
          "name": "stdout"
        }
      ]
    },
    {
      "cell_type": "code",
      "metadata": {
        "colab": {
          "base_uri": "https://localhost:8080/"
        },
        "id": "zliXvs1iUgDd",
        "outputId": "3b0d711a-9c9a-401f-92d5-31f3d4258f92"
      },
      "source": [
        "#입력을 받습니다.\n",
        "number = input(\"정수입력 >\")\n",
        "\n",
        "#마지막 자리 숫자 추출\n",
        "last_character = number[-1]\n",
        "\n",
        "#숫자로 변환하기\n",
        "last_number = int(last_character)\n",
        "\n",
        "#짝수 확인\n",
        "if last_number ==0\\         #줄이 넘 길어지면 \\입력하고 줄바꿈\n",
        "  or last_number ==2\\\n",
        "  or last_number ==4\\\n",
        "  or last_number ==6\\\n",
        "  or last_number ==8:\n",
        "    print(\"짝수입니다\")"
      ],
      "execution_count": 10,
      "outputs": [
        {
          "output_type": "stream",
          "text": [
            "정수입력 >9\n"
          ],
          "name": "stdout"
        }
      ]
    },
    {
      "cell_type": "code",
      "metadata": {
        "colab": {
          "base_uri": "https://localhost:8080/"
        },
        "id": "Lk3TO0rTUvV7",
        "outputId": "c5952593-46c2-4a81-c0d5-fa4c9f2c4b9c"
      },
      "source": [
        "#입력을 받습니다.\n",
        "number = input(\"정수입력 >\")\n",
        "\n",
        "#마지막 자리 숫자 추출\n",
        "last_character = number[-1]\n",
        "\n",
        "#짝수조건\n",
        "if last_character in \"02468\":\n",
        "  print(\"짝수입니다.\")"
      ],
      "execution_count": 11,
      "outputs": [
        {
          "output_type": "stream",
          "text": [
            "정수입력 >14\n",
            "짝수입니다.\n"
          ],
          "name": "stdout"
        }
      ]
    },
    {
      "cell_type": "markdown",
      "metadata": {
        "id": "DSgOB-OrWfBi"
      },
      "source": [
        "c에서 else if 를 python에서는 elif!"
      ]
    },
    {
      "cell_type": "code",
      "metadata": {
        "colab": {
          "base_uri": "https://localhost:8080/"
        },
        "id": "zfsnAtVBWPbV",
        "outputId": "ab98ceb0-1efb-47ee-c843-0ab9471ce366"
      },
      "source": [
        "#변수를 선언합니다.\n",
        "score = float (input (\"학점 입력>\"))\n",
        "\n",
        "#조건문을 적용합니다.\n",
        "if score ==4.5:\n",
        "  print(\"신\")\n",
        "\n",
        "elif 4.2 <=score:\n",
        "  print(\"교수님의 사랑\")\n",
        "\n",
        "else:\n",
        "  print(\"시대를 앞서가는 혁명의 씨앗\")"
      ],
      "execution_count": 12,
      "outputs": [
        {
          "output_type": "stream",
          "text": [
            "학점 입력>4.3\n",
            "교수님의 사랑\n"
          ],
          "name": "stdout"
        }
      ]
    },
    {
      "cell_type": "markdown",
      "metadata": {
        "id": "tSB-Es_4XIQJ"
      },
      "source": [
        "False로 변환되는 값은\n",
        "\n",
        "none, 0, 빈문자열 빈바이트열 빈 리스트..."
      ]
    },
    {
      "cell_type": "code",
      "metadata": {
        "colab": {
          "base_uri": "https://localhost:8080/"
        },
        "id": "O2hgd5B_XBY_",
        "outputId": "08b6e2e5-ea00-4b50-f3b4-9d6dbf654a56"
      },
      "source": [
        "print(\"#if 조건문에 0넣기\")\n",
        "\n",
        "if 0:       #1로바꾸면 if의 실행문장이 츨력됨\n",
        "  print(\"0은 True로 변환됩니다.\")\n",
        "else:\n",
        "  print(\"0은 False로 변환됩니다.\")\n",
        "\n",
        "\n",
        "print()\n",
        "\n",
        "print(\"#if 조건문에 빈 문자열 넣기\")\n",
        "\n",
        "if \"\":\n",
        "  print(\"빈문자열은 True로 변환됩니다.\")\n",
        "\n",
        "else:\n",
        "  print(\"빈문자열은 False로 변환됩니다.\")"
      ],
      "execution_count": 14,
      "outputs": [
        {
          "output_type": "stream",
          "text": [
            "#if 조건문에 0넣기\n",
            "0은 True로 변환됩니다.\n",
            "\n",
            "#if 조건문에 빈 문자열 넣기\n",
            "빈문자열은 False로 변환됩니다.\n"
          ],
          "name": "stdout"
        }
      ]
    },
    {
      "cell_type": "markdown",
      "metadata": {
        "id": "wcV_JusFZBBL"
      },
      "source": [
        "미구현 입력부분은 pass쓰기\n",
        "\n",
        "raise NotImplementedError을 이용해서 오류를 강제로 발생시켜서 잊어버리지않게 하는 방법도 있습니돱."
      ]
    },
    {
      "cell_type": "code",
      "metadata": {
        "id": "1S8c1sXOYlkk"
      },
      "source": [
        ""
      ],
      "execution_count": null,
      "outputs": []
    }
  ]
}