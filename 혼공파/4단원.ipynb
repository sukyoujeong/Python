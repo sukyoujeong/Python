{
  "nbformat": 4,
  "nbformat_minor": 0,
  "metadata": {
    "colab": {
      "name": "4단원",
      "provenance": []
    },
    "kernelspec": {
      "name": "python3",
      "display_name": "Python 3"
    },
    "language_info": {
      "name": "python"
    }
  },
  "cells": [
    {
      "cell_type": "markdown",
      "metadata": {
        "id": "M-66LjZx5Ohc"
      },
      "source": [
        "##04-1.리스트와 반복문"
      ]
    },
    {
      "cell_type": "markdown",
      "metadata": {
        "id": "MCNYLpJB4FGp"
      },
      "source": [
        "**리스트에 요소 추가하기**\n",
        "\n",
        "리스트명.append(요소)\n",
        "\n",
        "리스트명.insert(위치,요소)"
      ]
    },
    {
      "cell_type": "code",
      "metadata": {
        "colab": {
          "base_uri": "https://localhost:8080/"
        },
        "id": "hA2ssXvz3LoA",
        "outputId": "83b6b527-cc2a-43a6-9b65-116d178e69ce"
      },
      "source": [
        "#리스트를 선언합니다.\n",
        "list_a=[1,2,3]\n",
        "\n",
        "#리스트 뒤에 요소 추가하기.\n",
        "print(\"#리스트 뒤에 요소 추가하기\")\n",
        "list_a.append(4)\n",
        "list_a.append(5)\n",
        "print(list_a)\n",
        "print()\n",
        "\n",
        "#리스트 중간에 요소 추가하기\n",
        "print(\"#리스트 중간에 요소 추가하기\")\n",
        "list_a.insert(0,10)\n",
        "print(list_a)"
      ],
      "execution_count": null,
      "outputs": [
        {
          "output_type": "stream",
          "text": [
            "#리스트 뒤에 요소 추가하기\n",
            "[1, 2, 3, 4, 5]\n",
            "\n",
            "#리스트 중간에 요소 추가하기\n",
            "[10, 1, 2, 3, 4, 5]\n"
          ],
          "name": "stdout"
        }
      ]
    },
    {
      "cell_type": "markdown",
      "metadata": {
        "id": "FgbPOF-P4usf"
      },
      "source": [
        "리스트명.extend([여러요소])"
      ]
    },
    {
      "cell_type": "code",
      "metadata": {
        "colab": {
          "base_uri": "https://localhost:8080/"
        },
        "id": "4wTK1QlB4lAD",
        "outputId": "fa68f834-97f3-4987-e5aa-840e3c637cc6"
      },
      "source": [
        "list_a= [1,2,3]\n",
        "list_a.extend([4,5,6])\n",
        "print(list_a)   #append함수를 세번 반복 실행한 효과"
      ],
      "execution_count": null,
      "outputs": [
        {
          "output_type": "stream",
          "text": [
            "[1, 2, 3, 4, 5, 6]\n"
          ],
          "name": "stdout"
        }
      ]
    },
    {
      "cell_type": "markdown",
      "metadata": {
        "id": "c2dGmnX55HEn"
      },
      "source": [
        "**리스트 요소 제거**\n",
        "\n",
        "del 리스트명[인덱스]\n",
        "\n",
        "리스트명.pop(인덱스)       >pop()의 매개변수에 아무것도 입력안하면 -1로 자동 인식해서 마지막 요소를 제거"
      ]
    },
    {
      "cell_type": "code",
      "metadata": {
        "colab": {
          "base_uri": "https://localhost:8080/"
        },
        "id": "5VwuI4D14-Ij",
        "outputId": "acac6ec0-ad0f-4755-c84a-33f73fb8f8f1"
      },
      "source": [
        "list_a = [0,1,2,3,4,5]\n",
        "print(\"#리스트의 요소 하나 제거하기\")\n",
        "\n",
        "# 제거 방법[1]-del\n",
        "del list_a[1]\n",
        "print(\"del list_a[1]:\",list_a)\n",
        "\n",
        "# 제거 방법[2]-pop()\n",
        "list_a.pop(2)\n",
        "print(\"pop(2): \",list_a)"
      ],
      "execution_count": null,
      "outputs": [
        {
          "output_type": "stream",
          "text": [
            "#리스트의 요소 하나 제거하기\n",
            "del list_a[1]: [0, 2, 3, 4, 5]\n",
            "pop(2):  [0, 2, 4, 5]\n"
          ],
          "name": "stdout"
        }
      ]
    },
    {
      "cell_type": "markdown",
      "metadata": {
        "id": "koVfIX5Z6DXT"
      },
      "source": [
        "리스트.remove(값)"
      ]
    },
    {
      "cell_type": "code",
      "metadata": {
        "colab": {
          "base_uri": "https://localhost:8080/"
        },
        "id": "Bn8-fbPz5tLe",
        "outputId": "018db117-67c8-4363-8722-e2f193bebaf1"
      },
      "source": [
        "list_c = [1,2,1,2]\n",
        "list_c.remove(2)\n",
        "list_c"
      ],
      "execution_count": null,
      "outputs": [
        {
          "output_type": "execute_result",
          "data": {
            "text/plain": [
              "[1, 1, 2]"
            ]
          },
          "metadata": {
            "tags": []
          },
          "execution_count": 7
        }
      ]
    },
    {
      "cell_type": "markdown",
      "metadata": {
        "id": "o1J4z3yv6Trk"
      },
      "source": [
        "모두 없앨때는 \n",
        "\n",
        "리스트.clear()"
      ]
    },
    {
      "cell_type": "code",
      "metadata": {
        "colab": {
          "base_uri": "https://localhost:8080/"
        },
        "id": "MInBdwe26LpJ",
        "outputId": "7b1b5271-f44f-47b6-ded8-8b093419316c"
      },
      "source": [
        "list_d = [0,1,2,3,4,5]\n",
        "list_d.clear()\n",
        "list_d"
      ],
      "execution_count": null,
      "outputs": [
        {
          "output_type": "execute_result",
          "data": {
            "text/plain": [
              "[]"
            ]
          },
          "metadata": {
            "tags": []
          },
          "execution_count": 8
        }
      ]
    },
    {
      "cell_type": "markdown",
      "metadata": {
        "id": "9Nl8bnb-GSEw"
      },
      "source": [
        "**리스트 내부에 있는지 확인하기**\n",
        "\n",
        "값 in 리스트//값 not in 리스트"
      ]
    },
    {
      "cell_type": "code",
      "metadata": {
        "colab": {
          "base_uri": "https://localhost:8080/"
        },
        "id": "cJi-Z--76aOY",
        "outputId": "3d5c81ac-f41b-4434-cd16-4c2e717757d4"
      },
      "source": [
        "list_a=[273,32,103,57,52]\n",
        "print(273 in list_a)\n",
        "print(99 not in list_a)"
      ],
      "execution_count": null,
      "outputs": [
        {
          "output_type": "stream",
          "text": [
            "True\n",
            "True\n"
          ],
          "name": "stdout"
        }
      ]
    },
    {
      "cell_type": "markdown",
      "metadata": {
        "id": "y3oYBw_lGwZ0"
      },
      "source": [
        "for 반복자 in 반복할 수 있는 것:\n",
        "    \n",
        "    코드"
      ]
    },
    {
      "cell_type": "code",
      "metadata": {
        "colab": {
          "base_uri": "https://localhost:8080/"
        },
        "id": "BH-pI7PaGiDE",
        "outputId": "5f96c0cc-4740-49f7-87e9-158298d25d25"
      },
      "source": [
        "#리스트를 선언합니다.\n",
        "array=[273,32,103,57,52]\n",
        "\n",
        "#리스트에 반복문을 적용합니다.\n",
        "for element in array:\n",
        "  print(element)"
      ],
      "execution_count": null,
      "outputs": [
        {
          "output_type": "stream",
          "text": [
            "273\n",
            "32\n",
            "103\n",
            "57\n",
            "52\n"
          ],
          "name": "stdout"
        }
      ]
    },
    {
      "cell_type": "markdown",
      "metadata": {
        "id": "2bCLVhhkHHWc"
      },
      "source": [
        "##04-2.딕셔너리와 반복문\n",
        "\n",
        "리스트: 인덱스 기반으로\n",
        "\n",
        "딕셔너리: 키를 기반으로\n",
        "\n",
        "ex) 변수 = {\n",
        "\n",
        "      키: 값,\n",
        "      키: 값,\n",
        "      키: 값\n",
        "}\n",
        "\n",
        "키를 문자열로 할때는 무조건 따옴표 써주세용"
      ]
    },
    {
      "cell_type": "code",
      "metadata": {
        "id": "1ydhO92aG9xD",
        "colab": {
          "base_uri": "https://localhost:8080/"
        },
        "outputId": "ea918120-5d42-43d3-c3cf-c4d93643528e"
      },
      "source": [
        "dict_a = {\n",
        "    \"name\": \"어벤저스 엔드게임\",\n",
        "    \"type\": \"히어로 무비\"\n",
        "}\n",
        "\n",
        "dict_a"
      ],
      "execution_count": 1,
      "outputs": [
        {
          "output_type": "execute_result",
          "data": {
            "text/plain": [
              "{'name': '어벤저스 엔드게임', 'type': '히어로 무비'}"
            ]
          },
          "metadata": {
            "tags": []
          },
          "execution_count": 1
        }
      ]
    },
    {
      "cell_type": "code",
      "metadata": {
        "colab": {
          "base_uri": "https://localhost:8080/",
          "height": 36
        },
        "id": "XKCEvGlWC62g",
        "outputId": "bdcb507d-3491-4f1c-f161-bea614d339ae"
      },
      "source": [
        "dict_a[\"name\"]"
      ],
      "execution_count": 2,
      "outputs": [
        {
          "output_type": "execute_result",
          "data": {
            "application/vnd.google.colaboratory.intrinsic+json": {
              "type": "string"
            },
            "text/plain": [
              "'어벤저스 엔드게임'"
            ]
          },
          "metadata": {
            "tags": []
          },
          "execution_count": 2
        }
      ]
    },
    {
      "cell_type": "code",
      "metadata": {
        "colab": {
          "base_uri": "https://localhost:8080/"
        },
        "id": "WduX1SU5DBQh",
        "outputId": "dc0fbf9d-c6e0-4303-dfea-e11c17089562"
      },
      "source": [
        "dict_b = {\n",
        "    \"director\":[\"안소니 루소\", \"조 루소\" ],\n",
        "    \"cast\" : [\"아이언맨\",\"타노스\",\"토르\",\"닥터스트레인지\"]\n",
        "}\n",
        "\n",
        "dict_b[\"director\"]"
      ],
      "execution_count": 3,
      "outputs": [
        {
          "output_type": "execute_result",
          "data": {
            "text/plain": [
              "['안소니 루소', '조 루소']"
            ]
          },
          "metadata": {
            "tags": []
          },
          "execution_count": 3
        }
      ]
    },
    {
      "cell_type": "markdown",
      "metadata": {
        "id": "C0AtClzUH5I1"
      },
      "source": [
        "**딕셔너리 내부에 키가 존재하는지 **\n",
        "\n",
        "키워드 in\n",
        "\n",
        "get() 함수: 해당하는 키!!없으면 NONE 뱉음"
      ]
    },
    {
      "cell_type": "code",
      "metadata": {
        "colab": {
          "base_uri": "https://localhost:8080/"
        },
        "id": "xgzMj_1hDVea",
        "outputId": "17001ccb-7c3f-4b27-cdd4-fa5cc388afa1"
      },
      "source": [
        "#딕셔너리를 선언합니다.\n",
        "dictionary = {\n",
        "    \"name\":\"7D 건조 망고\",\n",
        "    \"type\": \"당절임\",\n",
        "    \"ingredient\":[\"망고\",\"설탕\",\"메타중아황산나트륨\",\"치자황색소\"],\n",
        "    \"origin\":\"필리핀\"\n",
        "}\n",
        "\n",
        "#사용자로부터 입력을 받습니다.\n",
        "key = input(\">접근하고자 하는 키: \")\n",
        "\n",
        "#출력합니다.\n",
        "if key in dictionary:\n",
        "  print(dictionary[key])\n",
        "\n",
        "else:\n",
        "  print('존재하지 않는 키에 접근하고 있습니다.')"
      ],
      "execution_count": 5,
      "outputs": [
        {
          "output_type": "stream",
          "text": [
            ">접근하고자 하는 키: ㅁㅁ\n",
            "존재하지 않는 키에 접근하고 있습니다.\n"
          ],
          "name": "stdout"
        }
      ]
    },
    {
      "cell_type": "code",
      "metadata": {
        "colab": {
          "base_uri": "https://localhost:8080/"
        },
        "id": "aEQ9kGFdHMEc",
        "outputId": "ab1876c0-8c62-44f4-9b2c-68a3c8988a0b"
      },
      "source": [
        "value = dictionary.get(\"존재하지 않는 키\")\n",
        "print(\"값:\",value)\n",
        "\n"
      ],
      "execution_count": 6,
      "outputs": [
        {
          "output_type": "stream",
          "text": [
            "값: None\n"
          ],
          "name": "stdout"
        }
      ]
    },
    {
      "cell_type": "code",
      "metadata": {
        "colab": {
          "base_uri": "https://localhost:8080/"
        },
        "id": "bULUFeQnIVw0",
        "outputId": "b11c0929-eaea-4e85-ceeb-ea574132ca0c"
      },
      "source": [
        "for key in dictionary:\n",
        "  print(key,\":\",dictionary[key])"
      ],
      "execution_count": 7,
      "outputs": [
        {
          "output_type": "stream",
          "text": [
            "name : 7D 건조 망고\n",
            "type : 당절임\n",
            "ingredient : ['망고', '설탕', '메타중아황산나트륨', '치자황색소']\n",
            "origin : 필리핀\n"
          ],
          "name": "stdout"
        }
      ]
    },
    {
      "cell_type": "code",
      "metadata": {
        "id": "ayawhTFgIhzd"
      },
      "source": [
        ""
      ],
      "execution_count": null,
      "outputs": []
    }
  ]
}