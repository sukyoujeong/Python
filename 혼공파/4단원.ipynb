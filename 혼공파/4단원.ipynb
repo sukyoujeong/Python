{
  "nbformat": 4,
  "nbformat_minor": 0,
  "metadata": {
    "colab": {
      "name": "4단원",
      "provenance": []
    },
    "kernelspec": {
      "name": "python3",
      "display_name": "Python 3"
    },
    "language_info": {
      "name": "python"
    }
  },
  "cells": [
    {
      "cell_type": "markdown",
      "metadata": {
        "id": "M-66LjZx5Ohc"
      },
      "source": [
        "##04-1.리스트와 반복문"
      ]
    },
    {
      "cell_type": "markdown",
      "metadata": {
        "id": "MCNYLpJB4FGp"
      },
      "source": [
        "**리스트에 요소 추가하기**\n",
        "\n",
        "리스트명.append(요소)\n",
        "\n",
        "리스트명.insert(위치,요소)"
      ]
    },
    {
      "cell_type": "code",
      "metadata": {
        "colab": {
          "base_uri": "https://localhost:8080/"
        },
        "id": "hA2ssXvz3LoA",
        "outputId": "83b6b527-cc2a-43a6-9b65-116d178e69ce"
      },
      "source": [
        "#리스트를 선언합니다.\n",
        "list_a=[1,2,3]\n",
        "\n",
        "#리스트 뒤에 요소 추가하기.\n",
        "print(\"#리스트 뒤에 요소 추가하기\")\n",
        "list_a.append(4)\n",
        "list_a.append(5)\n",
        "print(list_a)\n",
        "print()\n",
        "\n",
        "#리스트 중간에 요소 추가하기\n",
        "print(\"#리스트 중간에 요소 추가하기\")\n",
        "list_a.insert(0,10)\n",
        "print(list_a)"
      ],
      "execution_count": null,
      "outputs": [
        {
          "output_type": "stream",
          "text": [
            "#리스트 뒤에 요소 추가하기\n",
            "[1, 2, 3, 4, 5]\n",
            "\n",
            "#리스트 중간에 요소 추가하기\n",
            "[10, 1, 2, 3, 4, 5]\n"
          ],
          "name": "stdout"
        }
      ]
    },
    {
      "cell_type": "markdown",
      "metadata": {
        "id": "FgbPOF-P4usf"
      },
      "source": [
        "리스트명.extend([여러요소])"
      ]
    },
    {
      "cell_type": "code",
      "metadata": {
        "colab": {
          "base_uri": "https://localhost:8080/"
        },
        "id": "4wTK1QlB4lAD",
        "outputId": "fa68f834-97f3-4987-e5aa-840e3c637cc6"
      },
      "source": [
        "list_a= [1,2,3]\n",
        "list_a.extend([4,5,6])\n",
        "print(list_a)   #append함수를 세번 반복 실행한 효과"
      ],
      "execution_count": null,
      "outputs": [
        {
          "output_type": "stream",
          "text": [
            "[1, 2, 3, 4, 5, 6]\n"
          ],
          "name": "stdout"
        }
      ]
    },
    {
      "cell_type": "markdown",
      "metadata": {
        "id": "c2dGmnX55HEn"
      },
      "source": [
        "**리스트 요소 제거**\n",
        "\n",
        "del 리스트명[인덱스]\n",
        "\n",
        "리스트명.pop(인덱스)       >pop()의 매개변수에 아무것도 입력안하면 -1로 자동 인식해서 마지막 요소를 제거"
      ]
    },
    {
      "cell_type": "code",
      "metadata": {
        "colab": {
          "base_uri": "https://localhost:8080/"
        },
        "id": "5VwuI4D14-Ij",
        "outputId": "acac6ec0-ad0f-4755-c84a-33f73fb8f8f1"
      },
      "source": [
        "list_a = [0,1,2,3,4,5]\n",
        "print(\"#리스트의 요소 하나 제거하기\")\n",
        "\n",
        "# 제거 방법[1]-del\n",
        "del list_a[1]\n",
        "print(\"del list_a[1]:\",list_a)\n",
        "\n",
        "# 제거 방법[2]-pop()\n",
        "list_a.pop(2)\n",
        "print(\"pop(2): \",list_a)"
      ],
      "execution_count": null,
      "outputs": [
        {
          "output_type": "stream",
          "text": [
            "#리스트의 요소 하나 제거하기\n",
            "del list_a[1]: [0, 2, 3, 4, 5]\n",
            "pop(2):  [0, 2, 4, 5]\n"
          ],
          "name": "stdout"
        }
      ]
    },
    {
      "cell_type": "markdown",
      "metadata": {
        "id": "koVfIX5Z6DXT"
      },
      "source": [
        "리스트.remove(값)"
      ]
    },
    {
      "cell_type": "code",
      "metadata": {
        "colab": {
          "base_uri": "https://localhost:8080/"
        },
        "id": "Bn8-fbPz5tLe",
        "outputId": "018db117-67c8-4363-8722-e2f193bebaf1"
      },
      "source": [
        "list_c = [1,2,1,2]\n",
        "list_c.remove(2)\n",
        "list_c"
      ],
      "execution_count": null,
      "outputs": [
        {
          "output_type": "execute_result",
          "data": {
            "text/plain": [
              "[1, 1, 2]"
            ]
          },
          "metadata": {
            "tags": []
          },
          "execution_count": 7
        }
      ]
    },
    {
      "cell_type": "markdown",
      "metadata": {
        "id": "o1J4z3yv6Trk"
      },
      "source": [
        "모두 없앨때는 \n",
        "\n",
        "리스트.clear()"
      ]
    },
    {
      "cell_type": "code",
      "metadata": {
        "colab": {
          "base_uri": "https://localhost:8080/"
        },
        "id": "MInBdwe26LpJ",
        "outputId": "7b1b5271-f44f-47b6-ded8-8b093419316c"
      },
      "source": [
        "list_d = [0,1,2,3,4,5]\n",
        "list_d.clear()\n",
        "list_d"
      ],
      "execution_count": null,
      "outputs": [
        {
          "output_type": "execute_result",
          "data": {
            "text/plain": [
              "[]"
            ]
          },
          "metadata": {
            "tags": []
          },
          "execution_count": 8
        }
      ]
    },
    {
      "cell_type": "markdown",
      "metadata": {
        "id": "9Nl8bnb-GSEw"
      },
      "source": [
        "**리스트 내부에 있는지 확인하기**\n",
        "\n",
        "값 in 리스트//값 not in 리스트"
      ]
    },
    {
      "cell_type": "code",
      "metadata": {
        "colab": {
          "base_uri": "https://localhost:8080/"
        },
        "id": "cJi-Z--76aOY",
        "outputId": "3d5c81ac-f41b-4434-cd16-4c2e717757d4"
      },
      "source": [
        "list_a=[273,32,103,57,52]\n",
        "print(273 in list_a)\n",
        "print(99 not in list_a)"
      ],
      "execution_count": null,
      "outputs": [
        {
          "output_type": "stream",
          "text": [
            "True\n",
            "True\n"
          ],
          "name": "stdout"
        }
      ]
    },
    {
      "cell_type": "markdown",
      "metadata": {
        "id": "y3oYBw_lGwZ0"
      },
      "source": [
        "for 반복자 in 반복할 수 있는 것:\n",
        "    \n",
        "    코드"
      ]
    },
    {
      "cell_type": "code",
      "metadata": {
        "colab": {
          "base_uri": "https://localhost:8080/"
        },
        "id": "BH-pI7PaGiDE",
        "outputId": "5f96c0cc-4740-49f7-87e9-158298d25d25"
      },
      "source": [
        "#리스트를 선언합니다.\n",
        "array=[273,32,103,57,52]\n",
        "\n",
        "#리스트에 반복문을 적용합니다.\n",
        "for element in array:\n",
        "  print(element)"
      ],
      "execution_count": null,
      "outputs": [
        {
          "output_type": "stream",
          "text": [
            "273\n",
            "32\n",
            "103\n",
            "57\n",
            "52\n"
          ],
          "name": "stdout"
        }
      ]
    },
    {
      "cell_type": "markdown",
      "metadata": {
        "id": "2bCLVhhkHHWc"
      },
      "source": [
        "##04-2.딕셔너리와 반복문\n",
        "\n",
        "리스트: 인덱스 기반으로\n",
        "\n",
        "딕셔너리: 키를 기반으로\n",
        "\n",
        "ex) 변수 = {\n",
        "\n",
        "      키: 값,\n",
        "      키: 값,\n",
        "      키: 값\n",
        "}\n",
        "\n",
        "키를 문자열로 할때는 무조건 따옴표 써주세용"
      ]
    },
    {
      "cell_type": "code",
      "metadata": {
        "id": "1ydhO92aG9xD",
        "colab": {
          "base_uri": "https://localhost:8080/"
        },
        "outputId": "ea918120-5d42-43d3-c3cf-c4d93643528e"
      },
      "source": [
        "dict_a = {\n",
        "    \"name\": \"어벤저스 엔드게임\",\n",
        "    \"type\": \"히어로 무비\"\n",
        "}\n",
        "\n",
        "dict_a"
      ],
      "execution_count": null,
      "outputs": [
        {
          "output_type": "execute_result",
          "data": {
            "text/plain": [
              "{'name': '어벤저스 엔드게임', 'type': '히어로 무비'}"
            ]
          },
          "metadata": {
            "tags": []
          },
          "execution_count": 1
        }
      ]
    },
    {
      "cell_type": "code",
      "metadata": {
        "colab": {
          "base_uri": "https://localhost:8080/",
          "height": 36
        },
        "id": "XKCEvGlWC62g",
        "outputId": "bdcb507d-3491-4f1c-f161-bea614d339ae"
      },
      "source": [
        "dict_a[\"name\"]"
      ],
      "execution_count": null,
      "outputs": [
        {
          "output_type": "execute_result",
          "data": {
            "application/vnd.google.colaboratory.intrinsic+json": {
              "type": "string"
            },
            "text/plain": [
              "'어벤저스 엔드게임'"
            ]
          },
          "metadata": {
            "tags": []
          },
          "execution_count": 2
        }
      ]
    },
    {
      "cell_type": "code",
      "metadata": {
        "colab": {
          "base_uri": "https://localhost:8080/"
        },
        "id": "WduX1SU5DBQh",
        "outputId": "dc0fbf9d-c6e0-4303-dfea-e11c17089562"
      },
      "source": [
        "dict_b = {\n",
        "    \"director\":[\"안소니 루소\", \"조 루소\" ],\n",
        "    \"cast\" : [\"아이언맨\",\"타노스\",\"토르\",\"닥터스트레인지\"]\n",
        "}\n",
        "\n",
        "dict_b[\"director\"]"
      ],
      "execution_count": null,
      "outputs": [
        {
          "output_type": "execute_result",
          "data": {
            "text/plain": [
              "['안소니 루소', '조 루소']"
            ]
          },
          "metadata": {
            "tags": []
          },
          "execution_count": 3
        }
      ]
    },
    {
      "cell_type": "markdown",
      "metadata": {
        "id": "C0AtClzUH5I1"
      },
      "source": [
        "**딕셔너리 내부에 키가 존재하는지 **\n",
        "\n",
        "키워드 in\n",
        "\n",
        "get() 함수: 해당하는 키!!없으면 NONE 뱉음"
      ]
    },
    {
      "cell_type": "code",
      "metadata": {
        "colab": {
          "base_uri": "https://localhost:8080/"
        },
        "id": "xgzMj_1hDVea",
        "outputId": "17001ccb-7c3f-4b27-cdd4-fa5cc388afa1"
      },
      "source": [
        "#딕셔너리를 선언합니다.\n",
        "dictionary = {\n",
        "    \"name\":\"7D 건조 망고\",\n",
        "    \"type\": \"당절임\",\n",
        "    \"ingredient\":[\"망고\",\"설탕\",\"메타중아황산나트륨\",\"치자황색소\"],\n",
        "    \"origin\":\"필리핀\"\n",
        "}\n",
        "\n",
        "#사용자로부터 입력을 받습니다.\n",
        "key = input(\">접근하고자 하는 키: \")\n",
        "\n",
        "#출력합니다.\n",
        "if key in dictionary:\n",
        "  print(dictionary[key])\n",
        "\n",
        "else:\n",
        "  print('존재하지 않는 키에 접근하고 있습니다.')"
      ],
      "execution_count": null,
      "outputs": [
        {
          "output_type": "stream",
          "text": [
            ">접근하고자 하는 키: ㅁㅁ\n",
            "존재하지 않는 키에 접근하고 있습니다.\n"
          ],
          "name": "stdout"
        }
      ]
    },
    {
      "cell_type": "code",
      "metadata": {
        "colab": {
          "base_uri": "https://localhost:8080/"
        },
        "id": "aEQ9kGFdHMEc",
        "outputId": "ab1876c0-8c62-44f4-9b2c-68a3c8988a0b"
      },
      "source": [
        "value = dictionary.get(\"존재하지 않는 키\")\n",
        "print(\"값:\",value)\n",
        "\n"
      ],
      "execution_count": null,
      "outputs": [
        {
          "output_type": "stream",
          "text": [
            "값: None\n"
          ],
          "name": "stdout"
        }
      ]
    },
    {
      "cell_type": "code",
      "metadata": {
        "colab": {
          "base_uri": "https://localhost:8080/"
        },
        "id": "bULUFeQnIVw0",
        "outputId": "b11c0929-eaea-4e85-ceeb-ea574132ca0c"
      },
      "source": [
        "for key in dictionary:\n",
        "  print(key,\":\",dictionary[key])"
      ],
      "execution_count": null,
      "outputs": [
        {
          "output_type": "stream",
          "text": [
            "name : 7D 건조 망고\n",
            "type : 당절임\n",
            "ingredient : ['망고', '설탕', '메타중아황산나트륨', '치자황색소']\n",
            "origin : 필리핀\n"
          ],
          "name": "stdout"
        }
      ]
    },
    {
      "cell_type": "markdown",
      "metadata": {
        "id": "mWBTdqNWsH_A"
      },
      "source": [
        "##04-3. 반복문과 while 반복문"
      ]
    },
    {
      "cell_type": "markdown",
      "metadata": {
        "id": "BmmNKDiysoT8"
      },
      "source": [
        "range(A) ; a는 숫자... ->0~A-1까지 정수로 범위만듦\n",
        "\n",
        "range(A,B) ; A~B-1까지의 정수로 범위\n",
        "\n",
        "range(A,B,C) ; A~B-1까지의 정수로 범위 만드는데, 앞뒤의 숫자가 C만큼 차이남\n",
        "\n"
      ]
    },
    {
      "cell_type": "code",
      "metadata": {
        "id": "ayawhTFgIhzd",
        "colab": {
          "base_uri": "https://localhost:8080/"
        },
        "outputId": "9cb22c27-a435-49d6-8a45-07c16b407385"
      },
      "source": [
        "a = range(5)\n",
        "a"
      ],
      "execution_count": 1,
      "outputs": [
        {
          "output_type": "execute_result",
          "data": {
            "text/plain": [
              "range(0, 5)"
            ]
          },
          "metadata": {
            "tags": []
          },
          "execution_count": 1
        }
      ]
    },
    {
      "cell_type": "code",
      "metadata": {
        "colab": {
          "base_uri": "https://localhost:8080/"
        },
        "id": "45A-hj2dtDPT",
        "outputId": "a619ac45-41a7-4628-8fb6-2d808208bd84"
      },
      "source": [
        "list (range(10))"
      ],
      "execution_count": 2,
      "outputs": [
        {
          "output_type": "execute_result",
          "data": {
            "text/plain": [
              "[0, 1, 2, 3, 4, 5, 6, 7, 8, 9]"
            ]
          },
          "metadata": {
            "tags": []
          },
          "execution_count": 2
        }
      ]
    },
    {
      "cell_type": "code",
      "metadata": {
        "colab": {
          "base_uri": "https://localhost:8080/"
        },
        "id": "pIlWkg9LtKDX",
        "outputId": "92033042-9309-4113-e848-3cb3c64e15c1"
      },
      "source": [
        "list (range(0,5))"
      ],
      "execution_count": 3,
      "outputs": [
        {
          "output_type": "execute_result",
          "data": {
            "text/plain": [
              "[0, 1, 2, 3, 4]"
            ]
          },
          "metadata": {
            "tags": []
          },
          "execution_count": 3
        }
      ]
    },
    {
      "cell_type": "code",
      "metadata": {
        "colab": {
          "base_uri": "https://localhost:8080/"
        },
        "id": "afRicRTmtNSP",
        "outputId": "ddc71818-ed09-4fa4-a6d4-17f7bb6fd0e0"
      },
      "source": [
        "list(range(0,10,2))"
      ],
      "execution_count": 4,
      "outputs": [
        {
          "output_type": "execute_result",
          "data": {
            "text/plain": [
              "[0, 2, 4, 6, 8]"
            ]
          },
          "metadata": {
            "tags": []
          },
          "execution_count": 4
        }
      ]
    },
    {
      "cell_type": "markdown",
      "metadata": {
        "id": "VV5GjGgI10L9"
      },
      "source": [
        "range 매개변수는 무적권 정수!"
      ]
    },
    {
      "cell_type": "code",
      "metadata": {
        "colab": {
          "base_uri": "https://localhost:8080/",
          "height": 213
        },
        "id": "EfPFG4r8tZdI",
        "outputId": "009a5667-c13c-48ed-fe45-fd9724d3c9e9"
      },
      "source": [
        "#잘못된것\n",
        "n=10\n",
        "a=range(0,n/2)"
      ],
      "execution_count": 5,
      "outputs": [
        {
          "output_type": "error",
          "ename": "TypeError",
          "evalue": "ignored",
          "traceback": [
            "\u001b[0;31m---------------------------------------------------------------------------\u001b[0m",
            "\u001b[0;31mTypeError\u001b[0m                                 Traceback (most recent call last)",
            "\u001b[0;32m<ipython-input-5-9f3ff5d0d468>\u001b[0m in \u001b[0;36m<module>\u001b[0;34m()\u001b[0m\n\u001b[1;32m      1\u001b[0m \u001b[0;31m#잘못된것\u001b[0m\u001b[0;34m\u001b[0m\u001b[0;34m\u001b[0m\u001b[0;34m\u001b[0m\u001b[0m\n\u001b[1;32m      2\u001b[0m \u001b[0mn\u001b[0m\u001b[0;34m=\u001b[0m\u001b[0;36m10\u001b[0m\u001b[0;34m\u001b[0m\u001b[0;34m\u001b[0m\u001b[0m\n\u001b[0;32m----> 3\u001b[0;31m \u001b[0ma\u001b[0m\u001b[0;34m=\u001b[0m\u001b[0mrange\u001b[0m\u001b[0;34m(\u001b[0m\u001b[0;36m0\u001b[0m\u001b[0;34m,\u001b[0m\u001b[0mn\u001b[0m\u001b[0;34m/\u001b[0m\u001b[0;36m2\u001b[0m\u001b[0;34m)\u001b[0m\u001b[0;34m\u001b[0m\u001b[0;34m\u001b[0m\u001b[0m\n\u001b[0m",
            "\u001b[0;31mTypeError\u001b[0m: 'float' object cannot be interpreted as an integer"
          ]
        }
      ]
    },
    {
      "cell_type": "code",
      "metadata": {
        "id": "z8fOcMFU1_HA"
      },
      "source": [
        "a = range(0,int(n/2))\n",
        "list(a)\n",
        "\n",
        "#실수를 정수로 바꾸는 것 보다 정수 나누기 연산자를 더 씀!\n",
        "a = range(0,n//2)\n",
        "list(a)"
      ],
      "execution_count": null,
      "outputs": []
    },
    {
      "cell_type": "markdown",
      "metadata": {
        "id": "gAwG187n4wQv"
      },
      "source": [
        "**for 반복문**\n",
        "\n",
        "for 숫자 변수 in 범위:\n",
        "\n",
        "      코드"
      ]
    },
    {
      "cell_type": "code",
      "metadata": {
        "id": "2wj3DRkP2MMA"
      },
      "source": [
        "for i in range(5):\n",
        "  print(str(i)+\"=반복 변수\")\n",
        "\n",
        "print()\n",
        "\n",
        "for i in range(5,10):\n",
        "  print(str(i)+\"=반복 변수\")\n",
        "\n",
        "print()\n",
        "\n",
        "for i in range(0,10,3):\n",
        "  print(str(i)+\"=반복 변수\")\n",
        "print()"
      ],
      "execution_count": null,
      "outputs": []
    },
    {
      "cell_type": "code",
      "metadata": {
        "id": "XTq_HXFE7BpW"
      },
      "source": [
        "array = [273,32,103,57,52]\n",
        "\n",
        "for element in array:\n",
        "  print(element)"
      ],
      "execution_count": null,
      "outputs": []
    },
    {
      "cell_type": "code",
      "metadata": {
        "id": "bGiMhEgs71gw"
      },
      "source": [
        "for i in range(len(array)):\n",
        "  print(\"{}번째 반복 : {}\".format(i,array[i]))"
      ],
      "execution_count": null,
      "outputs": []
    },
    {
      "cell_type": "code",
      "metadata": {
        "id": "r9nrvnMH7-TH"
      },
      "source": [
        "#역반복문\n",
        "for i in range(4,0-1,-1):\n",
        "  print(\"현재 반복 변수: {}\".format(i))"
      ],
      "execution_count": null,
      "outputs": []
    },
    {
      "cell_type": "code",
      "metadata": {
        "id": "Acj5BnSn8_ZW"
      },
      "source": [
        "for i in reversed(range(5)):\n",
        "  print(\"헌재 반복 변수 : {}\".format(i))"
      ],
      "execution_count": null,
      "outputs": []
    },
    {
      "cell_type": "markdown",
      "metadata": {
        "id": "4AXvuogg9Niq"
      },
      "source": [
        "**While 반복문**\n",
        "\n",
        "while 불 표현식:\n",
        "\n",
        "    문장\n",
        "\n",
        "<불표현식>이 참인동안 문장 반복\n",
        "\n",
        "무한 반복이면 ctrl +c로 강제 종료"
      ]
    },
    {
      "cell_type": "code",
      "metadata": {
        "id": "q9WMu_yr9KEd"
      },
      "source": [
        "while True:\n",
        "  #\".\"을 출력합니다.\n",
        "  #기본적으로 end가 \"\\n\"이라 줄바꿈이 일어나는데\n",
        "  #빈 문자열 \"\"로 바꿔서 줄바꿈이 일어나지 않게 합니다.\n",
        "  print(\".\",end = \"\")"
      ],
      "execution_count": null,
      "outputs": []
    },
    {
      "cell_type": "code",
      "metadata": {
        "id": "D-jBpkU59kPC"
      },
      "source": [
        "i=0\n",
        "while i<10:\n",
        "  print(\"{}번째 반복입니다.\".format(i))\n",
        "  i +=1"
      ],
      "execution_count": null,
      "outputs": []
    },
    {
      "cell_type": "code",
      "metadata": {
        "id": "QWx4M1DG-CvZ"
      },
      "source": [
        "list_test = [1,2,1,2]\n",
        "value = 2\n",
        "\n",
        "#list_test 내부에 value가 있다면 반복\n",
        "while value in list_test:\n",
        "  list_test.remove(value)\n",
        "\n",
        "print(list_test)"
      ],
      "execution_count": null,
      "outputs": []
    },
    {
      "cell_type": "markdown",
      "metadata": {
        "id": "-qOcV64g-XLl"
      },
      "source": [
        "유닉스 타임이란 세계 표준시로 1970년 1월1일 0시 0분 0초를 기준으로 몇초가 지났는지를 정수로 나타낸것...."
      ]
    },
    {
      "cell_type": "code",
      "metadata": {
        "id": "5PSPt7W_-UXp"
      },
      "source": [
        "import time\n",
        "time.time()"
      ],
      "execution_count": null,
      "outputs": []
    },
    {
      "cell_type": "code",
      "metadata": {
        "id": "RreNKo5Y-gpG"
      },
      "source": [
        "#시간과 관련된 기능을 가져옵니다.\n",
        "import time\n",
        "\n",
        "#변수를 선언\n",
        "number= 0\n",
        "\n",
        "#5초 동안 반복합니다.\n",
        "target_tick = time.time()+5\n",
        "while time.time()<target_tick:\n",
        "  number +=1\n",
        "\n",
        "print(\"5초 동안 {}번 반복했습니다.\".format(number))"
      ],
      "execution_count": null,
      "outputs": []
    },
    {
      "cell_type": "code",
      "metadata": {
        "id": "8l8sz1YG-488"
      },
      "source": [
        "i = 0\n",
        "\n",
        "#무한반복\n",
        "while True:\n",
        "  print(\"{}번째 반복문입니다.\".format(i))\n",
        "  i = i+1\n",
        "  #반복을 종료합니다.\n",
        "  input_text = input (\">종료하시겠습니까?(y):\")\n",
        "  if input_text in [\"y\",\"Y\"]:\n",
        "    print(\"반복을 종료합니다.\")\n",
        "    break"
      ],
      "execution_count": null,
      "outputs": []
    },
    {
      "cell_type": "code",
      "metadata": {
        "id": "5kv5DNix_SnR"
      },
      "source": [
        "numbers = [5,15,6,20,7,25]\n",
        "\n",
        "for number in numbers :\n",
        "  if number <10:\n",
        "    continue\n",
        "  print(number)"
      ],
      "execution_count": null,
      "outputs": []
    },
    {
      "cell_type": "markdown",
      "metadata": {
        "id": "POGgpSqxGI8_"
      },
      "source": [
        "##04-4. 문자열, 리스트, 딕셔너리와 관련된 기본 함수"
      ]
    },
    {
      "cell_type": "markdown",
      "metadata": {
        "id": "bpwSXWO1GQCe"
      },
      "source": [
        "min() : 리스트 내부에서 최솟값 찾기\n",
        "\n",
        "max() : 리스트 내부에서 최댓값 찾기\n",
        "\n",
        "sum() : 리스트 내부에서 값을 모두 더함"
      ]
    },
    {
      "cell_type": "code",
      "metadata": {
        "colab": {
          "base_uri": "https://localhost:8080/"
        },
        "id": "3O0NpwVTF9MW",
        "outputId": "644dcb9a-9b4a-4060-ac69-dbcdf850ae72"
      },
      "source": [
        "numbers = [103,52,273,32,77]\n",
        "print(min(numbers))\n",
        "print(max(numbers))\n",
        "print(sum(numbers))\n"
      ],
      "execution_count": 8,
      "outputs": [
        {
          "output_type": "stream",
          "text": [
            "32\n",
            "273\n",
            "537\n"
          ],
          "name": "stdout"
        }
      ]
    },
    {
      "cell_type": "code",
      "metadata": {
        "colab": {
          "base_uri": "https://localhost:8080/"
        },
        "id": "l1Rwt1_YGk55",
        "outputId": "d743c024-4ce8-4422-a9fb-dcf339bad211"
      },
      "source": [
        "min(32,24,1)"
      ],
      "execution_count": 9,
      "outputs": [
        {
          "output_type": "execute_result",
          "data": {
            "text/plain": [
              "1"
            ]
          },
          "metadata": {
            "tags": []
          },
          "execution_count": 9
        }
      ]
    },
    {
      "cell_type": "code",
      "metadata": {
        "colab": {
          "base_uri": "https://localhost:8080/"
        },
        "id": "lySPUQ-BGwrG",
        "outputId": "b02aef92-5d42-45d6-a71b-66895ca51f3b"
      },
      "source": [
        "#리스트를 선언하고 뒤집습니다.\n",
        "list_a =[1,2,3,4,5]\n",
        "list_reversed = reversed(list_a)\n",
        "\n",
        "#출력합니다.\n",
        "print(\"# reversed() 함수\")\n",
        "print(\"reversed([1,2,3,4,5]):\",list_reversed)\n",
        "print(\"list(reversed([1,2,3,4,5])):\",list(list_reversed))\n",
        "print()\n",
        "\n",
        "#반복문을 적용해 봅니다\n",
        "print(\"# reversed() 함수와 반복문\")\n",
        "print(\"for i in reverd([1,2,3,4,5]):\")\n",
        "for i in reversed(list_a):\n",
        "  print(\"-\",i)"
      ],
      "execution_count": 11,
      "outputs": [
        {
          "output_type": "stream",
          "text": [
            "# reversed() 함수\n",
            "reversed([1,2,3,4,5]): <list_reverseiterator object at 0x7f4abcdd8ad0>\n",
            "list(reversed([1,2,3,4,5])): [5, 4, 3, 2, 1]\n",
            "\n",
            "# reversed() 함수와 반복문\n",
            "for i in reverd([1,2,3,4,5]):\n",
            "- 5\n",
            "- 4\n",
            "- 3\n",
            "- 2\n",
            "- 1\n"
          ],
          "name": "stdout"
        }
      ]
    },
    {
      "cell_type": "markdown",
      "metadata": {
        "id": "HTf6vgfxIaZv"
      },
      "source": [
        "reversed() 함수의 결과는 **제너레이터**\n",
        "\n",
        "함수의 결과를 여러번 사용하지 않음\n",
        "\n",
        "여러번 사용하려면 그냥 reversed함수 바로 쓰기"
      ]
    },
    {
      "cell_type": "code",
      "metadata": {
        "colab": {
          "base_uri": "https://localhost:8080/"
        },
        "id": "hC6-G6FTH_Pw",
        "outputId": "35bdef3a-b569-488e-b2a1-1abe6a22fa0a"
      },
      "source": [
        "numbers = [1,2,3,4,5,6]\n",
        "\n",
        "for i in reversed(numbers):\n",
        "  print(\"첫번째 반복문 : {}\".format(i))\n",
        "\n",
        "for i in reversed(numbers):\n",
        "  print(\"두번째 반복문 : {}\".format(i))"
      ],
      "execution_count": 12,
      "outputs": [
        {
          "output_type": "stream",
          "text": [
            "첫번째 반복문 : 6\n",
            "첫번째 반복문 : 5\n",
            "첫번째 반복문 : 4\n",
            "첫번째 반복문 : 3\n",
            "첫번째 반복문 : 2\n",
            "첫번째 반복문 : 1\n",
            "두번째 반복문 : 6\n",
            "두번째 반복문 : 5\n",
            "두번째 반복문 : 4\n",
            "두번째 반복문 : 3\n",
            "두번째 반복문 : 2\n",
            "두번째 반복문 : 1\n"
          ],
          "name": "stdout"
        }
      ]
    },
    {
      "cell_type": "markdown",
      "metadata": {
        "id": "1goQ7vOFI-dC"
      },
      "source": [
        "확장 슬라이싱 : 리스트 뒤집을 때\n",
        "\n",
        "[::-1]쓴다!\n",
        "\n",
        "비파괴적, 원본에 영향없, 문자열에도 적용"
      ]
    },
    {
      "cell_type": "code",
      "metadata": {
        "colab": {
          "base_uri": "https://localhost:8080/"
        },
        "id": "-jxCE9EtI7iX",
        "outputId": "b25b6cac-e413-4803-c3ad-8ae2b08a1778"
      },
      "source": [
        "numbers = [1,2,3,4,5]\n",
        "numbers[::-1]"
      ],
      "execution_count": 13,
      "outputs": [
        {
          "output_type": "execute_result",
          "data": {
            "text/plain": [
              "[5, 4, 3, 2, 1]"
            ]
          },
          "metadata": {
            "tags": []
          },
          "execution_count": 13
        }
      ]
    },
    {
      "cell_type": "code",
      "metadata": {
        "colab": {
          "base_uri": "https://localhost:8080/",
          "height": 36
        },
        "id": "mKQVMXfuJG93",
        "outputId": "79d022aa-02a5-4c36-be46-010a7a0bc826"
      },
      "source": [
        "\"안녕하세요\"[::-1]"
      ],
      "execution_count": 14,
      "outputs": [
        {
          "output_type": "execute_result",
          "data": {
            "application/vnd.google.colaboratory.intrinsic+json": {
              "type": "string"
            },
            "text/plain": [
              "'요세하녕안'"
            ]
          },
          "metadata": {
            "tags": []
          },
          "execution_count": 14
        }
      ]
    },
    {
      "cell_type": "code",
      "metadata": {
        "colab": {
          "base_uri": "https://localhost:8080/"
        },
        "id": "uRMU_v90JR_5",
        "outputId": "b6b5f241-7bdc-42ac-c511-9d04806171e3"
      },
      "source": [
        "example_list = [\"요소A\",\"요소B\",\"요소C\"]\n",
        "i=0\n",
        "for item in example_list:\n",
        "  print(\"{}번째 요소는 {}입니다.\".format(i,item))\n",
        "  i+=1\n",
        "\n",
        "for i in range(len(example_list)):\n",
        "  print(\"{}번째 요소는 {}입니다.\".format(i,example_list[i]))"
      ],
      "execution_count": 15,
      "outputs": [
        {
          "output_type": "stream",
          "text": [
            "0번째 요소는 요소A입니다.\n",
            "1번째 요소는 요소B입니다.\n",
            "2번째 요소는 요소C입니다.\n",
            "0번째 요소는 요소A입니다.\n",
            "1번째 요소는 요소B입니다.\n",
            "2번째 요소는 요소C입니다.\n"
          ],
          "name": "stdout"
        }
      ]
    },
    {
      "cell_type": "code",
      "metadata": {
        "colab": {
          "base_uri": "https://localhost:8080/"
        },
        "id": "IvhZK6Q-J7WA",
        "outputId": "43f1c83f-6e44-4466-b794-e4e481c8b0f1"
      },
      "source": [
        "print(\"#단순 출력\")\n",
        "print(example_list)\n",
        "print()\n",
        "\n",
        "#enumerate() 함수 적용\n",
        "print(\"#enumerate() 함수 적용 출력\")\n",
        "print(enumerate(example_list))\n",
        "print()\n",
        "\n",
        "#list()함수로 강제 변환해 출력\n",
        "print(\"#list() 함수로 강제 변환 출력\")\n",
        "print(list(enumerate(example_list)))\n",
        "print()\n",
        "\n",
        "#for 반복문과 enumerate()함수 조합해서 사용\n",
        "print(\"#반복문과 조합하기\")\n",
        "for i, value in enumerate(example_list):\n",
        "  print(\"{}번째 요소는 {}입니다.\".format(i,value))"
      ],
      "execution_count": 17,
      "outputs": [
        {
          "output_type": "stream",
          "text": [
            "#단순 출력\n",
            "['요소A', '요소B', '요소C']\n",
            "\n",
            "#enumerate() 함수 적용 출력\n",
            "<enumerate object at 0x7f4abcde4550>\n",
            "\n",
            "#list() 함수로 강제 변환 출력\n",
            "[(0, '요소A'), (1, '요소B'), (2, '요소C')]\n",
            "\n",
            "#반복문과 조합하기\n",
            "0번째 요소는 요소A입니다.\n",
            "1번째 요소는 요소B입니다.\n",
            "2번째 요소는 요소C입니다.\n"
          ],
          "name": "stdout"
        }
      ]
    },
    {
      "cell_type": "code",
      "metadata": {
        "colab": {
          "base_uri": "https://localhost:8080/"
        },
        "id": "B1a85cnRKdRi",
        "outputId": "ed419cb4-a90b-4c3b-ec35-003d25ae6af5"
      },
      "source": [
        "#변수를 선언합니다.\n",
        "example_dictionary ={\n",
        "    \"키A\":\"값A\",\n",
        "    \"키B\":\"값B\",\n",
        "    \"키C\":\"값C\"\n",
        "}\n",
        "\n",
        "#딕셔너리의 items()함수 결과 출력하기\n",
        "print(\"#딕셔너리의 items() 함수\")\n",
        "print(\"items():\",example_dictionary.items())\n",
        "print()\n",
        "\n",
        "#for 반복문과 items() 함수 조합해서 사용하기\n",
        "print(\"#딕셔너리의 items() 함수와 반복문 조합하기\")\n",
        "\n",
        "for key, element in example_dictionary.items():\n",
        "  print(\"dictionary[{}] = {}\".format(key,element))"
      ],
      "execution_count": 19,
      "outputs": [
        {
          "output_type": "stream",
          "text": [
            "#딕셔너리의 items() 함수\n",
            "items(): dict_items([('키A', '값A'), ('키B', '값B'), ('키C', '값C')])\n",
            "\n",
            "#딕셔너리의 items() 함수와 반복문 조합하기\n",
            "dictionary[키A] = 값A\n",
            "dictionary[키B] = 값B\n",
            "dictionary[키C] = 값C\n"
          ],
          "name": "stdout"
        }
      ]
    },
    {
      "cell_type": "code",
      "metadata": {
        "colab": {
          "base_uri": "https://localhost:8080/"
        },
        "id": "7LuoWUWCMDQM",
        "outputId": "0d6811f5-4d76-48be-fc39-1de465451860"
      },
      "source": [
        "#변수를 선언합니다\n",
        "array =[]\n",
        "\n",
        "#반복문을 적용합니다.\n",
        "for i in range(0,20,2):\n",
        "  array.append(i*i)\n",
        "\n",
        "#출력합니다.\n",
        "print(array)"
      ],
      "execution_count": 20,
      "outputs": [
        {
          "output_type": "stream",
          "text": [
            "[0, 4, 16, 36, 64, 100, 144, 196, 256, 324]\n"
          ],
          "name": "stdout"
        }
      ]
    },
    {
      "cell_type": "code",
      "metadata": {
        "colab": {
          "base_uri": "https://localhost:8080/"
        },
        "id": "6OC88EHeNEvJ",
        "outputId": "35c77caa-23dc-49e1-a41c-91a953c0e3d7"
      },
      "source": [
        "array = [i*i for i in range(0,20,2)]    #최종결과를 앞에 작성\n",
        "print(array)"
      ],
      "execution_count": 21,
      "outputs": [
        {
          "output_type": "stream",
          "text": [
            "[0, 4, 16, 36, 64, 100, 144, 196, 256, 324]\n"
          ],
          "name": "stdout"
        }
      ]
    },
    {
      "cell_type": "markdown",
      "metadata": {
        "id": "qxepSfNgNWDq"
      },
      "source": [
        "**리스트 내포**\n",
        "\n",
        "리스트 이름 = [표현식 for 반복자 in 반복할 수 있는 것]\n",
        "\n",
        "리스트 이름 = [표현식 for 반복자 in 반복할 수 잇는 것 if 조건문]"
      ]
    },
    {
      "cell_type": "code",
      "metadata": {
        "colab": {
          "base_uri": "https://localhost:8080/"
        },
        "id": "GSJ-HH4UNPOE",
        "outputId": "5aa8eed0-8a3c-4b1d-dbc4-b02d297775c5"
      },
      "source": [
        "array = [\"사과\",\"자두\",\"초콜릿\",\"바나나\",\"체리\"]\n",
        "output = [fruit for fruit in array if fruit !=\"초콜릿\"]\n",
        "\n",
        "print(output)"
      ],
      "execution_count": 24,
      "outputs": [
        {
          "output_type": "stream",
          "text": [
            "['사과', '자두', '바나나', '체리']\n"
          ],
          "name": "stdout"
        }
      ]
    },
    {
      "cell_type": "code",
      "metadata": {
        "colab": {
          "base_uri": "https://localhost:8080/"
        },
        "id": "p1Z3_UJfNmwP",
        "outputId": "a5e537ae-ea65-4c28-9612-f11cd46dbb3e"
      },
      "source": [
        "test = (\n",
        "    \"이렇게\"\n",
        "    \"해도\"\n",
        "    \"하나로\"\n",
        "    \"나옴\"\n",
        "    \"ㅋㅋ\"\n",
        ")\n",
        "\n",
        "print(test)"
      ],
      "execution_count": 26,
      "outputs": [
        {
          "output_type": "stream",
          "text": [
            "이렇게해도하나로나옴ㅋㅋ\n"
          ],
          "name": "stdout"
        }
      ]
    },
    {
      "cell_type": "markdown",
      "metadata": {
        "id": "nvXsnmrfPU3o"
      },
      "source": [
        "문자열.join(문자열로 구성된 리스트)"
      ]
    },
    {
      "cell_type": "code",
      "metadata": {
        "colab": {
          "base_uri": "https://localhost:8080/"
        },
        "id": "xUlR3FFbO20v",
        "outputId": "34d28137-c88a-4ccd-b7c9-1b2318da4113"
      },
      "source": [
        "print(\"::\".join([\"1\",\"2\",\"3\"]))"
      ],
      "execution_count": 27,
      "outputs": [
        {
          "output_type": "stream",
          "text": [
            "1::2::3\n"
          ],
          "name": "stdout"
        }
      ]
    },
    {
      "cell_type": "code",
      "metadata": {
        "colab": {
          "base_uri": "https://localhost:8080/"
        },
        "id": "AmFbCOeGPbGN",
        "outputId": "e38bd8af-011b-4aef-f9ca-3f0d1d3387f9"
      },
      "source": [
        "number = int(input(\"정수 입력>\"))\n",
        "\n",
        "if number%2 ==0:\n",
        "  print(\"\\n\".join([\n",
        "                   \"입력한 문자열은 {}입니다.\",\n",
        "                   \"{}는 짝수 입니다.\"\n",
        "  ]).format(number,number))\n",
        "  \n",
        "else:\n",
        "  print(\"\\n\".join([\n",
        "                   \"입력한 문자열은 {}입니다.\",\n",
        "                   \"{}는 홀수 입니다.\"\n",
        "  ]).format(number,number))"
      ],
      "execution_count": 29,
      "outputs": [
        {
          "output_type": "stream",
          "text": [
            "정수 입력>3\n",
            "입력한 문자열은 3입니다.\n",
            "3는 홀수 입니다.\n"
          ],
          "name": "stdout"
        }
      ]
    },
    {
      "cell_type": "markdown",
      "metadata": {
        "id": "lXDq39DZQeb2"
      },
      "source": [
        "반복할 수 있는 것을 **이터러블**이라고 한다.\n",
        "\n",
        "차례대로 꺼낼 수 있는 객체를 의미함."
      ]
    },
    {
      "cell_type": "code",
      "metadata": {
        "colab": {
          "base_uri": "https://localhost:8080/"
        },
        "id": "qVhkRhDbQF8J",
        "outputId": "c07f1567-e983-468e-fbc8-c1b0c82c8c50"
      },
      "source": [
        "numbers = [1,2,3,4,5,6]\n",
        "r_num = reversed(numbers)\n",
        "\n",
        "#reversed_numbers 를 출력합니다.\n",
        "print(\"reversed_numbers :\",r_num)\n",
        "print(next(r_num))\n",
        "print(next(r_num))"
      ],
      "execution_count": 30,
      "outputs": [
        {
          "output_type": "stream",
          "text": [
            "reversed_numbers : <list_reverseiterator object at 0x7f4abcd6ba90>\n",
            "6\n",
            "5\n"
          ],
          "name": "stdout"
        }
      ]
    },
    {
      "cell_type": "code",
      "metadata": {
        "id": "pFW6S4S-Q0MV"
      },
      "source": [
        ""
      ],
      "execution_count": null,
      "outputs": []
    }
  ]
}