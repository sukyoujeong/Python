{
  "nbformat": 4,
  "nbformat_minor": 0,
  "metadata": {
    "colab": {
      "name": "5단원",
      "provenance": []
    },
    "kernelspec": {
      "name": "python3",
      "display_name": "Python 3"
    },
    "language_info": {
      "name": "python"
    }
  },
  "cells": [
    {
      "cell_type": "markdown",
      "metadata": {
        "id": "2QloJpLsj0dD"
      },
      "source": [
        "##05-1.함수만들기"
      ]
    },
    {
      "cell_type": "markdown",
      "metadata": {
        "id": "hF1NHUMDkAWH"
      },
      "source": [
        "def 함수이름():\n",
        "  \n",
        "    문장"
      ]
    },
    {
      "cell_type": "code",
      "metadata": {
        "colab": {
          "base_uri": "https://localhost:8080/"
        },
        "id": "50PpgGaJjvZE",
        "outputId": "ab4f92f8-d2da-498f-b34f-fb5a011182aa"
      },
      "source": [
        "def print_3_times():\n",
        "  print(\"안녕하세요\")\n",
        "  print(\"안녕하세요\")\n",
        "  print(\"안녕하세요\")\n",
        "\n",
        "print_3_times()"
      ],
      "execution_count": null,
      "outputs": [
        {
          "output_type": "stream",
          "text": [
            "안녕하세요\n",
            "안녕하세요\n",
            "안녕하세요\n"
          ],
          "name": "stdout"
        }
      ]
    },
    {
      "cell_type": "markdown",
      "metadata": {
        "id": "ma1tn8jFkanO"
      },
      "source": [
        "def 함수이름(매개변수,매개변수,...):\n",
        "\n",
        "    문장\n",
        "\n",
        "\n"
      ]
    },
    {
      "cell_type": "code",
      "metadata": {
        "colab": {
          "base_uri": "https://localhost:8080/"
        },
        "id": "_U1tfmN0kNhH",
        "outputId": "a87b77b2-c19e-434e-cd8d-cd6058b55b6f"
      },
      "source": [
        "def print_n_times(value,n):\n",
        "  for i in range(n):\n",
        "    print(value)\n",
        "\n",
        "print_n_times(\"안녕하세요\",5)"
      ],
      "execution_count": null,
      "outputs": [
        {
          "output_type": "stream",
          "text": [
            "안녕하세요\n",
            "안녕하세요\n",
            "안녕하세요\n",
            "안녕하세요\n",
            "안녕하세요\n"
          ],
          "name": "stdout"
        }
      ]
    },
    {
      "cell_type": "markdown",
      "metadata": {
        "id": "QR5aHxmFlJ4o"
      },
      "source": [
        "매개변수를 원하는 만큼 받을 수 있는 함수를 **가변 매개변수**\n",
        "\n",
        "def 함수이름(매개변수,매개변수,.....,*가변매개변수)\n",
        "\n",
        "    문장\n",
        "\n",
        "- 가변매개변수 뒤에는 일반 매개변수가 못옴\n",
        "- 가변매개변수는 하나만 사용할 수 있음"
      ]
    },
    {
      "cell_type": "code",
      "metadata": {
        "id": "drJMz7YekrSk"
      },
      "source": [
        "def print_n_times(n,*values):\n",
        "  #n번 반복합니다.\n",
        "  for i in range(n):\n",
        "    #values는 리스트처럼 활용\n",
        "    for value in values:\n",
        "      print(value)\n",
        "    print()\n",
        "\n",
        "print_n_times(3,\"안녕하세요\",\"즐거운\",\"파이썬 프로그래밍\")"
      ],
      "execution_count": null,
      "outputs": []
    },
    {
      "cell_type": "markdown",
      "metadata": {
        "id": "bHEu1xlrm427"
      },
      "source": [
        "**기본 매개변수** : \"매개변수 = 값\"\n",
        "\n",
        "매개변수를 입력하지 않았을 때 들어가는 기본 값임\n",
        "\n",
        "- 기본 매개변수 뒤에는 일반 매개변수가 올 수 없음"
      ]
    },
    {
      "cell_type": "code",
      "metadata": {
        "colab": {
          "base_uri": "https://localhost:8080/"
        },
        "id": "bwGDJtRxnPGc",
        "outputId": "9871bfba-7af2-4089-c7bc-b01a7970fab4"
      },
      "source": [
        "def print_n_times(value, n=2):    #입력을 안하면 n은 기본값 2로 고정됨\n",
        "  for i in range(n):\n",
        "    print(value)\n",
        "\n",
        "print_n_times(\"안녕하세요\",10)"
      ],
      "execution_count": null,
      "outputs": [
        {
          "output_type": "stream",
          "text": [
            "('안녕하세요', 10)\n",
            "('안녕하세요', 10)\n"
          ],
          "name": "stdout"
        }
      ]
    },
    {
      "cell_type": "code",
      "metadata": {
        "colab": {
          "base_uri": "https://localhost:8080/"
        },
        "id": "Rz3bEn2GnXtQ",
        "outputId": "c8d0297a-bc23-4381-8e09-61511644995a"
      },
      "source": [
        "def print_n_times(*values,n=2):\n",
        "  for i in range(n):\n",
        "    for value in values:\n",
        "      print(value)\n",
        "    print()\n",
        "\n",
        "print_n_times(\"안녕하세요\",\"즐거운\",\"파이썬\",n=3)"
      ],
      "execution_count": null,
      "outputs": [
        {
          "output_type": "stream",
          "text": [
            "안녕하세요\n",
            "즐거운\n",
            "파이썬\n",
            "3\n",
            "\n",
            "안녕하세요\n",
            "즐거운\n",
            "파이썬\n",
            "3\n",
            "\n"
          ],
          "name": "stdout"
        }
      ]
    },
    {
      "cell_type": "code",
      "metadata": {
        "colab": {
          "base_uri": "https://localhost:8080/"
        },
        "id": "NcBb-jCFouQc",
        "outputId": "e42bbd86-01a2-49cc-d570-677dbec61e6c"
      },
      "source": [
        "def test(a,b=10,c=100):\n",
        "  print(a*b+c)\n",
        "\n",
        "#기본형태\n",
        "test(10,20,30)\n",
        "\n",
        "#키워드 매개변수로 모든 매개변수를 지정\n",
        "test(a = 10,b=100,c=200)\n",
        "\n",
        "#키워드 매개변수를 마구잡이\n",
        "test(c=10,a=100,b=200)\n",
        "\n",
        "#일부만 키워드 매개변수\n",
        "test(10,c=200)"
      ],
      "execution_count": null,
      "outputs": [
        {
          "output_type": "stream",
          "text": [
            "230\n",
            "1200\n",
            "20010\n",
            "300\n"
          ],
          "name": "stdout"
        }
      ]
    },
    {
      "cell_type": "markdown",
      "metadata": {
        "id": "HYSpLQSeqBkh"
      },
      "source": [
        "return키워드는 함수를 실행했던 위치로 돌아가라는 의미, 여기서 끝내라!"
      ]
    },
    {
      "cell_type": "code",
      "metadata": {
        "colab": {
          "base_uri": "https://localhost:8080/"
        },
        "id": "dHFFEABjpx3v",
        "outputId": "7a0ab07a-20ef-4ed3-a9b7-edf7b965c89d"
      },
      "source": [
        "def return_test():\n",
        "  print(\"A 위치입니다.\")\n",
        "  return\n",
        "  print(\"B 위치입니다.\")\n",
        "\n",
        "return_test()"
      ],
      "execution_count": null,
      "outputs": [
        {
          "output_type": "stream",
          "text": [
            "A 위치입니다.\n"
          ],
          "name": "stdout"
        }
      ]
    },
    {
      "cell_type": "code",
      "metadata": {
        "colab": {
          "base_uri": "https://localhost:8080/"
        },
        "id": "bI8HfCMyp_X3",
        "outputId": "d392bbc7-b709-440a-8c89-8dda3cf7995d"
      },
      "source": [
        "def return_test():\n",
        "  return 100\n",
        "\n",
        "value = return_test()\n",
        "print(value)"
      ],
      "execution_count": null,
      "outputs": [
        {
          "output_type": "stream",
          "text": [
            "100\n"
          ],
          "name": "stdout"
        }
      ]
    },
    {
      "cell_type": "markdown",
      "metadata": {
        "id": "bSFBGJi_qXZ4"
      },
      "source": [
        "None 은 파이썬에서 없다는 의미!"
      ]
    },
    {
      "cell_type": "code",
      "metadata": {
        "colab": {
          "base_uri": "https://localhost:8080/"
        },
        "id": "DrZY3J1FqOUx",
        "outputId": "675c2774-ba11-4f50-a26f-789992c285b8"
      },
      "source": [
        "def return_test():\n",
        "  return\n",
        "value = return_test()\n",
        "print(value)"
      ],
      "execution_count": null,
      "outputs": [
        {
          "output_type": "stream",
          "text": [
            "None\n"
          ],
          "name": "stdout"
        }
      ]
    },
    {
      "cell_type": "markdown",
      "metadata": {
        "id": "Nite7hp2qb46"
      },
      "source": [
        "def 함수(매개변수):\n",
        "\n",
        "  변수 = 초깃값\n",
        "  #여러가지 처리\n",
        "  \n",
        "  return 변수"
      ]
    },
    {
      "cell_type": "code",
      "metadata": {
        "colab": {
          "base_uri": "https://localhost:8080/"
        },
        "id": "22o5sp_zqVzc",
        "outputId": "2b2eebf1-bc19-4daf-e549-b8e210405ad9"
      },
      "source": [
        "#함수를 선언합니다.\n",
        "def sum_all(start,end):\n",
        "  #변수 선언\n",
        "  output = 0\n",
        "  #반복문을 돌려 숫자를 더합니다.\n",
        "  for i in range(start,end+1):\n",
        "    output +=i\n",
        "\n",
        "    #리턴합니다.\n",
        "  return output\n",
        "\n",
        "print(\"0 to 100:\", sum_all(0,100))\n",
        "print(\"0 to 1000:\",sum_all(0,1000))"
      ],
      "execution_count": null,
      "outputs": [
        {
          "output_type": "stream",
          "text": [
            "0 to 100: 5050\n",
            "0 to 1000: 500500\n"
          ],
          "name": "stdout"
        }
      ]
    },
    {
      "cell_type": "markdown",
      "metadata": {
        "id": "F4p2qyt-qfxa"
      },
      "source": [
        "##05-2.함수의 활용"
      ]
    },
    {
      "cell_type": "code",
      "metadata": {
        "colab": {
          "base_uri": "https://localhost:8080/"
        },
        "id": "A8EznG03qk0Y",
        "outputId": "e43a0398-9598-4d22-f1b7-0c4785c0c81d"
      },
      "source": [
        "#반복문으로 팩토리얼 구하기\n",
        "\n",
        "#함수를 선언합니다.\n",
        "def factorial(n):\n",
        "  #변수를 선언합니다.\n",
        "  output = 1\n",
        "  #반복문을 돌려 숫자를 더합니다.\n",
        "  for i in range(1,n+1):\n",
        "    output *= i\n",
        "  #리턴합니다.\n",
        "  return output\n",
        "\n",
        "#함수를 호출합니다.\n",
        "print(\"1!:\",factorial(1))\n",
        "print(\"2!:\",factorial(2))\n",
        "print(\"3!:\",factorial(3))"
      ],
      "execution_count": 1,
      "outputs": [
        {
          "output_type": "stream",
          "text": [
            "1!: 1\n",
            "2!: 2\n",
            "3!: 6\n"
          ],
          "name": "stdout"
        }
      ]
    },
    {
      "cell_type": "code",
      "metadata": {
        "colab": {
          "base_uri": "https://localhost:8080/"
        },
        "id": "282nPX-6q_Bt",
        "outputId": "64a1e9f8-373f-440f-f983-464271cd7f76"
      },
      "source": [
        "#재귀함수로 팩토리얼 구하기\n",
        "\n",
        "#함수를 선언합니다.\n",
        "def factorial(n):\n",
        "  #n이 0이라면 1을 리턴\n",
        "  if n == 0:\n",
        "    return 1\n",
        "  #n이 0이 아니라면 n*(n-1)!을 리턴\n",
        "  else:\n",
        "    return n*factorial(n-1)\n",
        "  \n",
        "print(\"1!:\",factorial(1))\n",
        "print(\"2!:\",factorial(2))\n",
        "print(\"3!:\",factorial(3))"
      ],
      "execution_count": 4,
      "outputs": [
        {
          "output_type": "stream",
          "text": [
            "1!: 1\n",
            "2!: 2\n",
            "3!: 6\n"
          ],
          "name": "stdout"
        }
      ]
    },
    {
      "cell_type": "code",
      "metadata": {
        "colab": {
          "base_uri": "https://localhost:8080/"
        },
        "id": "Mou5xgvnrddh",
        "outputId": "bdd77a61-ab07-4dd2-f74e-dbc098939f92"
      },
      "source": [
        "#재귀함수로 구현한 피보나치 수열(1)\n",
        "\n",
        "#함수를 선언합니다.\n",
        "def fibonacci(n):\n",
        "  if n==1:\n",
        "    return 1\n",
        "  if n==2:\n",
        "    return 1\n",
        "  else:\n",
        "    return fibonacci(n-1)+fibonacci(n-2)\n",
        "\n",
        "#함수를 호출합니다.\n",
        "print(\"fibonacci(1):\",fibonacci(1))\n",
        "print(\"fibonacci(2):\",fibonacci(2))\n",
        "print(\"fibonacci(3):\",fibonacci(3))\n",
        "print(\"fibonacci(4):\",fibonacci(4))\n",
        "print(\"fibonacci(5):\",fibonacci(5))\n",
        "print(fibonacci(35))    #오래걸령..."
      ],
      "execution_count": 6,
      "outputs": [
        {
          "output_type": "stream",
          "text": [
            "fibonacci(1): 1\n",
            "fibonacci(2): 1\n",
            "fibonacci(3): 2\n",
            "fibonacci(4): 3\n",
            "fibonacci(5): 5\n",
            "9227465\n"
          ],
          "name": "stdout"
        }
      ]
    },
    {
      "cell_type": "code",
      "metadata": {
        "colab": {
          "base_uri": "https://localhost:8080/"
        },
        "id": "r1T_17krsOtM",
        "outputId": "11b18b40-eeff-4e60-a9b2-a0d419609b98"
      },
      "source": [
        "#재귀함수로 구현한 피보나치 수열(2)\n",
        "\n",
        "#변수를 선언합니다.\n",
        "counter =0\n",
        "\n",
        "#함수를 선언합니다.\n",
        "def fibonacci(n):\n",
        "  #어떤 피보나치 수를 구하는지 출력.\n",
        "  print(\"fibonacci({})를 구합니다.\".format(n))\n",
        "  global counter\n",
        "  counter +=1\n",
        "  #피보나치 수를 구합니다.\n",
        "  if n==1:\n",
        "    return 1\n",
        "  if n==2:\n",
        "    return 1\n",
        "  else:\n",
        "    return fibonacci(n-1)+fibonacci(n-2)\n",
        "\n",
        "\n",
        "#함수를 호출합니다.\n",
        "fibonacci(10)\n",
        "print(\"---\")\n",
        "print(\"fibonacci(10) 계산에 활용된 덧셈 횟수는 {}번입니다.\".format(counter))"
      ],
      "execution_count": 7,
      "outputs": [
        {
          "output_type": "stream",
          "text": [
            "fibonacci(10)를 구합니다.\n",
            "fibonacci(9)를 구합니다.\n",
            "fibonacci(8)를 구합니다.\n",
            "fibonacci(7)를 구합니다.\n",
            "fibonacci(6)를 구합니다.\n",
            "fibonacci(5)를 구합니다.\n",
            "fibonacci(4)를 구합니다.\n",
            "fibonacci(3)를 구합니다.\n",
            "fibonacci(2)를 구합니다.\n",
            "fibonacci(1)를 구합니다.\n",
            "fibonacci(2)를 구합니다.\n",
            "fibonacci(3)를 구합니다.\n",
            "fibonacci(2)를 구합니다.\n",
            "fibonacci(1)를 구합니다.\n",
            "fibonacci(4)를 구합니다.\n",
            "fibonacci(3)를 구합니다.\n",
            "fibonacci(2)를 구합니다.\n",
            "fibonacci(1)를 구합니다.\n",
            "fibonacci(2)를 구합니다.\n",
            "fibonacci(5)를 구합니다.\n",
            "fibonacci(4)를 구합니다.\n",
            "fibonacci(3)를 구합니다.\n",
            "fibonacci(2)를 구합니다.\n",
            "fibonacci(1)를 구합니다.\n",
            "fibonacci(2)를 구합니다.\n",
            "fibonacci(3)를 구합니다.\n",
            "fibonacci(2)를 구합니다.\n",
            "fibonacci(1)를 구합니다.\n",
            "fibonacci(6)를 구합니다.\n",
            "fibonacci(5)를 구합니다.\n",
            "fibonacci(4)를 구합니다.\n",
            "fibonacci(3)를 구합니다.\n",
            "fibonacci(2)를 구합니다.\n",
            "fibonacci(1)를 구합니다.\n",
            "fibonacci(2)를 구합니다.\n",
            "fibonacci(3)를 구합니다.\n",
            "fibonacci(2)를 구합니다.\n",
            "fibonacci(1)를 구합니다.\n",
            "fibonacci(4)를 구합니다.\n",
            "fibonacci(3)를 구합니다.\n",
            "fibonacci(2)를 구합니다.\n",
            "fibonacci(1)를 구합니다.\n",
            "fibonacci(2)를 구합니다.\n",
            "fibonacci(7)를 구합니다.\n",
            "fibonacci(6)를 구합니다.\n",
            "fibonacci(5)를 구합니다.\n",
            "fibonacci(4)를 구합니다.\n",
            "fibonacci(3)를 구합니다.\n",
            "fibonacci(2)를 구합니다.\n",
            "fibonacci(1)를 구합니다.\n",
            "fibonacci(2)를 구합니다.\n",
            "fibonacci(3)를 구합니다.\n",
            "fibonacci(2)를 구합니다.\n",
            "fibonacci(1)를 구합니다.\n",
            "fibonacci(4)를 구합니다.\n",
            "fibonacci(3)를 구합니다.\n",
            "fibonacci(2)를 구합니다.\n",
            "fibonacci(1)를 구합니다.\n",
            "fibonacci(2)를 구합니다.\n",
            "fibonacci(5)를 구합니다.\n",
            "fibonacci(4)를 구합니다.\n",
            "fibonacci(3)를 구합니다.\n",
            "fibonacci(2)를 구합니다.\n",
            "fibonacci(1)를 구합니다.\n",
            "fibonacci(2)를 구합니다.\n",
            "fibonacci(3)를 구합니다.\n",
            "fibonacci(2)를 구합니다.\n",
            "fibonacci(1)를 구합니다.\n",
            "fibonacci(8)를 구합니다.\n",
            "fibonacci(7)를 구합니다.\n",
            "fibonacci(6)를 구합니다.\n",
            "fibonacci(5)를 구합니다.\n",
            "fibonacci(4)를 구합니다.\n",
            "fibonacci(3)를 구합니다.\n",
            "fibonacci(2)를 구합니다.\n",
            "fibonacci(1)를 구합니다.\n",
            "fibonacci(2)를 구합니다.\n",
            "fibonacci(3)를 구합니다.\n",
            "fibonacci(2)를 구합니다.\n",
            "fibonacci(1)를 구합니다.\n",
            "fibonacci(4)를 구합니다.\n",
            "fibonacci(3)를 구합니다.\n",
            "fibonacci(2)를 구합니다.\n",
            "fibonacci(1)를 구합니다.\n",
            "fibonacci(2)를 구합니다.\n",
            "fibonacci(5)를 구합니다.\n",
            "fibonacci(4)를 구합니다.\n",
            "fibonacci(3)를 구합니다.\n",
            "fibonacci(2)를 구합니다.\n",
            "fibonacci(1)를 구합니다.\n",
            "fibonacci(2)를 구합니다.\n",
            "fibonacci(3)를 구합니다.\n",
            "fibonacci(2)를 구합니다.\n",
            "fibonacci(1)를 구합니다.\n",
            "fibonacci(6)를 구합니다.\n",
            "fibonacci(5)를 구합니다.\n",
            "fibonacci(4)를 구합니다.\n",
            "fibonacci(3)를 구합니다.\n",
            "fibonacci(2)를 구합니다.\n",
            "fibonacci(1)를 구합니다.\n",
            "fibonacci(2)를 구합니다.\n",
            "fibonacci(3)를 구합니다.\n",
            "fibonacci(2)를 구합니다.\n",
            "fibonacci(1)를 구합니다.\n",
            "fibonacci(4)를 구합니다.\n",
            "fibonacci(3)를 구합니다.\n",
            "fibonacci(2)를 구합니다.\n",
            "fibonacci(1)를 구합니다.\n",
            "fibonacci(2)를 구합니다.\n",
            "---\n",
            "fibonacci(10) 계산에 활용된 덧셈 횟수는 109번입니다.\n"
          ],
          "name": "stdout"
        }
      ]
    },
    {
      "cell_type": "markdown",
      "metadata": {
        "id": "TFyGV3BSvdt6"
      },
      "source": [
        "함수 내부에서 함수 외부에 있는 변수 참조 하려면 \n",
        "\n",
        "global 변수이름"
      ]
    },
    {
      "cell_type": "code",
      "metadata": {
        "colab": {
          "base_uri": "https://localhost:8080/"
        },
        "id": "6zB-e7XvvGbA",
        "outputId": "2d61282b-9bf5-47ec-beac-aae5b841b456"
      },
      "source": [
        "#메모 변수를 만듭니다.\n",
        "dictionary = {\n",
        "    1: 1,\n",
        "    2: 2\n",
        "}\n",
        "\n",
        "#함수를 선언합니다.\n",
        "def fibonacci(n):\n",
        "  if n in dictionary:\n",
        "    #메모가 되어 있으면 메모값을 리턴\n",
        "    return dictionary[n]\n",
        "  else:\n",
        "    #메모가 되어 있지 않으면 값을 구함\n",
        "    output = fibonacci(n-1)+fibonacci(n-2)\n",
        "    dictionary[n] = output\n",
        "    return output\n",
        "\n",
        "#함수 호출\n",
        "print(fibonacci(10))"
      ],
      "execution_count": 8,
      "outputs": [
        {
          "output_type": "stream",
          "text": [
            "89\n"
          ],
          "name": "stdout"
        }
      ]
    },
    {
      "cell_type": "markdown",
      "metadata": {
        "id": "Z77llLbLzOtZ"
      },
      "source": [
        "##05-3.함수 고급"
      ]
    },
    {
      "cell_type": "markdown",
      "metadata": {
        "id": "uErvuYbdzOgU"
      },
      "source": [
        "튜플: 함수와 함께 많이 사용되는 리스트 비슷한 자료형, 한번 결정된 요소 변경x\n",
        "\n",
        "(데이터,데이터,데이터....)\n",
        "\n",
        "요소를 하나만 가지는건 (273, )같이 콤마 해줘야함."
      ]
    },
    {
      "cell_type": "code",
      "metadata": {
        "colab": {
          "base_uri": "https://localhost:8080/"
        },
        "id": "brZ8VdSsxH4v",
        "outputId": "e3bf9afc-bb58-4aaa-9e04-91b259b4c3ec"
      },
      "source": [
        "#괄호가 없는 튜플\n",
        "tuple_test =10,20,30,40\n",
        "print(\"#괄호가 없는 튜플의 값과 자료형 출력\")\n",
        "print(\"tuple_test:\",tuple_test)\n",
        "print(\"type(tuple_test):\",type(tuple_test))\n",
        "print()\n",
        "\n",
        "#괄호가 없는 튜플 활용\n",
        "a,b,c=10,20,30\n",
        "print(\"#괄호가 없는 튜플을 활용한 할당\")\n",
        "print(\"a:\",a)\n",
        "print(\"b:\",b)\n",
        "print(\"c:\",c)"
      ],
      "execution_count": 10,
      "outputs": [
        {
          "output_type": "stream",
          "text": [
            "#괄호가 없는 튜플의 값과 자료형 출력\n",
            "tuple_test: (10, 20, 30, 40)\n",
            "type(tuple_test): <class 'tuple'>\n",
            "\n",
            "#괄호가 없는 튜플을 활용한 할당\n",
            "a: 10\n",
            "b: 20\n",
            "c: 30\n"
          ],
          "name": "stdout"
        }
      ]
    },
    {
      "cell_type": "code",
      "metadata": {
        "colab": {
          "base_uri": "https://localhost:8080/"
        },
        "id": "xq8yN0Ir0oDV",
        "outputId": "d5fa5517-9bfa-464b-9317-1bd8a01c8ee8"
      },
      "source": [
        "a,b = 10,20\n",
        "\n",
        "print(\"# 교환 전 값\")\n",
        "print(\"a:\",a)\n",
        "print(\"b:\",b)\n",
        "print()\n",
        "\n",
        "#값을 교환합니다.\n",
        "a,b = b,a\n",
        "print(\"#교환 후 값\")\n",
        "print(\"a:\",a)\n",
        "print(\"b:\",b)\n",
        "print()"
      ],
      "execution_count": 11,
      "outputs": [
        {
          "output_type": "stream",
          "text": [
            "# 교환 전 값\n",
            "a: 10\n",
            "b: 20\n",
            "\n",
            "#교환 후 값\n",
            "a: 20\n",
            "b: 10\n",
            "\n"
          ],
          "name": "stdout"
        }
      ]
    },
    {
      "cell_type": "code",
      "metadata": {
        "colab": {
          "base_uri": "https://localhost:8080/"
        },
        "id": "ncshlRwQ1eKL",
        "outputId": "6e3b6cec-a5c6-417c-e4c1-83a5962428df"
      },
      "source": [
        "#함수를 선언합니다.\n",
        "def test():\n",
        "  return (10,20)\n",
        "\n",
        "a,b = test()\n",
        "\n",
        "#출력합니다.\n",
        "print(\"a:\",a)\n",
        "print(\"b:\",b)"
      ],
      "execution_count": 13,
      "outputs": [
        {
          "output_type": "stream",
          "text": [
            "a: 10\n",
            "b: 20\n"
          ],
          "name": "stdout"
        }
      ]
    },
    {
      "cell_type": "markdown",
      "metadata": {
        "id": "_DLG41yq5N58"
      },
      "source": [
        "람다 : 함수의 기능을 매개변수로 전달하는 기능"
      ]
    },
    {
      "cell_type": "code",
      "metadata": {
        "colab": {
          "base_uri": "https://localhost:8080/"
        },
        "id": "Ou1OGvvO1hSg",
        "outputId": "2090c3c3-9af1-4546-f277-4b1e31e1fcbe"
      },
      "source": [
        "#매개변수로 받은 함수를 10번 호출하는 함수\n",
        "def call_10_times(func):\n",
        "  for i in range(10):\n",
        "    func()\n",
        "\n",
        "#간단한 출력하는 함수\n",
        "def print_hello():\n",
        "  print(\"안녕하세얌\")\n",
        "\n",
        "\n",
        "#조합하기\n",
        "call_10_times(print_hello)"
      ],
      "execution_count": 14,
      "outputs": [
        {
          "output_type": "stream",
          "text": [
            "안녕하세얌\n",
            "안녕하세얌\n",
            "안녕하세얌\n",
            "안녕하세얌\n",
            "안녕하세얌\n",
            "안녕하세얌\n",
            "안녕하세얌\n",
            "안녕하세얌\n",
            "안녕하세얌\n",
            "안녕하세얌\n"
          ],
          "name": "stdout"
        }
      ]
    },
    {
      "cell_type": "markdown",
      "metadata": {
        "id": "qSV-uTGX5t3v"
      },
      "source": [
        "map(함수,리스트) : 리스트의 요소를 함수에 넣고 리턴된 값으로 새로운 리스트 구성\n",
        "\n",
        "filter(함수,리스트): 리스트의 요소를 함수에 넣고 리턴된 값이 true 인것으로 새로운 리스트 구성"
      ]
    },
    {
      "cell_type": "code",
      "metadata": {
        "colab": {
          "base_uri": "https://localhost:8080/"
        },
        "id": "H-RLiB1I5jCP",
        "outputId": "6f623d3e-c3a1-4610-e578-31882b7d2a99"
      },
      "source": [
        "#함수를 선언\n",
        "def power(item):\n",
        "  return item*item\n",
        "def under_3(item):\n",
        "  return item<3\n",
        "\n",
        "#변수를 선언합니다.\n",
        "list_input_a = [1,2,3,4,5]\n",
        "\n",
        "#map()함수를 사용\n",
        "output_a = map(power,list_input_a)\n",
        "print(\"#map()함수의 실행결과\")\n",
        "print(\"map(power,list_input_a):\",output_a)\n",
        "print(\"map(power,list_input_a):\",list(output_a))\n",
        "print()\n",
        "\n",
        "#filter()함수를 사용\n",
        "output_b = filter(under_3,list_input_a)\n",
        "print(\"#filter()함수의 실행결과\")\n",
        "print(\"filter(under_3,list_input_a):\",output_b)\n",
        "print(\"filter(under_3,list_input_a):\",list(output_b))\n"
      ],
      "execution_count": 15,
      "outputs": [
        {
          "output_type": "stream",
          "text": [
            "#map()함수의 실행결과\n",
            "map(power,list_input_a): <map object at 0x7f45dd76c0d0>\n",
            "map(power,list_input_a): [1, 4, 9, 16, 25]\n",
            "\n",
            "#filter()함수의 실행결과\n",
            "filter(under_3,list_input_a): <filter object at 0x7f45e7a595d0>\n",
            "filter(under_3,list_input_a): [1, 2]\n"
          ],
          "name": "stdout"
        }
      ]
    },
    {
      "cell_type": "markdown",
      "metadata": {
        "id": "RDvU4bch8zwW"
      },
      "source": [
        "람다, 간단한 함수를 쉽게 선언하는 방법\n",
        "\n",
        "\n",
        "lambda 매개변수 : 리턴값"
      ]
    },
    {
      "cell_type": "code",
      "metadata": {
        "colab": {
          "base_uri": "https://localhost:8080/"
        },
        "id": "xLAF2LeX7K2R",
        "outputId": "d1519ba4-1370-4110-96d5-46a5eba8ec09"
      },
      "source": [
        "#함수를 선언합니다.\n",
        "power = lambda x: x*x\n",
        "under_3 = lambda x: x<3\n",
        "\n",
        "#변수를 선언합니다.\n",
        "list_input_a = [1,2,3,4,5]\n",
        "\n",
        "#map()함수를 사용합니당..\n",
        "output_a = map(power,list_input_a)\n",
        "print(list(output_a))\n",
        "print()\n",
        "\n",
        "#filter()함수를 사용합니당...\n",
        "output_b = filter(under_3,list_input_a)\n",
        "print(list(output_b))\n",
        "print()"
      ],
      "execution_count": 17,
      "outputs": [
        {
          "output_type": "stream",
          "text": [
            "[1, 4, 9, 16, 25]\n",
            "\n",
            "[1, 2]\n",
            "\n"
          ],
          "name": "stdout"
        }
      ]
    },
    {
      "cell_type": "code",
      "metadata": {
        "colab": {
          "base_uri": "https://localhost:8080/"
        },
        "id": "BUZ5kwae9XQd",
        "outputId": "b85eb88e-89ae-405f-d540-c8d702e21a93"
      },
      "source": [
        "#인라인 람다\n",
        "\n",
        "#변수 선언\n",
        "list_input_a = [1,2,3,4,5]\n",
        "\n",
        "#map()함수\n",
        "output_a = map(lambda x: x*x,list_input_a)\n",
        "print(list(output_a))\n",
        "print()\n",
        "\n",
        "\n",
        "#filter()함수\n",
        "output_b = filter(lambda x: x<3,list_input_a)\n",
        "print(list(output_b))"
      ],
      "execution_count": 18,
      "outputs": [
        {
          "output_type": "stream",
          "text": [
            "[1, 4, 9, 16, 25]\n",
            "\n",
            "[1, 2]\n"
          ],
          "name": "stdout"
        }
      ]
    },
    {
      "cell_type": "markdown",
      "metadata": {
        "id": "zlBmk0sO_Yxh"
      },
      "source": [
        "**파일처리**\n",
        "\n",
        "파일 열때: 파일 객체 = open(문자열:파일경로,문자열:모드)\n",
        "- w:write모드\n",
        "- a:append모드\n",
        "- r: read모드\n",
        "\n",
        "파일 닫을 때: 파일 객체.close()"
      ]
    },
    {
      "cell_type": "markdown",
      "metadata": {
        "id": "lyI7b6GCC_Js"
      },
      "source": [
        "파일객체.write(\"쓸말\")\n",
        "\n",
        "파일객체.read()"
      ]
    },
    {
      "cell_type": "markdown",
      "metadata": {
        "id": "HOjuhOmzARqz"
      },
      "source": [
        "with open(파일경로,모드) as 파일 객체:\n",
        "\n",
        "    문장"
      ]
    },
    {
      "cell_type": "code",
      "metadata": {
        "id": "xrj7KP6FCqxX"
      },
      "source": [
        "#파일을 엽니다.\n",
        "with open(\"basic.txt\",\"w\") as file:\n",
        "  #파일에 텍스트를 씁니다.\n",
        "  file.write(\"Hello\")   #이러면 with구문이 종료될때 파일이 자동으로 닫힘."
      ],
      "execution_count": null,
      "outputs": []
    },
    {
      "cell_type": "code",
      "metadata": {
        "id": "640aanvfC2Ri"
      },
      "source": [
        "#파일을 엽니다.\n",
        "with open(\"basic.txt\",\"r\") as file:\n",
        "  contents = file.read()\n",
        "print(contents)"
      ],
      "execution_count": null,
      "outputs": []
    },
    {
      "cell_type": "code",
      "metadata": {
        "id": "6bdt_rB-EoxC"
      },
      "source": [
        "import random\n",
        "\n",
        "hanguls = list(\"가나다라마바사아자차카타파하\")\n",
        "\n",
        "with open(\"info.txt\",\"w\") as file:\n",
        "    for i in range(1000):\n",
        "        name = random.choice(hanguls) + random.choice(hanguls)\n",
        "        weight = random.randrange(40,100)\n",
        "        height = random.randrange(140,200)\n",
        "\n",
        "        file.write(\"{},{},{}\\n\".format(name,weight,height))\n"
      ],
      "execution_count": null,
      "outputs": []
    },
    {
      "cell_type": "markdown",
      "metadata": {
        "id": "jsTn3q0kEv5E"
      },
      "source": [
        "for 한줄을 나타내는 문자열 in 파일 객체:\n",
        "\n",
        "    처리"
      ]
    },
    {
      "cell_type": "code",
      "metadata": {
        "id": "UJaCqVkLEz8B"
      },
      "source": [
        "with open(\"info.txt\",\"r\") as file:\n",
        "    for line in file:\n",
        "        (name,weight,height) = line.strip().split(\",\")    #strip는 문자열 공백 없애는거 split는 , 기준으로 나누는거..\n",
        "\n",
        "        #데이터가 문제 없는지 확인: 문제있으면 지나감\n",
        "        if (not name) or (not weight) or (not height):\n",
        "            continue\n",
        "        #결과 계산\n",
        "        bmi = int(weight)/((int(height)/100)**2)\n",
        "        result = \"\"\n",
        "        if 25<=bmi:\n",
        "            result = \"과체중\"\n",
        "        elif 18.5<=bmi:\n",
        "            result = \"정상체중\"\n",
        "        else:\n",
        "            result = \"저체중\"\n",
        "\n",
        "\n",
        "        #출력합니다.\n",
        "        print('\\n'.join([\n",
        "            \"이름:{}\",\n",
        "            \"몸무게:{}\",\n",
        "            \"키:{}\",\n",
        "            \"BMI:{}\",\n",
        "            \"결과:{}\"\n",
        "            ]).format(name,weight,height,bmi,result))\n",
        "        print()\n"
      ],
      "execution_count": null,
      "outputs": []
    }
  ]
}