{
  "nbformat": 4,
  "nbformat_minor": 0,
  "metadata": {
    "colab": {
      "name": "4-1",
      "provenance": []
    },
    "kernelspec": {
      "name": "python3",
      "display_name": "Python 3"
    },
    "language_info": {
      "name": "python"
    }
  },
  "cells": [
    {
      "cell_type": "markdown",
      "metadata": {
        "id": "M-66LjZx5Ohc"
      },
      "source": [
        "##04-1.리스트와 반복문"
      ]
    },
    {
      "cell_type": "markdown",
      "metadata": {
        "id": "MCNYLpJB4FGp"
      },
      "source": [
        "**리스트에 요소 추가하기**\n",
        "\n",
        "리스트명.append(요소)\n",
        "\n",
        "리스트명.insert(위치,요소)"
      ]
    },
    {
      "cell_type": "code",
      "metadata": {
        "colab": {
          "base_uri": "https://localhost:8080/"
        },
        "id": "hA2ssXvz3LoA",
        "outputId": "83b6b527-cc2a-43a6-9b65-116d178e69ce"
      },
      "source": [
        "#리스트를 선언합니다.\n",
        "list_a=[1,2,3]\n",
        "\n",
        "#리스트 뒤에 요소 추가하기.\n",
        "print(\"#리스트 뒤에 요소 추가하기\")\n",
        "list_a.append(4)\n",
        "list_a.append(5)\n",
        "print(list_a)\n",
        "print()\n",
        "\n",
        "#리스트 중간에 요소 추가하기\n",
        "print(\"#리스트 중간에 요소 추가하기\")\n",
        "list_a.insert(0,10)\n",
        "print(list_a)"
      ],
      "execution_count": 1,
      "outputs": [
        {
          "output_type": "stream",
          "text": [
            "#리스트 뒤에 요소 추가하기\n",
            "[1, 2, 3, 4, 5]\n",
            "\n",
            "#리스트 중간에 요소 추가하기\n",
            "[10, 1, 2, 3, 4, 5]\n"
          ],
          "name": "stdout"
        }
      ]
    },
    {
      "cell_type": "markdown",
      "metadata": {
        "id": "FgbPOF-P4usf"
      },
      "source": [
        "리스트명.extend([여러요소])"
      ]
    },
    {
      "cell_type": "code",
      "metadata": {
        "colab": {
          "base_uri": "https://localhost:8080/"
        },
        "id": "4wTK1QlB4lAD",
        "outputId": "fa68f834-97f3-4987-e5aa-840e3c637cc6"
      },
      "source": [
        "list_a= [1,2,3]\n",
        "list_a.extend([4,5,6])\n",
        "print(list_a)   #append함수를 세번 반복 실행한 효과"
      ],
      "execution_count": 2,
      "outputs": [
        {
          "output_type": "stream",
          "text": [
            "[1, 2, 3, 4, 5, 6]\n"
          ],
          "name": "stdout"
        }
      ]
    },
    {
      "cell_type": "markdown",
      "metadata": {
        "id": "c2dGmnX55HEn"
      },
      "source": [
        "**리스트 요소 제거**\n",
        "\n",
        "del 리스트명[인덱스]\n",
        "\n",
        "리스트명.pop(인덱스)       >pop()의 매개변수에 아무것도 입력안하면 -1로 자동 인식해서 마지막 요소를 제거"
      ]
    },
    {
      "cell_type": "code",
      "metadata": {
        "colab": {
          "base_uri": "https://localhost:8080/"
        },
        "id": "5VwuI4D14-Ij",
        "outputId": "acac6ec0-ad0f-4755-c84a-33f73fb8f8f1"
      },
      "source": [
        "list_a = [0,1,2,3,4,5]\n",
        "print(\"#리스트의 요소 하나 제거하기\")\n",
        "\n",
        "# 제거 방법[1]-del\n",
        "del list_a[1]\n",
        "print(\"del list_a[1]:\",list_a)\n",
        "\n",
        "# 제거 방법[2]-pop()\n",
        "list_a.pop(2)\n",
        "print(\"pop(2): \",list_a)"
      ],
      "execution_count": 3,
      "outputs": [
        {
          "output_type": "stream",
          "text": [
            "#리스트의 요소 하나 제거하기\n",
            "del list_a[1]: [0, 2, 3, 4, 5]\n",
            "pop(2):  [0, 2, 4, 5]\n"
          ],
          "name": "stdout"
        }
      ]
    },
    {
      "cell_type": "markdown",
      "metadata": {
        "id": "koVfIX5Z6DXT"
      },
      "source": [
        "리스트.remove(값)"
      ]
    },
    {
      "cell_type": "code",
      "metadata": {
        "colab": {
          "base_uri": "https://localhost:8080/"
        },
        "id": "Bn8-fbPz5tLe",
        "outputId": "018db117-67c8-4363-8722-e2f193bebaf1"
      },
      "source": [
        "list_c = [1,2,1,2]\n",
        "list_c.remove(2)\n",
        "list_c"
      ],
      "execution_count": 7,
      "outputs": [
        {
          "output_type": "execute_result",
          "data": {
            "text/plain": [
              "[1, 1, 2]"
            ]
          },
          "metadata": {
            "tags": []
          },
          "execution_count": 7
        }
      ]
    },
    {
      "cell_type": "markdown",
      "metadata": {
        "id": "o1J4z3yv6Trk"
      },
      "source": [
        "모두 없앨때는 \n",
        "\n",
        "리스트.clear()"
      ]
    },
    {
      "cell_type": "code",
      "metadata": {
        "colab": {
          "base_uri": "https://localhost:8080/"
        },
        "id": "MInBdwe26LpJ",
        "outputId": "7b1b5271-f44f-47b6-ded8-8b093419316c"
      },
      "source": [
        "list_d = [0,1,2,3,4,5]\n",
        "list_d.clear()\n",
        "list_d"
      ],
      "execution_count": 8,
      "outputs": [
        {
          "output_type": "execute_result",
          "data": {
            "text/plain": [
              "[]"
            ]
          },
          "metadata": {
            "tags": []
          },
          "execution_count": 8
        }
      ]
    },
    {
      "cell_type": "markdown",
      "metadata": {
        "id": "9Nl8bnb-GSEw"
      },
      "source": [
        "**리스트 내부에 있는지 확인하기**\n",
        "\n",
        "값 in 리스트//값 not in 리스트"
      ]
    },
    {
      "cell_type": "code",
      "metadata": {
        "colab": {
          "base_uri": "https://localhost:8080/"
        },
        "id": "cJi-Z--76aOY",
        "outputId": "3d5c81ac-f41b-4434-cd16-4c2e717757d4"
      },
      "source": [
        "list_a=[273,32,103,57,52]\n",
        "print(273 in list_a)\n",
        "print(99 not in list_a)"
      ],
      "execution_count": 11,
      "outputs": [
        {
          "output_type": "stream",
          "text": [
            "True\n",
            "True\n"
          ],
          "name": "stdout"
        }
      ]
    },
    {
      "cell_type": "markdown",
      "metadata": {
        "id": "y3oYBw_lGwZ0"
      },
      "source": [
        "for 반복자 in 반복할 수 있는 것:\n",
        "    \n",
        "    코드"
      ]
    },
    {
      "cell_type": "code",
      "metadata": {
        "colab": {
          "base_uri": "https://localhost:8080/"
        },
        "id": "BH-pI7PaGiDE",
        "outputId": "5f96c0cc-4740-49f7-87e9-158298d25d25"
      },
      "source": [
        "#리스트를 선언합니다.\n",
        "array=[273,32,103,57,52]\n",
        "\n",
        "#리스트에 반복문을 적용합니다.\n",
        "for element in array:\n",
        "  print(element)"
      ],
      "execution_count": 12,
      "outputs": [
        {
          "output_type": "stream",
          "text": [
            "273\n",
            "32\n",
            "103\n",
            "57\n",
            "52\n"
          ],
          "name": "stdout"
        }
      ]
    },
    {
      "cell_type": "markdown",
      "metadata": {
        "id": "2bCLVhhkHHWc"
      },
      "source": [
        ""
      ]
    },
    {
      "cell_type": "code",
      "metadata": {
        "id": "1ydhO92aG9xD"
      },
      "source": [
        ""
      ],
      "execution_count": null,
      "outputs": []
    }
  ]
}