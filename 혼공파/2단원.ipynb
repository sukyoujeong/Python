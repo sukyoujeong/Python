{
  "nbformat": 4,
  "nbformat_minor": 0,
  "metadata": {
    "colab": {
      "name": "혼공파2.ipynb",
      "provenance": []
    },
    "kernelspec": {
      "name": "python3",
      "display_name": "Python 3"
    },
    "language_info": {
      "name": "python"
    }
  },
  "cells": [
    {
      "cell_type": "code",
      "metadata": {
        "colab": {
          "base_uri": "https://localhost:8080/"
        },
        "id": "UyoqRsovMSEP",
        "outputId": "b7a1bf01-b6c8-47e8-bb1d-9b194cc9257e"
      },
      "source": [
        "print(\"Hello! Python Programming...\")"
      ],
      "execution_count": null,
      "outputs": [
        {
          "output_type": "stream",
          "text": [
            "Hello! Python Programming...\n"
          ],
          "name": "stdout"
        }
      ]
    },
    {
      "cell_type": "code",
      "metadata": {
        "colab": {
          "base_uri": "https://localhost:8080/"
        },
        "id": "yoUeJbcYMVz2",
        "outputId": "df65678d-0f0c-4675-af36-70ea90c21906"
      },
      "source": [
        "print(52)"
      ],
      "execution_count": null,
      "outputs": [
        {
          "output_type": "stream",
          "text": [
            "52\n"
          ],
          "name": "stdout"
        }
      ]
    },
    {
      "cell_type": "code",
      "metadata": {
        "colab": {
          "base_uri": "https://localhost:8080/"
        },
        "id": "d5X9xCz-Med7",
        "outputId": "16046d87-3806-4c2d-a226-9fc3bf74b229"
      },
      "source": [
        "print(\"안녕하세요\",\"저의\",\"이름은\")"
      ],
      "execution_count": null,
      "outputs": [
        {
          "output_type": "stream",
          "text": [
            "안녕하세요 저의 이름은\n"
          ],
          "name": "stdout"
        }
      ]
    },
    {
      "cell_type": "code",
      "metadata": {
        "colab": {
          "base_uri": "https://localhost:8080/"
        },
        "id": "7PvNReUkMjDI",
        "outputId": "826a699a-03eb-4fbe-8746-b98efcda6844"
      },
      "source": [
        "print()"
      ],
      "execution_count": null,
      "outputs": [
        {
          "output_type": "stream",
          "text": [
            "\n"
          ],
          "name": "stdout"
        }
      ]
    },
    {
      "cell_type": "code",
      "metadata": {
        "colab": {
          "base_uri": "https://localhost:8080/"
        },
        "id": "WuyIObSjMmG1",
        "outputId": "b02bf7d7-32f9-4863-ddc8-45de17209fcb"
      },
      "source": [
        "#하나만 출력합니다.\n",
        "print(\"# 하나만 출력합니다.\")\n",
        "print(\"HELLO\")"
      ],
      "execution_count": null,
      "outputs": [
        {
          "output_type": "stream",
          "text": [
            "# 하나만 출력합니다.\n",
            "HELLO\n"
          ],
          "name": "stdout"
        }
      ]
    },
    {
      "cell_type": "code",
      "metadata": {
        "colab": {
          "base_uri": "https://localhost:8080/"
        },
        "id": "_IhE5jGHMt2C",
        "outputId": "96e32899-d61b-4d84-e090-0c2c0a00a7ae"
      },
      "source": [
        "print(type(\"안녕하세요\"))"
      ],
      "execution_count": null,
      "outputs": [
        {
          "output_type": "stream",
          "text": [
            "<class 'str'>\n"
          ],
          "name": "stdout"
        }
      ]
    },
    {
      "cell_type": "code",
      "metadata": {
        "colab": {
          "base_uri": "https://localhost:8080/"
        },
        "id": "pZkGBZOrOdEF",
        "outputId": "da27cba3-ce18-43b5-b8a2-4b68e9c0711c"
      },
      "source": [
        "print(type(25))"
      ],
      "execution_count": null,
      "outputs": [
        {
          "output_type": "stream",
          "text": [
            "<class 'int'>\n"
          ],
          "name": "stdout"
        }
      ]
    },
    {
      "cell_type": "code",
      "metadata": {
        "colab": {
          "base_uri": "https://localhost:8080/"
        },
        "id": "9wsSPV3JOfDi",
        "outputId": "a204e10a-ff2a-417e-e162-7d1bd093453a"
      },
      "source": [
        "print(\"\"\"동해물과 백두산이\n",
        "마르고 닳도록\n",
        "하느님이 보우ㅏㅎ사\n",
        "우리나라만세\"\"\")\n",
        "\n",
        "#따옴표 3개면 줄바꿈 알아서 해줌"
      ],
      "execution_count": null,
      "outputs": [
        {
          "output_type": "stream",
          "text": [
            "동해물과 백두산이\n",
            "마르고 닳도록\n",
            "하느님이 보우ㅏㅎ사\n",
            "우리나라만세\n"
          ],
          "name": "stdout"
        }
      ]
    },
    {
      "cell_type": "code",
      "metadata": {
        "colab": {
          "base_uri": "https://localhost:8080/"
        },
        "id": "sa158K4AO-yw",
        "outputId": "b75ea105-2d55-4652-a902-95aafd0fced3"
      },
      "source": [
        "print(\"\"\"\n",
        "동해물과\n",
        "백두산이\n",
        "마루고 닳\n",
        "도록\n",
        "\"\"\")\n",
        "\n",
        "print(\"\"\"\\\n",
        "동해물과\n",
        "백두산이\n",
        "마르고 닳도록\\\n",
        "\"\"\")\n",
        "\n",
        "# 백슬래쉬로 의도치않은 띄우기 방지!"
      ],
      "execution_count": null,
      "outputs": [
        {
          "output_type": "stream",
          "text": [
            "\n",
            "동해물과\n",
            "백두산이\n",
            "마루고 닳\n",
            "도록\n",
            "\n",
            "동해물과\n",
            "백두산이\n",
            "마르고 닳도록\n"
          ],
          "name": "stdout"
        }
      ]
    },
    {
      "cell_type": "code",
      "metadata": {
        "colab": {
          "base_uri": "https://localhost:8080/"
        },
        "id": "b6CiEdfDPX_x",
        "outputId": "3b04f97e-7bc4-402c-a0a9-f98a4e24eab0"
      },
      "source": [
        "print(\"안녕\"+\"하삼\")"
      ],
      "execution_count": null,
      "outputs": [
        {
          "output_type": "stream",
          "text": [
            "안녕하삼\n"
          ],
          "name": "stdout"
        }
      ]
    },
    {
      "cell_type": "code",
      "metadata": {
        "colab": {
          "base_uri": "https://localhost:8080/"
        },
        "id": "evSyP5FAPxpN",
        "outputId": "f1187257-c160-42c3-bf0f-0b5d468464cf"
      },
      "source": [
        "print(\"안녕하세요\"[0])\n",
        "print(\"안녕하세요\"[1])"
      ],
      "execution_count": null,
      "outputs": [
        {
          "output_type": "stream",
          "text": [
            "안\n",
            "녕\n"
          ],
          "name": "stdout"
        }
      ]
    },
    {
      "cell_type": "code",
      "metadata": {
        "colab": {
          "base_uri": "https://localhost:8080/"
        },
        "id": "CUZKP0qPP-PS",
        "outputId": "dac919c6-f946-4e8f-c5e1-39cd3451e96b"
      },
      "source": [
        "print(\"안녕하세요\"[-1])"
      ],
      "execution_count": null,
      "outputs": [
        {
          "output_type": "stream",
          "text": [
            "요\n"
          ],
          "name": "stdout"
        }
      ]
    },
    {
      "cell_type": "code",
      "metadata": {
        "colab": {
          "base_uri": "https://localhost:8080/"
        },
        "id": "4WOPIjpRQCgS",
        "outputId": "20def052-e6a2-4ba0-d174-149b1d9374b5"
      },
      "source": [
        "print(\"안녕하세요\"[1:3])"
      ],
      "execution_count": null,
      "outputs": [
        {
          "output_type": "stream",
          "text": [
            "녕하\n"
          ],
          "name": "stdout"
        }
      ]
    },
    {
      "cell_type": "code",
      "metadata": {
        "colab": {
          "base_uri": "https://localhost:8080/"
        },
        "id": "VS3wI9TEQGJy",
        "outputId": "00fc602f-a982-47b9-b890-35d7e87f933e"
      },
      "source": [
        "print(\"안녕하세\"[:3])"
      ],
      "execution_count": null,
      "outputs": [
        {
          "output_type": "stream",
          "text": [
            "안녕하\n"
          ],
          "name": "stdout"
        }
      ]
    },
    {
      "cell_type": "code",
      "metadata": {
        "colab": {
          "base_uri": "https://localhost:8080/"
        },
        "id": "hA2zf68oQPRu",
        "outputId": "e86ec80d-93f9-48f9-c9f0-446d93f997ed"
      },
      "source": [
        "hello=\"안녕하세요\"\n",
        "print(hello[0:2])\n",
        "print(hello)"
      ],
      "execution_count": null,
      "outputs": [
        {
          "output_type": "stream",
          "text": [
            "안녕\n",
            "안녕하세요\n"
          ],
          "name": "stdout"
        }
      ]
    },
    {
      "cell_type": "code",
      "metadata": {
        "colab": {
          "base_uri": "https://localhost:8080/"
        },
        "id": "mkUTShl_QdP4",
        "outputId": "6cff6860-52a3-477f-dc24-ff1b2beaa8ba"
      },
      "source": [
        "print(len(\"안녕하세요\"))\n",
        "\n",
        "#len()은 문자의개수 세주는것"
      ],
      "execution_count": null,
      "outputs": [
        {
          "output_type": "stream",
          "text": [
            "5\n"
          ],
          "name": "stdout"
        }
      ]
    },
    {
      "cell_type": "code",
      "metadata": {
        "colab": {
          "base_uri": "https://localhost:8080/"
        },
        "id": "LGXfFxCGQm02",
        "outputId": "7386aa14-f68a-4044-ebf7-e3bea9038a86"
      },
      "source": [
        "print(3//2)\n",
        "print(3/2)\n",
        "\n",
        "#//는 몫만..."
      ],
      "execution_count": null,
      "outputs": [
        {
          "output_type": "stream",
          "text": [
            "1\n",
            "1.5\n"
          ],
          "name": "stdout"
        }
      ]
    },
    {
      "cell_type": "code",
      "metadata": {
        "colab": {
          "base_uri": "https://localhost:8080/"
        },
        "id": "xwehWulHRNw0",
        "outputId": "4c66903c-c667-4130-87c0-c5a1f9b96a61"
      },
      "source": [
        "number=100\n",
        "number+=10\n",
        "number+=20\n",
        "number+=30\n",
        "print(number)"
      ],
      "execution_count": null,
      "outputs": [
        {
          "output_type": "stream",
          "text": [
            "160\n"
          ],
          "name": "stdout"
        }
      ]
    },
    {
      "cell_type": "code",
      "metadata": {
        "colab": {
          "base_uri": "https://localhost:8080/"
        },
        "id": "aemtlbYoT4Aa",
        "outputId": "f366c1aa-e387-40b0-ac86-ecd64f67719e"
      },
      "source": [
        "string = \"안녕하세요\"\n",
        "string+=\"!\"\n",
        "string+=\"!\"\n",
        "print(string)"
      ],
      "execution_count": null,
      "outputs": [
        {
          "output_type": "stream",
          "text": [
            "안녕하세요!!\n"
          ],
          "name": "stdout"
        }
      ]
    },
    {
      "cell_type": "code",
      "metadata": {
        "colab": {
          "base_uri": "https://localhost:8080/",
          "height": 55
        },
        "id": "xRC5hSHsUEHw",
        "outputId": "9e81cbd5-9568-45e6-8d20-a1f1be6db3a4"
      },
      "source": [
        "input(\"인사말을 입력하세요\")"
      ],
      "execution_count": null,
      "outputs": [
        {
          "output_type": "stream",
          "text": [
            "인사말을 입력하세요하ㅣ\n"
          ],
          "name": "stdout"
        },
        {
          "output_type": "execute_result",
          "data": {
            "application/vnd.google.colaboratory.intrinsic+json": {
              "type": "string"
            },
            "text/plain": [
              "'하ㅣ'"
            ]
          },
          "metadata": {
            "tags": []
          },
          "execution_count": 22
        }
      ]
    },
    {
      "cell_type": "code",
      "metadata": {
        "colab": {
          "base_uri": "https://localhost:8080/"
        },
        "id": "u56sP4xLUJQ-",
        "outputId": "24350d5a-900b-4e7e-d86d-fc0345830ac8"
      },
      "source": [
        "string=input(\"인사말을 입력하세요\")\n",
        "print(string)"
      ],
      "execution_count": null,
      "outputs": [
        {
          "output_type": "stream",
          "text": [
            "인사말을 입력하세요ㅎㅇㅎㅇ\n",
            "ㅎㅇㅎㅇ\n"
          ],
          "name": "stdout"
        }
      ]
    },
    {
      "cell_type": "code",
      "metadata": {
        "colab": {
          "base_uri": "https://localhost:8080/"
        },
        "id": "z3jNiaSUUO1M",
        "outputId": "e40412aa-c085-42bf-c1d4-3ad231d07f0e"
      },
      "source": [
        "print(type(string))"
      ],
      "execution_count": null,
      "outputs": [
        {
          "output_type": "stream",
          "text": [
            "<class 'str'>\n"
          ],
          "name": "stdout"
        }
      ]
    },
    {
      "cell_type": "code",
      "metadata": {
        "colab": {
          "base_uri": "https://localhost:8080/"
        },
        "id": "y1vBJZpvUVTb",
        "outputId": "67e25df2-02fd-497d-9223-43760c3ad095"
      },
      "source": [
        "number = input(\"숫자룰입력\")\n",
        "print(type(number))\n",
        "\n",
        "#input함수는 무엇을 입력해도 문자열 자료형임"
      ],
      "execution_count": null,
      "outputs": [
        {
          "output_type": "stream",
          "text": [
            "숫자룰입력1234\n",
            "<class 'str'>\n"
          ],
          "name": "stdout"
        }
      ]
    },
    {
      "cell_type": "code",
      "metadata": {
        "colab": {
          "base_uri": "https://localhost:8080/"
        },
        "id": "278FWx0yUdiZ",
        "outputId": "ec0d1bac-ebd2-489b-a7f2-b4fd81052e63"
      },
      "source": [
        "int(52.273)"
      ],
      "execution_count": null,
      "outputs": [
        {
          "output_type": "execute_result",
          "data": {
            "text/plain": [
              "52"
            ]
          },
          "metadata": {
            "tags": []
          },
          "execution_count": 26
        }
      ]
    },
    {
      "cell_type": "code",
      "metadata": {
        "colab": {
          "base_uri": "https://localhost:8080/"
        },
        "id": "KyhgdeOea_sR",
        "outputId": "57bc35a3-1479-4b65-a359-021f9d8035da"
      },
      "source": [
        "output_h = \"{:+5d}\".format(52)   #기호을 뒤로밀기\n",
        "output_i = \"{:+5d}\".format(-52)   \n",
        "\n",
        "output_j=\"{:=+5d}\".format(52) #기호를 앞으로 밀기\n",
        "\n",
        "output_l=\"{:+05d}\".format(52)   #0으로 채우기\n",
        "\n",
        "print(output_h)\n",
        "print(output_i)\n",
        "print(output_j)\n",
        "print(output_l)\n"
      ],
      "execution_count": null,
      "outputs": [
        {
          "output_type": "stream",
          "text": [
            "  +52\n",
            "  -52\n",
            "+  52\n",
            "+0052\n"
          ],
          "name": "stdout"
        }
      ]
    },
    {
      "cell_type": "code",
      "metadata": {
        "colab": {
          "base_uri": "https://localhost:8080/"
        },
        "id": "-RrfNiBrbBm8",
        "outputId": "b032e040-6b07-4bdf-e628-37d18647e89c"
      },
      "source": [
        "input_a = \"\"\"\n",
        "    안녕하세요\n",
        "문자열의 함수를 알아봅시다\n",
        "\"\"\"\n",
        "print(input_a)\n",
        "print(input_a.strip())    #strip(): 문자열 양옆의 공백 없앰"
      ],
      "execution_count": null,
      "outputs": [
        {
          "output_type": "stream",
          "text": [
            "\n",
            "    안녕하세요\n",
            "문자열의 함수를 알아봅시다\n",
            "\n",
            "안녕하세요\n",
            "문자열의 함수를 알아봅시다\n"
          ],
          "name": "stdout"
        }
      ]
    },
    {
      "cell_type": "code",
      "metadata": {
        "id": "10pWgLxJdVgT"
      },
      "source": [
        ""
      ],
      "execution_count": null,
      "outputs": []
    }
  ]
}